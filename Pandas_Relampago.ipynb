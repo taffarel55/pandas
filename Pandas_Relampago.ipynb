{
 "cells": [
  {
   "cell_type": "markdown",
   "metadata": {
    "id": "zSjB5W4GFgt-"
   },
   "source": [
    "# **Python Relâmpago** #\n",
    "\n",
    "Todo conteúdo produzido para esse notebook foi retirado e adaptado por Maurício Taffarel, do [Curso de Pandas do Kaggle](https://www.kaggle.com/learn/pandas), basicamente uma tradução adaptada e modificada com um dataset BR.\n",
    "\n",
    "Esse notebook poderá não ser atualizado frequentemente."
   ]
  },
  {
   "cell_type": "markdown",
   "metadata": {
    "id": "xj7gEzo5F70M"
   },
   "source": [
    "# **Criação, Leitura e Escrita** #"
   ]
  },
  {
   "cell_type": "markdown",
   "metadata": {
    "id": "jECHJA83GwWk"
   },
   "source": [
    "**O que é o Pandas?**\n",
    "\n",
    "O pandas é uma ferramenta de análise e manipulação de dados de código aberto rápida, poderosa, flexível e fácil de usar, construído com base na linguagem de programação Python.\n",
    "[$^1$](https://pandas.pydata.org/)\n",
    "\n",
    "**Por que Pandas?**\n",
    "\n",
    "Pandas tem sido uma das ferramentas de ciência de dados mais populares e favoritas usadas na linguagem de programação Python para análise e preparação de dados.\n",
    "\n",
    "Os dados são inevitavelmente confusos no mundo real. E o Pandas é realmente uma virada de jogo quando se trata de limpar, transformar, manipular e analisar dados. Em termos simples, o Pandas ajuda a limpar a bagunça.[$^2$](https://towardsdatascience.com/why-and-how-to-use-pandas-with-large-data-9594dda2ea4c)"
   ]
  },
  {
   "cell_type": "markdown",
   "metadata": {
    "id": "m1T_JgjwKuhQ"
   },
   "source": [
    "### **Importando o pandas** ###"
   ]
  },
  {
   "cell_type": "markdown",
   "metadata": {
    "id": "hnE3499lK-2i"
   },
   "source": [
    "Para importar o pandas no python, basta utilizar o seguinte comando:"
   ]
  },
  {
   "cell_type": "code",
   "execution_count": 1,
   "metadata": {
    "id": "6iAKrv95LHYf"
   },
   "outputs": [],
   "source": [
    "import pandas as pd"
   ]
  },
  {
   "cell_type": "markdown",
   "metadata": {},
   "source": [
    "Pode ser necessário instalar o pandas antes!"
   ]
  },
  {
   "cell_type": "markdown",
   "metadata": {
    "id": "Ovotdj55LO5x"
   },
   "source": [
    "No pandas temos dois principais objetos: **DataFrame** e **Series**\n",
    "\n",
    "### **Data Frame**"
   ]
  },
  {
   "cell_type": "code",
   "execution_count": 2,
   "metadata": {
    "id": "8jvRuzuhLmht"
   },
   "outputs": [],
   "source": [
    "x=pd.DataFrame({'Coluna 1': ['Valor 1', 'Valor 2'], 'Coluna 2': ['Valor 3', 'Valor 4']})"
   ]
  },
  {
   "cell_type": "markdown",
   "metadata": {
    "id": "vaIxYSDLNT8A"
   },
   "source": [
    "Nós podemos também mudar os índices utilizados utilizando o parâmetro:\n",
    "\n",
    "``index=['Linha 1', 'Linha 2',...])``"
   ]
  },
  {
   "cell_type": "code",
   "execution_count": 3,
   "metadata": {
    "colab": {
     "base_uri": "https://localhost:8080/",
     "height": 112
    },
    "id": "K8LewpCWMMAh",
    "outputId": "7f00cc7a-7bf2-4f5b-9a60-adfc1f51933a"
   },
   "outputs": [
    {
     "data": {
      "text/html": [
       "<div>\n",
       "<style scoped>\n",
       "    .dataframe tbody tr th:only-of-type {\n",
       "        vertical-align: middle;\n",
       "    }\n",
       "\n",
       "    .dataframe tbody tr th {\n",
       "        vertical-align: top;\n",
       "    }\n",
       "\n",
       "    .dataframe thead th {\n",
       "        text-align: right;\n",
       "    }\n",
       "</style>\n",
       "<table border=\"1\" class=\"dataframe\">\n",
       "  <thead>\n",
       "    <tr style=\"text-align: right;\">\n",
       "      <th></th>\n",
       "      <th>Coluna 1</th>\n",
       "      <th>Coluna 2</th>\n",
       "    </tr>\n",
       "  </thead>\n",
       "  <tbody>\n",
       "    <tr>\n",
       "      <th>Linha 1</th>\n",
       "      <td>Valor 1</td>\n",
       "      <td>Valor 3</td>\n",
       "    </tr>\n",
       "    <tr>\n",
       "      <th>Linha 2</th>\n",
       "      <td>Valor 2</td>\n",
       "      <td>Valor 4</td>\n",
       "    </tr>\n",
       "  </tbody>\n",
       "</table>\n",
       "</div>"
      ],
      "text/plain": [
       "        Coluna 1 Coluna 2\n",
       "Linha 1  Valor 1  Valor 3\n",
       "Linha 2  Valor 2  Valor 4"
      ]
     },
     "execution_count": 3,
     "metadata": {},
     "output_type": "execute_result"
    }
   ],
   "source": [
    "pd.DataFrame({'Coluna 1': ['Valor 1', 'Valor 2'],'Coluna 2': ['Valor 3', 'Valor 4']},index=['Linha 1', 'Linha 2'])"
   ]
  },
  {
   "cell_type": "markdown",
   "metadata": {
    "id": "21WS99XnOqDq"
   },
   "source": [
    "### **Series**"
   ]
  },
  {
   "cell_type": "markdown",
   "metadata": {
    "id": "J23p_si1OtxP"
   },
   "source": [
    "Enquanto o **Dataframe** pode ser visto como uma tabela, o objeto **Series** pode ser visto como uma sequência"
   ]
  },
  {
   "cell_type": "code",
   "execution_count": 4,
   "metadata": {
    "colab": {
     "base_uri": "https://localhost:8080/"
    },
    "id": "sLhhYVQDP0Zm",
    "outputId": "04c0b169-1b6d-4b44-9eae-37ead400c768"
   },
   "outputs": [
    {
     "data": {
      "text/plain": [
       "0    1\n",
       "1    2\n",
       "2    3\n",
       "3    4\n",
       "4    5\n",
       "dtype: int64"
      ]
     },
     "execution_count": 4,
     "metadata": {},
     "output_type": "execute_result"
    }
   ],
   "source": [
    "pd.Series([1, 2, 3, 4, 5])"
   ]
  },
  {
   "cell_type": "markdown",
   "metadata": {
    "id": "l3ZDdLefQC8u"
   },
   "source": [
    "Um **Series** pode ser visto como um objeto **DataFrame** de apenas uma coluna, por isso é possível utilizar os parametro **index** para mudar os *labels* das linhas, mas não é possível modificar o nome da coluna, somente o nome do objeto através do parâmetro:"
   ]
  },
  {
   "cell_type": "code",
   "execution_count": 5,
   "metadata": {
    "colab": {
     "base_uri": "https://localhost:8080/"
    },
    "id": "IfGmqnBpQbwq",
    "outputId": "82072d91-77ab-47c7-f9eb-5a6eb8580748"
   },
   "outputs": [
    {
     "data": {
      "text/plain": [
       "Idade           22\n",
       "Nome      Maurício\n",
       "Altura        1.75\n",
       "Name: Mauricio, dtype: object"
      ]
     },
     "execution_count": 5,
     "metadata": {},
     "output_type": "execute_result"
    }
   ],
   "source": [
    "pd.Series([22, \"Maurício\", 1.75], index=['Idade', 'Nome', 'Altura'], name='Mauricio')"
   ]
  },
  {
   "cell_type": "markdown",
   "metadata": {
    "id": "FvdA7bxyVEgR"
   },
   "source": [
    "### **Lendo e escrevendo dados de um arquivo .csv**"
   ]
  },
  {
   "cell_type": "markdown",
   "metadata": {
    "id": "PFe8E_bkZlCr"
   },
   "source": [
    "Muitas vezes ao trabalhar com dados você vai precisar importar estes dados de algum lugar, para isso, a sintaxe é a seguinte:\n",
    "\n",
    "```dados = pd.read_csv(\"../[diretorio]/arquivo.csv\")```\n",
    "\n",
    "É possível ler também arquivos txt, excel..\n",
    "\n",
    "![Screenshot_2021-03-24 How do I read and write tabular data — pandas 1 2 3 documentation.png](data:image/png;base64,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)\n",
    "\n",
    "A seguir tem um exemplo desse dataset: https://www.kaggle.com/pedrohenriquecardoso/populacao-brasil"
   ]
  },
  {
   "cell_type": "code",
   "execution_count": 7,
   "metadata": {
    "id": "0Wb4_HbCVIeO"
   },
   "outputs": [],
   "source": [
    "populacao = pd.read_csv(\"dataset/populacao.csv\")"
   ]
  },
  {
   "cell_type": "markdown",
   "metadata": {
    "id": "hFjinvRZcQZh"
   },
   "source": [
    "Para ver o tamanho dos dados:"
   ]
  },
  {
   "cell_type": "code",
   "execution_count": 8,
   "metadata": {
    "colab": {
     "base_uri": "https://localhost:8080/"
    },
    "id": "RFs021EeVkYY",
    "outputId": "b1f96b25-9fe4-4c45-e429-82919079cfa2"
   },
   "outputs": [
    {
     "data": {
      "text/plain": [
       "(5570, 5)"
      ]
     },
     "execution_count": 8,
     "metadata": {},
     "output_type": "execute_result"
    }
   ],
   "source": [
    "populacao.shape"
   ]
  },
  {
   "cell_type": "markdown",
   "metadata": {
    "id": "z8eqJnyubKap"
   },
   "source": [
    "O tamanho destes dados são enormes! Vamos ler apenas as primeiras e as últimas linhas: "
   ]
  },
  {
   "cell_type": "code",
   "execution_count": 9,
   "metadata": {
    "colab": {
     "base_uri": "https://localhost:8080/",
     "height": 143
    },
    "id": "cnshxEPhZH41",
    "outputId": "2154704b-b196-453f-db9d-bcf153ab6873"
   },
   "outputs": [
    {
     "data": {
      "text/html": [
       "<div>\n",
       "<style scoped>\n",
       "    .dataframe tbody tr th:only-of-type {\n",
       "        vertical-align: middle;\n",
       "    }\n",
       "\n",
       "    .dataframe tbody tr th {\n",
       "        vertical-align: top;\n",
       "    }\n",
       "\n",
       "    .dataframe thead th {\n",
       "        text-align: right;\n",
       "    }\n",
       "</style>\n",
       "<table border=\"1\" class=\"dataframe\">\n",
       "  <thead>\n",
       "    <tr style=\"text-align: right;\">\n",
       "      <th></th>\n",
       "      <th>UF</th>\n",
       "      <th>COD. UF</th>\n",
       "      <th>COD. MUNIC</th>\n",
       "      <th>NOME DO MUNICÍPIO</th>\n",
       "      <th>POPULAÇÃO ESTIMADA</th>\n",
       "    </tr>\n",
       "  </thead>\n",
       "  <tbody>\n",
       "    <tr>\n",
       "      <th>0</th>\n",
       "      <td>RO</td>\n",
       "      <td>11</td>\n",
       "      <td>15</td>\n",
       "      <td>Alta Floresta D'Oeste</td>\n",
       "      <td>22945</td>\n",
       "    </tr>\n",
       "    <tr>\n",
       "      <th>1</th>\n",
       "      <td>RO</td>\n",
       "      <td>11</td>\n",
       "      <td>23</td>\n",
       "      <td>Ariquemes</td>\n",
       "      <td>107863</td>\n",
       "    </tr>\n",
       "    <tr>\n",
       "      <th>2</th>\n",
       "      <td>RO</td>\n",
       "      <td>11</td>\n",
       "      <td>31</td>\n",
       "      <td>Cabixi</td>\n",
       "      <td>5312</td>\n",
       "    </tr>\n",
       "  </tbody>\n",
       "</table>\n",
       "</div>"
      ],
      "text/plain": [
       "   UF  COD. UF  COD. MUNIC      NOME DO MUNICÍPIO  POPULAÇÃO ESTIMADA\n",
       "0  RO       11          15  Alta Floresta D'Oeste               22945\n",
       "1  RO       11          23              Ariquemes              107863\n",
       "2  RO       11          31                 Cabixi                5312"
      ]
     },
     "execution_count": 9,
     "metadata": {},
     "output_type": "execute_result"
    }
   ],
   "source": [
    "populacao.head(3)"
   ]
  },
  {
   "cell_type": "markdown",
   "metadata": {
    "id": "t8xrnb-tboWH"
   },
   "source": [
    "E os últimos:"
   ]
  },
  {
   "cell_type": "code",
   "execution_count": 10,
   "metadata": {
    "colab": {
     "base_uri": "https://localhost:8080/",
     "height": 112
    },
    "id": "6ttC09OxbTCk",
    "outputId": "8bb40a71-452c-4090-f198-bd61bb48f751"
   },
   "outputs": [
    {
     "data": {
      "text/html": [
       "<div>\n",
       "<style scoped>\n",
       "    .dataframe tbody tr th:only-of-type {\n",
       "        vertical-align: middle;\n",
       "    }\n",
       "\n",
       "    .dataframe tbody tr th {\n",
       "        vertical-align: top;\n",
       "    }\n",
       "\n",
       "    .dataframe thead th {\n",
       "        text-align: right;\n",
       "    }\n",
       "</style>\n",
       "<table border=\"1\" class=\"dataframe\">\n",
       "  <thead>\n",
       "    <tr style=\"text-align: right;\">\n",
       "      <th></th>\n",
       "      <th>UF</th>\n",
       "      <th>COD. UF</th>\n",
       "      <th>COD. MUNIC</th>\n",
       "      <th>NOME DO MUNICÍPIO</th>\n",
       "      <th>POPULAÇÃO ESTIMADA</th>\n",
       "    </tr>\n",
       "  </thead>\n",
       "  <tbody>\n",
       "    <tr>\n",
       "      <th>5568</th>\n",
       "      <td>GO</td>\n",
       "      <td>52</td>\n",
       "      <td>22302</td>\n",
       "      <td>Vila Propício</td>\n",
       "      <td>5821</td>\n",
       "    </tr>\n",
       "    <tr>\n",
       "      <th>5569</th>\n",
       "      <td>DF</td>\n",
       "      <td>53</td>\n",
       "      <td>108</td>\n",
       "      <td>Brasília</td>\n",
       "      <td>3015268</td>\n",
       "    </tr>\n",
       "  </tbody>\n",
       "</table>\n",
       "</div>"
      ],
      "text/plain": [
       "      UF  COD. UF  COD. MUNIC NOME DO MUNICÍPIO  POPULAÇÃO ESTIMADA\n",
       "5568  GO       52       22302     Vila Propício                5821\n",
       "5569  DF       53         108          Brasília             3015268"
      ]
     },
     "execution_count": 10,
     "metadata": {},
     "output_type": "execute_result"
    }
   ],
   "source": [
    "populacao.tail(2)"
   ]
  },
  {
   "cell_type": "markdown",
   "metadata": {
    "id": "LWZIwj-MfUPW"
   },
   "source": [
    "Para definir uma coluna como o índice do **DataFrame**:"
   ]
  },
  {
   "cell_type": "code",
   "execution_count": null,
   "metadata": {
    "colab": {
     "base_uri": "https://localhost:8080/",
     "height": 455
    },
    "id": "ZdwUQEolbmo9",
    "outputId": "0a91d134-8b6f-46ba-f73e-2721bbf41fd4"
   },
   "outputs": [
    {
     "data": {
      "text/html": [
       "<div>\n",
       "<style scoped>\n",
       "    .dataframe tbody tr th:only-of-type {\n",
       "        vertical-align: middle;\n",
       "    }\n",
       "\n",
       "    .dataframe tbody tr th {\n",
       "        vertical-align: top;\n",
       "    }\n",
       "\n",
       "    .dataframe thead th {\n",
       "        text-align: right;\n",
       "    }\n",
       "</style>\n",
       "<table border=\"1\" class=\"dataframe\">\n",
       "  <thead>\n",
       "    <tr style=\"text-align: right;\">\n",
       "      <th></th>\n",
       "      <th>UF</th>\n",
       "      <th>COD. UF</th>\n",
       "      <th>NOME DO MUNICÍPIO</th>\n",
       "      <th>POPULAÇÃO ESTIMADA</th>\n",
       "    </tr>\n",
       "    <tr>\n",
       "      <th>COD. MUNIC</th>\n",
       "      <th></th>\n",
       "      <th></th>\n",
       "      <th></th>\n",
       "      <th></th>\n",
       "    </tr>\n",
       "  </thead>\n",
       "  <tbody>\n",
       "    <tr>\n",
       "      <th>15</th>\n",
       "      <td>RO</td>\n",
       "      <td>11</td>\n",
       "      <td>Alta Floresta D'Oeste</td>\n",
       "      <td>22945</td>\n",
       "    </tr>\n",
       "    <tr>\n",
       "      <th>23</th>\n",
       "      <td>RO</td>\n",
       "      <td>11</td>\n",
       "      <td>Ariquemes</td>\n",
       "      <td>107863</td>\n",
       "    </tr>\n",
       "    <tr>\n",
       "      <th>31</th>\n",
       "      <td>RO</td>\n",
       "      <td>11</td>\n",
       "      <td>Cabixi</td>\n",
       "      <td>5312</td>\n",
       "    </tr>\n",
       "    <tr>\n",
       "      <th>49</th>\n",
       "      <td>RO</td>\n",
       "      <td>11</td>\n",
       "      <td>Cacoal</td>\n",
       "      <td>85359</td>\n",
       "    </tr>\n",
       "    <tr>\n",
       "      <th>56</th>\n",
       "      <td>RO</td>\n",
       "      <td>11</td>\n",
       "      <td>Cerejeiras</td>\n",
       "      <td>16323</td>\n",
       "    </tr>\n",
       "    <tr>\n",
       "      <th>...</th>\n",
       "      <td>...</td>\n",
       "      <td>...</td>\n",
       "      <td>...</td>\n",
       "      <td>...</td>\n",
       "    </tr>\n",
       "    <tr>\n",
       "      <th>22005</th>\n",
       "      <td>GO</td>\n",
       "      <td>52</td>\n",
       "      <td>Vianópolis</td>\n",
       "      <td>13863</td>\n",
       "    </tr>\n",
       "    <tr>\n",
       "      <th>22054</th>\n",
       "      <td>GO</td>\n",
       "      <td>52</td>\n",
       "      <td>Vicentinópolis</td>\n",
       "      <td>8743</td>\n",
       "    </tr>\n",
       "    <tr>\n",
       "      <th>22203</th>\n",
       "      <td>GO</td>\n",
       "      <td>52</td>\n",
       "      <td>Vila Boa</td>\n",
       "      <td>6171</td>\n",
       "    </tr>\n",
       "    <tr>\n",
       "      <th>22302</th>\n",
       "      <td>GO</td>\n",
       "      <td>52</td>\n",
       "      <td>Vila Propício</td>\n",
       "      <td>5821</td>\n",
       "    </tr>\n",
       "    <tr>\n",
       "      <th>108</th>\n",
       "      <td>DF</td>\n",
       "      <td>53</td>\n",
       "      <td>Brasília</td>\n",
       "      <td>3015268</td>\n",
       "    </tr>\n",
       "  </tbody>\n",
       "</table>\n",
       "<p>5570 rows × 4 columns</p>\n",
       "</div>"
      ],
      "text/plain": [
       "            UF  COD. UF      NOME DO MUNICÍPIO  POPULAÇÃO ESTIMADA\n",
       "COD. MUNIC                                                        \n",
       "15          RO       11  Alta Floresta D'Oeste               22945\n",
       "23          RO       11              Ariquemes              107863\n",
       "31          RO       11                 Cabixi                5312\n",
       "49          RO       11                 Cacoal               85359\n",
       "56          RO       11             Cerejeiras               16323\n",
       "...         ..      ...                    ...                 ...\n",
       "22005       GO       52             Vianópolis               13863\n",
       "22054       GO       52         Vicentinópolis                8743\n",
       "22203       GO       52               Vila Boa                6171\n",
       "22302       GO       52          Vila Propício                5821\n",
       "108         DF       53               Brasília             3015268\n",
       "\n",
       "[5570 rows x 4 columns]"
      ]
     },
     "execution_count": 23,
     "metadata": {
      "tags": []
     },
     "output_type": "execute_result"
    }
   ],
   "source": [
    "populacao = pd.read_csv(\"/content/sample_data/populacao.csv\",index_col=2)\n",
    "populacao"
   ]
  },
  {
   "cell_type": "markdown",
   "metadata": {
    "id": "uaErqiDyfcR_"
   },
   "source": [
    "Para salvar um **DataFrame** basta rodar o seguinte comando:"
   ]
  },
  {
   "cell_type": "code",
   "execution_count": null,
   "metadata": {
    "id": "LD67YBzXceKK"
   },
   "outputs": [],
   "source": [
    "populacao.to_csv('arquivo.csv')"
   ]
  },
  {
   "cell_type": "markdown",
   "metadata": {
    "id": "cK507G2UgKxd"
   },
   "source": [
    "# **Indexação, Seleção e Atribuição** #"
   ]
  },
  {
   "cell_type": "markdown",
   "metadata": {
    "id": "Sna_UTeShGA8"
   },
   "source": [
    "Considerando os dados de população dos municípios do Brasil:"
   ]
  },
  {
   "cell_type": "code",
   "execution_count": null,
   "metadata": {
    "colab": {
     "base_uri": "https://localhost:8080/",
     "height": 236
    },
    "id": "9JGbd0SIgTZs",
    "outputId": "cb78fd07-a205-4634-dee5-bae644b42181"
   },
   "outputs": [
    {
     "data": {
      "text/html": [
       "<div>\n",
       "<style scoped>\n",
       "    .dataframe tbody tr th:only-of-type {\n",
       "        vertical-align: middle;\n",
       "    }\n",
       "\n",
       "    .dataframe tbody tr th {\n",
       "        vertical-align: top;\n",
       "    }\n",
       "\n",
       "    .dataframe thead th {\n",
       "        text-align: right;\n",
       "    }\n",
       "</style>\n",
       "<table border=\"1\" class=\"dataframe\">\n",
       "  <thead>\n",
       "    <tr style=\"text-align: right;\">\n",
       "      <th></th>\n",
       "      <th>UF</th>\n",
       "      <th>COD. UF</th>\n",
       "      <th>COD. MUNIC</th>\n",
       "      <th>NOME DO MUNICÍPIO</th>\n",
       "      <th>POPULAÇÃO ESTIMADA</th>\n",
       "    </tr>\n",
       "  </thead>\n",
       "  <tbody>\n",
       "    <tr>\n",
       "      <th>0</th>\n",
       "      <td>RO</td>\n",
       "      <td>11</td>\n",
       "      <td>15</td>\n",
       "      <td>Alta Floresta D'Oeste</td>\n",
       "      <td>22945</td>\n",
       "    </tr>\n",
       "    <tr>\n",
       "      <th>1</th>\n",
       "      <td>RO</td>\n",
       "      <td>11</td>\n",
       "      <td>23</td>\n",
       "      <td>Ariquemes</td>\n",
       "      <td>107863</td>\n",
       "    </tr>\n",
       "    <tr>\n",
       "      <th>...</th>\n",
       "      <td>...</td>\n",
       "      <td>...</td>\n",
       "      <td>...</td>\n",
       "      <td>...</td>\n",
       "      <td>...</td>\n",
       "    </tr>\n",
       "    <tr>\n",
       "      <th>5568</th>\n",
       "      <td>GO</td>\n",
       "      <td>52</td>\n",
       "      <td>22302</td>\n",
       "      <td>Vila Propício</td>\n",
       "      <td>5821</td>\n",
       "    </tr>\n",
       "    <tr>\n",
       "      <th>5569</th>\n",
       "      <td>DF</td>\n",
       "      <td>53</td>\n",
       "      <td>108</td>\n",
       "      <td>Brasília</td>\n",
       "      <td>3015268</td>\n",
       "    </tr>\n",
       "  </tbody>\n",
       "</table>\n",
       "<p>5570 rows × 5 columns</p>\n",
       "</div>"
      ],
      "text/plain": [
       "      UF  COD. UF  COD. MUNIC      NOME DO MUNICÍPIO  POPULAÇÃO ESTIMADA\n",
       "0     RO       11          15  Alta Floresta D'Oeste               22945\n",
       "1     RO       11          23              Ariquemes              107863\n",
       "...   ..      ...         ...                    ...                 ...\n",
       "5568  GO       52       22302          Vila Propício                5821\n",
       "5569  DF       53         108               Brasília             3015268\n",
       "\n",
       "[5570 rows x 5 columns]"
      ]
     },
     "execution_count": 24,
     "metadata": {
      "tags": []
     },
     "output_type": "execute_result"
    }
   ],
   "source": [
    "import pandas as pd\n",
    "populacao = pd.read_csv(\"/content/sample_data/populacao.csv\")\n",
    "pd.set_option('max_rows', 4)\n",
    "populacao"
   ]
  },
  {
   "cell_type": "markdown",
   "metadata": {
    "id": "flyfA60ohrES"
   },
   "source": [
    "Você pode acessar uma propriedade de um objeto:"
   ]
  },
  {
   "cell_type": "code",
   "execution_count": null,
   "metadata": {
    "colab": {
     "base_uri": "https://localhost:8080/"
    },
    "id": "C2M5p4sIhp09",
    "outputId": "9daabc59-9092-45d6-89bd-b72711746896"
   },
   "outputs": [
    {
     "data": {
      "text/plain": [
       "0       RO\n",
       "1       RO\n",
       "        ..\n",
       "5568    GO\n",
       "5569    DF\n",
       "Name: UF, Length: 5570, dtype: object"
      ]
     },
     "execution_count": 25,
     "metadata": {
      "tags": []
     },
     "output_type": "execute_result"
    }
   ],
   "source": [
    "populacao.UF"
   ]
  },
  {
   "cell_type": "markdown",
   "metadata": {
    "id": "xcfmi5wfiN4m"
   },
   "source": [
    "Note que para as demais, podemos usar dicionários também:"
   ]
  },
  {
   "cell_type": "code",
   "execution_count": null,
   "metadata": {
    "colab": {
     "base_uri": "https://localhost:8080/"
    },
    "id": "NsPmgxAahv6G",
    "outputId": "3f07163f-fa05-4cf1-d268-23d743f8987c"
   },
   "outputs": [
    {
     "data": {
      "text/plain": [
       "0       Alta Floresta D'Oeste\n",
       "1                   Ariquemes\n",
       "                ...          \n",
       "5568            Vila Propício\n",
       "5569                 Brasília\n",
       "Name: NOME DO MUNICÍPIO, Length: 5570, dtype: object"
      ]
     },
     "execution_count": 26,
     "metadata": {
      "tags": []
     },
     "output_type": "execute_result"
    }
   ],
   "source": [
    "populacao['NOME DO MUNICÍPIO']"
   ]
  },
  {
   "cell_type": "markdown",
   "metadata": {
    "id": "kOUA_JoKjb0i"
   },
   "source": [
    "E para acessar um elemento qualquer, podemos usar o operador ```[]```:"
   ]
  },
  {
   "cell_type": "code",
   "execution_count": null,
   "metadata": {
    "colab": {
     "base_uri": "https://localhost:8080/",
     "height": 36
    },
    "id": "fCLsKwFejmmR",
    "outputId": "b57b6f00-3e28-471c-f67a-55895cf3bd7f"
   },
   "outputs": [
    {
     "data": {
      "application/vnd.google.colaboratory.intrinsic+json": {
       "type": "string"
      },
      "text/plain": [
       "\"Alta Floresta D'Oeste\""
      ]
     },
     "execution_count": 27,
     "metadata": {
      "tags": []
     },
     "output_type": "execute_result"
    }
   ],
   "source": [
    "populacao['NOME DO MUNICÍPIO'][0]"
   ]
  },
  {
   "cell_type": "markdown",
   "metadata": {
    "id": "lTMyZfpqjTiV"
   },
   "source": [
    "### Indexação"
   ]
  },
  {
   "cell_type": "markdown",
   "metadata": {
    "id": "v-kOpuzzuOk7"
   },
   "source": [
    "### Manipulando o índice"
   ]
  },
  {
   "cell_type": "code",
   "execution_count": null,
   "metadata": {
    "colab": {
     "base_uri": "https://localhost:8080/",
     "height": 267
    },
    "id": "eMUh74UOumqx",
    "outputId": "4fbc3092-cd16-4251-d386-c7cffa4d412c"
   },
   "outputs": [
    {
     "data": {
      "text/html": [
       "<div>\n",
       "<style scoped>\n",
       "    .dataframe tbody tr th:only-of-type {\n",
       "        vertical-align: middle;\n",
       "    }\n",
       "\n",
       "    .dataframe tbody tr th {\n",
       "        vertical-align: top;\n",
       "    }\n",
       "\n",
       "    .dataframe thead th {\n",
       "        text-align: right;\n",
       "    }\n",
       "</style>\n",
       "<table border=\"1\" class=\"dataframe\">\n",
       "  <thead>\n",
       "    <tr style=\"text-align: right;\">\n",
       "      <th></th>\n",
       "      <th>UF</th>\n",
       "      <th>COD. UF</th>\n",
       "      <th>NOME DO MUNICÍPIO</th>\n",
       "      <th>POPULAÇÃO ESTIMADA</th>\n",
       "    </tr>\n",
       "    <tr>\n",
       "      <th>COD. MUNIC</th>\n",
       "      <th></th>\n",
       "      <th></th>\n",
       "      <th></th>\n",
       "      <th></th>\n",
       "    </tr>\n",
       "  </thead>\n",
       "  <tbody>\n",
       "    <tr>\n",
       "      <th>15</th>\n",
       "      <td>RO</td>\n",
       "      <td>11</td>\n",
       "      <td>Alta Floresta D'Oeste</td>\n",
       "      <td>22945</td>\n",
       "    </tr>\n",
       "    <tr>\n",
       "      <th>23</th>\n",
       "      <td>RO</td>\n",
       "      <td>11</td>\n",
       "      <td>Ariquemes</td>\n",
       "      <td>107863</td>\n",
       "    </tr>\n",
       "    <tr>\n",
       "      <th>...</th>\n",
       "      <td>...</td>\n",
       "      <td>...</td>\n",
       "      <td>...</td>\n",
       "      <td>...</td>\n",
       "    </tr>\n",
       "    <tr>\n",
       "      <th>22302</th>\n",
       "      <td>GO</td>\n",
       "      <td>52</td>\n",
       "      <td>Vila Propício</td>\n",
       "      <td>5821</td>\n",
       "    </tr>\n",
       "    <tr>\n",
       "      <th>108</th>\n",
       "      <td>DF</td>\n",
       "      <td>53</td>\n",
       "      <td>Brasília</td>\n",
       "      <td>3015268</td>\n",
       "    </tr>\n",
       "  </tbody>\n",
       "</table>\n",
       "<p>5570 rows × 4 columns</p>\n",
       "</div>"
      ],
      "text/plain": [
       "            UF  COD. UF      NOME DO MUNICÍPIO  POPULAÇÃO ESTIMADA\n",
       "COD. MUNIC                                                        \n",
       "15          RO       11  Alta Floresta D'Oeste               22945\n",
       "23          RO       11              Ariquemes              107863\n",
       "...         ..      ...                    ...                 ...\n",
       "22302       GO       52          Vila Propício                5821\n",
       "108         DF       53               Brasília             3015268\n",
       "\n",
       "[5570 rows x 4 columns]"
      ]
     },
     "execution_count": 28,
     "metadata": {
      "tags": []
     },
     "output_type": "execute_result"
    }
   ],
   "source": [
    "populacao.set_index('COD. MUNIC')"
   ]
  },
  {
   "cell_type": "markdown",
   "metadata": {
    "id": "dpQ5UjiQv0sh"
   },
   "source": [
    "### Seleção Condicional"
   ]
  },
  {
   "cell_type": "markdown",
   "metadata": {
    "id": "gQJ7vSes36I1"
   },
   "source": [
    "Como comparar e selecionar valores?"
   ]
  },
  {
   "cell_type": "code",
   "execution_count": null,
   "metadata": {
    "colab": {
     "base_uri": "https://localhost:8080/"
    },
    "id": "RFBd1GKwwB0Z",
    "outputId": "681c2fb2-a0c6-43ad-c954-7b9e8af941f1"
   },
   "outputs": [
    {
     "name": "stdout",
     "output_type": "stream",
     "text": [
      "a=b? R: False | b=c? R: True\n"
     ]
    }
   ],
   "source": [
    "a=1\n",
    "b=2\n",
    "c=2\n",
    "\n",
    "print(f'a=b? R: {a==b} | b=c? R: {b==c}')"
   ]
  },
  {
   "cell_type": "markdown",
   "metadata": {
    "id": "a9M0fPjz4gGj"
   },
   "source": [
    "Podemos fazer algo parecido para um objeto pandas e obter como retorno uma série com valores de verdadeiros e falsos"
   ]
  },
  {
   "cell_type": "code",
   "execution_count": null,
   "metadata": {
    "colab": {
     "base_uri": "https://localhost:8080/"
    },
    "id": "VvSM3wx4wa27",
    "outputId": "f2c9186a-34e7-4b51-d124-4b6f7faa3f12"
   },
   "outputs": [
    {
     "data": {
      "text/plain": [
       "0        True\n",
       "1        True\n",
       "        ...  \n",
       "5568    False\n",
       "5569    False\n",
       "Name: UF, Length: 5570, dtype: bool"
      ]
     },
     "execution_count": 30,
     "metadata": {
      "tags": []
     },
     "output_type": "execute_result"
    }
   ],
   "source": [
    "populacao.UF=='RO'"
   ]
  },
  {
   "cell_type": "markdown",
   "metadata": {
    "id": "O-B199cmxo9F"
   },
   "source": [
    "Isso pode ser utilizado juntamente com o *loc*:"
   ]
  },
  {
   "cell_type": "code",
   "execution_count": null,
   "metadata": {
    "colab": {
     "base_uri": "https://localhost:8080/",
     "height": 236
    },
    "id": "btl2HhwUxrAN",
    "outputId": "e1d292b1-7166-49a0-c99d-1904015a853b"
   },
   "outputs": [
    {
     "data": {
      "text/html": [
       "<div>\n",
       "<style scoped>\n",
       "    .dataframe tbody tr th:only-of-type {\n",
       "        vertical-align: middle;\n",
       "    }\n",
       "\n",
       "    .dataframe tbody tr th {\n",
       "        vertical-align: top;\n",
       "    }\n",
       "\n",
       "    .dataframe thead th {\n",
       "        text-align: right;\n",
       "    }\n",
       "</style>\n",
       "<table border=\"1\" class=\"dataframe\">\n",
       "  <thead>\n",
       "    <tr style=\"text-align: right;\">\n",
       "      <th></th>\n",
       "      <th>UF</th>\n",
       "      <th>COD. UF</th>\n",
       "      <th>COD. MUNIC</th>\n",
       "      <th>NOME DO MUNICÍPIO</th>\n",
       "      <th>POPULAÇÃO ESTIMADA</th>\n",
       "    </tr>\n",
       "  </thead>\n",
       "  <tbody>\n",
       "    <tr>\n",
       "      <th>0</th>\n",
       "      <td>RO</td>\n",
       "      <td>11</td>\n",
       "      <td>15</td>\n",
       "      <td>Alta Floresta D'Oeste</td>\n",
       "      <td>22945</td>\n",
       "    </tr>\n",
       "    <tr>\n",
       "      <th>1</th>\n",
       "      <td>RO</td>\n",
       "      <td>11</td>\n",
       "      <td>23</td>\n",
       "      <td>Ariquemes</td>\n",
       "      <td>107863</td>\n",
       "    </tr>\n",
       "    <tr>\n",
       "      <th>...</th>\n",
       "      <td>...</td>\n",
       "      <td>...</td>\n",
       "      <td>...</td>\n",
       "      <td>...</td>\n",
       "      <td>...</td>\n",
       "    </tr>\n",
       "    <tr>\n",
       "      <th>50</th>\n",
       "      <td>RO</td>\n",
       "      <td>11</td>\n",
       "      <td>1757</td>\n",
       "      <td>Vale do Anari</td>\n",
       "      <td>11204</td>\n",
       "    </tr>\n",
       "    <tr>\n",
       "      <th>51</th>\n",
       "      <td>RO</td>\n",
       "      <td>11</td>\n",
       "      <td>1807</td>\n",
       "      <td>Vale do Paraíso</td>\n",
       "      <td>6825</td>\n",
       "    </tr>\n",
       "  </tbody>\n",
       "</table>\n",
       "<p>52 rows × 5 columns</p>\n",
       "</div>"
      ],
      "text/plain": [
       "    UF  COD. UF  COD. MUNIC      NOME DO MUNICÍPIO  POPULAÇÃO ESTIMADA\n",
       "0   RO       11          15  Alta Floresta D'Oeste               22945\n",
       "1   RO       11          23              Ariquemes              107863\n",
       "..  ..      ...         ...                    ...                 ...\n",
       "50  RO       11        1757          Vale do Anari               11204\n",
       "51  RO       11        1807        Vale do Paraíso                6825\n",
       "\n",
       "[52 rows x 5 columns]"
      ]
     },
     "execution_count": 31,
     "metadata": {
      "tags": []
     },
     "output_type": "execute_result"
    }
   ],
   "source": [
    "populacao.loc[populacao.UF == 'RO']"
   ]
  },
  {
   "cell_type": "markdown",
   "metadata": {
    "id": "7LDtIR5t43Ku"
   },
   "source": [
    "Isso também pode ser combinado para fazer múltiplos \"filtros\":"
   ]
  },
  {
   "cell_type": "code",
   "execution_count": null,
   "metadata": {
    "colab": {
     "base_uri": "https://localhost:8080/",
     "height": 236
    },
    "id": "H7aNRaPWyUso",
    "outputId": "b5a038bd-94ed-4546-e334-2c448508f564"
   },
   "outputs": [
    {
     "data": {
      "text/html": [
       "<div>\n",
       "<style scoped>\n",
       "    .dataframe tbody tr th:only-of-type {\n",
       "        vertical-align: middle;\n",
       "    }\n",
       "\n",
       "    .dataframe tbody tr th {\n",
       "        vertical-align: top;\n",
       "    }\n",
       "\n",
       "    .dataframe thead th {\n",
       "        text-align: right;\n",
       "    }\n",
       "</style>\n",
       "<table border=\"1\" class=\"dataframe\">\n",
       "  <thead>\n",
       "    <tr style=\"text-align: right;\">\n",
       "      <th></th>\n",
       "      <th>UF</th>\n",
       "      <th>COD. UF</th>\n",
       "      <th>COD. MUNIC</th>\n",
       "      <th>NOME DO MUNICÍPIO</th>\n",
       "      <th>POPULAÇÃO ESTIMADA</th>\n",
       "    </tr>\n",
       "  </thead>\n",
       "  <tbody>\n",
       "    <tr>\n",
       "      <th>1</th>\n",
       "      <td>RO</td>\n",
       "      <td>11</td>\n",
       "      <td>23</td>\n",
       "      <td>Ariquemes</td>\n",
       "      <td>107863</td>\n",
       "    </tr>\n",
       "    <tr>\n",
       "      <th>3</th>\n",
       "      <td>RO</td>\n",
       "      <td>11</td>\n",
       "      <td>49</td>\n",
       "      <td>Cacoal</td>\n",
       "      <td>85359</td>\n",
       "    </tr>\n",
       "    <tr>\n",
       "      <th>...</th>\n",
       "      <td>...</td>\n",
       "      <td>...</td>\n",
       "      <td>...</td>\n",
       "      <td>...</td>\n",
       "      <td>...</td>\n",
       "    </tr>\n",
       "    <tr>\n",
       "      <th>19</th>\n",
       "      <td>RO</td>\n",
       "      <td>11</td>\n",
       "      <td>288</td>\n",
       "      <td>Rolim de Moura</td>\n",
       "      <td>55058</td>\n",
       "    </tr>\n",
       "    <tr>\n",
       "      <th>21</th>\n",
       "      <td>RO</td>\n",
       "      <td>11</td>\n",
       "      <td>304</td>\n",
       "      <td>Vilhena</td>\n",
       "      <td>99854</td>\n",
       "    </tr>\n",
       "  </tbody>\n",
       "</table>\n",
       "<p>7 rows × 5 columns</p>\n",
       "</div>"
      ],
      "text/plain": [
       "    UF  COD. UF  COD. MUNIC NOME DO MUNICÍPIO  POPULAÇÃO ESTIMADA\n",
       "1   RO       11          23         Ariquemes              107863\n",
       "3   RO       11          49            Cacoal               85359\n",
       "..  ..      ...         ...               ...                 ...\n",
       "19  RO       11         288    Rolim de Moura               55058\n",
       "21  RO       11         304           Vilhena               99854\n",
       "\n",
       "[7 rows x 5 columns]"
      ]
     },
     "execution_count": 32,
     "metadata": {
      "tags": []
     },
     "output_type": "execute_result"
    }
   ],
   "source": [
    "populacao.loc[(populacao.UF == 'RO') & (populacao['POPULAÇÃO ESTIMADA'] > 50000)]"
   ]
  },
  {
   "cell_type": "code",
   "execution_count": null,
   "metadata": {
    "colab": {
     "base_uri": "https://localhost:8080/",
     "height": 236
    },
    "id": "9tqJ9JR03Hts",
    "outputId": "7d608503-fed3-4a33-9d85-01f3a421cad7"
   },
   "outputs": [
    {
     "data": {
      "text/html": [
       "<div>\n",
       "<style scoped>\n",
       "    .dataframe tbody tr th:only-of-type {\n",
       "        vertical-align: middle;\n",
       "    }\n",
       "\n",
       "    .dataframe tbody tr th {\n",
       "        vertical-align: top;\n",
       "    }\n",
       "\n",
       "    .dataframe thead th {\n",
       "        text-align: right;\n",
       "    }\n",
       "</style>\n",
       "<table border=\"1\" class=\"dataframe\">\n",
       "  <thead>\n",
       "    <tr style=\"text-align: right;\">\n",
       "      <th></th>\n",
       "      <th>UF</th>\n",
       "      <th>COD. UF</th>\n",
       "      <th>COD. MUNIC</th>\n",
       "      <th>NOME DO MUNICÍPIO</th>\n",
       "      <th>POPULAÇÃO ESTIMADA</th>\n",
       "    </tr>\n",
       "  </thead>\n",
       "  <tbody>\n",
       "    <tr>\n",
       "      <th>52</th>\n",
       "      <td>AC</td>\n",
       "      <td>12</td>\n",
       "      <td>13</td>\n",
       "      <td>Acrelândia</td>\n",
       "      <td>15256</td>\n",
       "    </tr>\n",
       "    <tr>\n",
       "      <th>53</th>\n",
       "      <td>AC</td>\n",
       "      <td>12</td>\n",
       "      <td>54</td>\n",
       "      <td>Assis Brasil</td>\n",
       "      <td>7417</td>\n",
       "    </tr>\n",
       "    <tr>\n",
       "      <th>...</th>\n",
       "      <td>...</td>\n",
       "      <td>...</td>\n",
       "      <td>...</td>\n",
       "      <td>...</td>\n",
       "      <td>...</td>\n",
       "    </tr>\n",
       "    <tr>\n",
       "      <th>2242</th>\n",
       "      <td>BA</td>\n",
       "      <td>29</td>\n",
       "      <td>33505</td>\n",
       "      <td>Wenceslau Guimarães</td>\n",
       "      <td>21101</td>\n",
       "    </tr>\n",
       "    <tr>\n",
       "      <th>2243</th>\n",
       "      <td>BA</td>\n",
       "      <td>29</td>\n",
       "      <td>33604</td>\n",
       "      <td>Xique-Xique</td>\n",
       "      <td>46483</td>\n",
       "    </tr>\n",
       "  </tbody>\n",
       "</table>\n",
       "<p>439 rows × 5 columns</p>\n",
       "</div>"
      ],
      "text/plain": [
       "      UF  COD. UF  COD. MUNIC    NOME DO MUNICÍPIO  POPULAÇÃO ESTIMADA\n",
       "52    AC       12          13           Acrelândia               15256\n",
       "53    AC       12          54         Assis Brasil                7417\n",
       "...   ..      ...         ...                  ...                 ...\n",
       "2242  BA       29       33505  Wenceslau Guimarães               21101\n",
       "2243  BA       29       33604          Xique-Xique               46483\n",
       "\n",
       "[439 rows x 5 columns]"
      ]
     },
     "execution_count": 33,
     "metadata": {
      "tags": []
     },
     "output_type": "execute_result"
    }
   ],
   "source": [
    "populacao.loc[(populacao.UF == 'AC') | (populacao.UF == 'BA')]"
   ]
  },
  {
   "cell_type": "markdown",
   "metadata": {
    "id": "W2Nu80Xb5I14"
   },
   "source": [
    "Existe uma forma mais simples de filtrar valores em uma coluna de forma mais simplificada:"
   ]
  },
  {
   "cell_type": "code",
   "execution_count": null,
   "metadata": {
    "colab": {
     "base_uri": "https://localhost:8080/",
     "height": 236
    },
    "id": "Cp25kmbUyctT",
    "outputId": "048ddafd-5322-4f03-9066-9ddba3ee7ed9"
   },
   "outputs": [
    {
     "data": {
      "text/html": [
       "<div>\n",
       "<style scoped>\n",
       "    .dataframe tbody tr th:only-of-type {\n",
       "        vertical-align: middle;\n",
       "    }\n",
       "\n",
       "    .dataframe tbody tr th {\n",
       "        vertical-align: top;\n",
       "    }\n",
       "\n",
       "    .dataframe thead th {\n",
       "        text-align: right;\n",
       "    }\n",
       "</style>\n",
       "<table border=\"1\" class=\"dataframe\">\n",
       "  <thead>\n",
       "    <tr style=\"text-align: right;\">\n",
       "      <th></th>\n",
       "      <th>UF</th>\n",
       "      <th>COD. UF</th>\n",
       "      <th>COD. MUNIC</th>\n",
       "      <th>NOME DO MUNICÍPIO</th>\n",
       "      <th>POPULAÇÃO ESTIMADA</th>\n",
       "    </tr>\n",
       "  </thead>\n",
       "  <tbody>\n",
       "    <tr>\n",
       "      <th>52</th>\n",
       "      <td>AC</td>\n",
       "      <td>12</td>\n",
       "      <td>13</td>\n",
       "      <td>Acrelândia</td>\n",
       "      <td>15256</td>\n",
       "    </tr>\n",
       "    <tr>\n",
       "      <th>53</th>\n",
       "      <td>AC</td>\n",
       "      <td>12</td>\n",
       "      <td>54</td>\n",
       "      <td>Assis Brasil</td>\n",
       "      <td>7417</td>\n",
       "    </tr>\n",
       "    <tr>\n",
       "      <th>...</th>\n",
       "      <td>...</td>\n",
       "      <td>...</td>\n",
       "      <td>...</td>\n",
       "      <td>...</td>\n",
       "      <td>...</td>\n",
       "    </tr>\n",
       "    <tr>\n",
       "      <th>3910</th>\n",
       "      <td>SP</td>\n",
       "      <td>35</td>\n",
       "      <td>57204</td>\n",
       "      <td>Chavantes</td>\n",
       "      <td>12418</td>\n",
       "    </tr>\n",
       "    <tr>\n",
       "      <th>3911</th>\n",
       "      <td>SP</td>\n",
       "      <td>35</td>\n",
       "      <td>57303</td>\n",
       "      <td>Estiva Gerbi</td>\n",
       "      <td>11304</td>\n",
       "    </tr>\n",
       "  </tbody>\n",
       "</table>\n",
       "<p>1937 rows × 5 columns</p>\n",
       "</div>"
      ],
      "text/plain": [
       "      UF  COD. UF  COD. MUNIC NOME DO MUNICÍPIO  POPULAÇÃO ESTIMADA\n",
       "52    AC       12          13        Acrelândia               15256\n",
       "53    AC       12          54      Assis Brasil                7417\n",
       "...   ..      ...         ...               ...                 ...\n",
       "3910  SP       35       57204         Chavantes               12418\n",
       "3911  SP       35       57303      Estiva Gerbi               11304\n",
       "\n",
       "[1937 rows x 5 columns]"
      ]
     },
     "execution_count": 34,
     "metadata": {
      "tags": []
     },
     "output_type": "execute_result"
    }
   ],
   "source": [
    "populacao.loc[populacao.UF.isin(['BA', 'AC','MG','SP'])]"
   ]
  },
  {
   "cell_type": "markdown",
   "metadata": {
    "id": "tU2sGy8460K9"
   },
   "source": [
    "Outras funções úteis são:"
   ]
  },
  {
   "cell_type": "code",
   "execution_count": null,
   "metadata": {
    "colab": {
     "base_uri": "https://localhost:8080/",
     "height": 49
    },
    "id": "nv2043Xa3K9o",
    "outputId": "43268007-4e7c-4e4c-f0ec-c52be16234b7"
   },
   "outputs": [
    {
     "data": {
      "text/html": [
       "<div>\n",
       "<style scoped>\n",
       "    .dataframe tbody tr th:only-of-type {\n",
       "        vertical-align: middle;\n",
       "    }\n",
       "\n",
       "    .dataframe tbody tr th {\n",
       "        vertical-align: top;\n",
       "    }\n",
       "\n",
       "    .dataframe thead th {\n",
       "        text-align: right;\n",
       "    }\n",
       "</style>\n",
       "<table border=\"1\" class=\"dataframe\">\n",
       "  <thead>\n",
       "    <tr style=\"text-align: right;\">\n",
       "      <th></th>\n",
       "      <th>UF</th>\n",
       "      <th>COD. UF</th>\n",
       "      <th>COD. MUNIC</th>\n",
       "      <th>NOME DO MUNICÍPIO</th>\n",
       "      <th>POPULAÇÃO ESTIMADA</th>\n",
       "    </tr>\n",
       "  </thead>\n",
       "  <tbody>\n",
       "  </tbody>\n",
       "</table>\n",
       "</div>"
      ],
      "text/plain": [
       "Empty DataFrame\n",
       "Columns: [UF, COD. UF, COD. MUNIC, NOME DO MUNICÍPIO, POPULAÇÃO ESTIMADA]\n",
       "Index: []"
      ]
     },
     "execution_count": 35,
     "metadata": {
      "tags": []
     },
     "output_type": "execute_result"
    }
   ],
   "source": [
    "populacao.loc[populacao['POPULAÇÃO ESTIMADA'].isnull()]"
   ]
  },
  {
   "cell_type": "markdown",
   "metadata": {
    "id": "V6x25BG96pS7"
   },
   "source": [
    "### Atribuindo dados"
   ]
  },
  {
   "cell_type": "markdown",
   "metadata": {
    "id": "xA_sPaqHK0jX"
   },
   "source": [
    "Podemos atribuir valores para uma coluna no DataFrame:"
   ]
  },
  {
   "cell_type": "code",
   "execution_count": null,
   "metadata": {
    "colab": {
     "base_uri": "https://localhost:8080/"
    },
    "id": "zxtZLing8uTA",
    "outputId": "f317c7c6-0384-447f-ea5d-2972b2e897ea"
   },
   "outputs": [
    {
     "data": {
      "text/plain": [
       "0       0\n",
       "1       0\n",
       "       ..\n",
       "5568    0\n",
       "5569    0\n",
       "Name: COD. MUNIC, Length: 5570, dtype: int64"
      ]
     },
     "execution_count": 36,
     "metadata": {
      "tags": []
     },
     "output_type": "execute_result"
    }
   ],
   "source": [
    "x = populacao\n",
    "x['COD. MUNIC'] = 0\n",
    "x['COD. MUNIC']"
   ]
  },
  {
   "cell_type": "markdown",
   "metadata": {
    "id": "afFeBYTNHzcm"
   },
   "source": [
    "Podemos mudar o código de todos os municípios abaixo:"
   ]
  },
  {
   "cell_type": "code",
   "execution_count": null,
   "metadata": {
    "colab": {
     "base_uri": "https://localhost:8080/",
     "height": 236
    },
    "id": "mTn-f5WX-Wve",
    "outputId": "0b0f0d81-b237-4251-f99c-7bbe86422aee"
   },
   "outputs": [
    {
     "data": {
      "text/html": [
       "<div>\n",
       "<style scoped>\n",
       "    .dataframe tbody tr th:only-of-type {\n",
       "        vertical-align: middle;\n",
       "    }\n",
       "\n",
       "    .dataframe tbody tr th {\n",
       "        vertical-align: top;\n",
       "    }\n",
       "\n",
       "    .dataframe thead th {\n",
       "        text-align: right;\n",
       "    }\n",
       "</style>\n",
       "<table border=\"1\" class=\"dataframe\">\n",
       "  <thead>\n",
       "    <tr style=\"text-align: right;\">\n",
       "      <th></th>\n",
       "      <th>UF</th>\n",
       "      <th>COD. UF</th>\n",
       "      <th>COD. MUNIC</th>\n",
       "      <th>NOME DO MUNICÍPIO</th>\n",
       "      <th>POPULAÇÃO ESTIMADA</th>\n",
       "    </tr>\n",
       "  </thead>\n",
       "  <tbody>\n",
       "    <tr>\n",
       "      <th>0</th>\n",
       "      <td>RO</td>\n",
       "      <td>11</td>\n",
       "      <td>1</td>\n",
       "      <td>Alta Floresta D'Oeste</td>\n",
       "      <td>22945</td>\n",
       "    </tr>\n",
       "    <tr>\n",
       "      <th>1</th>\n",
       "      <td>RO</td>\n",
       "      <td>11</td>\n",
       "      <td>2</td>\n",
       "      <td>Ariquemes</td>\n",
       "      <td>107863</td>\n",
       "    </tr>\n",
       "    <tr>\n",
       "      <th>...</th>\n",
       "      <td>...</td>\n",
       "      <td>...</td>\n",
       "      <td>...</td>\n",
       "      <td>...</td>\n",
       "      <td>...</td>\n",
       "    </tr>\n",
       "    <tr>\n",
       "      <th>5568</th>\n",
       "      <td>GO</td>\n",
       "      <td>52</td>\n",
       "      <td>5569</td>\n",
       "      <td>Vila Propício</td>\n",
       "      <td>5821</td>\n",
       "    </tr>\n",
       "    <tr>\n",
       "      <th>5569</th>\n",
       "      <td>DF</td>\n",
       "      <td>53</td>\n",
       "      <td>5570</td>\n",
       "      <td>Brasília</td>\n",
       "      <td>3015268</td>\n",
       "    </tr>\n",
       "  </tbody>\n",
       "</table>\n",
       "<p>5570 rows × 5 columns</p>\n",
       "</div>"
      ],
      "text/plain": [
       "      UF  COD. UF  COD. MUNIC      NOME DO MUNICÍPIO  POPULAÇÃO ESTIMADA\n",
       "0     RO       11           1  Alta Floresta D'Oeste               22945\n",
       "1     RO       11           2              Ariquemes              107863\n",
       "...   ..      ...         ...                    ...                 ...\n",
       "5568  GO       52        5569          Vila Propício                5821\n",
       "5569  DF       53        5570               Brasília             3015268\n",
       "\n",
       "[5570 rows x 5 columns]"
      ]
     },
     "execution_count": 37,
     "metadata": {
      "tags": []
     },
     "output_type": "execute_result"
    }
   ],
   "source": [
    "x = populacao\n",
    "x['COD. MUNIC'] = range(1,len(x)+1, 1)\n",
    "x"
   ]
  },
  {
   "cell_type": "markdown",
   "metadata": {
    "id": "6ddA43a5QPhf"
   },
   "source": [
    "# **Funções Sumary e Mapas** #"
   ]
  },
  {
   "cell_type": "markdown",
   "metadata": {
    "id": "r5r4akeCSDyy"
   },
   "source": [
    "### Funções Sumary"
   ]
  },
  {
   "cell_type": "markdown",
   "metadata": {
    "id": "brTtyBwda-d8"
   },
   "source": [
    "Algumas funções podem ser úteis para caracterizar de modo geral **Series** e **DataFrames**, vejamos algumas delas:"
   ]
  },
  {
   "cell_type": "code",
   "execution_count": null,
   "metadata": {
    "colab": {
     "base_uri": "https://localhost:8080/",
     "height": 236
    },
    "id": "jEUYCEgxQdFb",
    "outputId": "8bed7109-548b-46af-bd9f-f9f36d5bc4cc"
   },
   "outputs": [
    {
     "data": {
      "text/html": [
       "<div>\n",
       "<style scoped>\n",
       "    .dataframe tbody tr th:only-of-type {\n",
       "        vertical-align: middle;\n",
       "    }\n",
       "\n",
       "    .dataframe tbody tr th {\n",
       "        vertical-align: top;\n",
       "    }\n",
       "\n",
       "    .dataframe thead th {\n",
       "        text-align: right;\n",
       "    }\n",
       "</style>\n",
       "<table border=\"1\" class=\"dataframe\">\n",
       "  <thead>\n",
       "    <tr style=\"text-align: right;\">\n",
       "      <th></th>\n",
       "      <th>COD. UF</th>\n",
       "      <th>COD. MUNIC</th>\n",
       "      <th>POPULAÇÃO ESTIMADA</th>\n",
       "    </tr>\n",
       "  </thead>\n",
       "  <tbody>\n",
       "    <tr>\n",
       "      <th>count</th>\n",
       "      <td>5570.000000</td>\n",
       "      <td>5570.00</td>\n",
       "      <td>5.570000e+03</td>\n",
       "    </tr>\n",
       "    <tr>\n",
       "      <th>mean</th>\n",
       "      <td>32.377738</td>\n",
       "      <td>2785.50</td>\n",
       "      <td>3.772839e+04</td>\n",
       "    </tr>\n",
       "    <tr>\n",
       "      <th>...</th>\n",
       "      <td>...</td>\n",
       "      <td>...</td>\n",
       "      <td>...</td>\n",
       "    </tr>\n",
       "    <tr>\n",
       "      <th>75%</th>\n",
       "      <td>41.000000</td>\n",
       "      <td>4177.75</td>\n",
       "      <td>2.549050e+04</td>\n",
       "    </tr>\n",
       "    <tr>\n",
       "      <th>max</th>\n",
       "      <td>53.000000</td>\n",
       "      <td>5570.00</td>\n",
       "      <td>1.225202e+07</td>\n",
       "    </tr>\n",
       "  </tbody>\n",
       "</table>\n",
       "<p>8 rows × 3 columns</p>\n",
       "</div>"
      ],
      "text/plain": [
       "           COD. UF  COD. MUNIC  POPULAÇÃO ESTIMADA\n",
       "count  5570.000000     5570.00        5.570000e+03\n",
       "mean     32.377738     2785.50        3.772839e+04\n",
       "...            ...         ...                 ...\n",
       "75%      41.000000     4177.75        2.549050e+04\n",
       "max      53.000000     5570.00        1.225202e+07\n",
       "\n",
       "[8 rows x 3 columns]"
      ]
     },
     "execution_count": 43,
     "metadata": {
      "tags": []
     },
     "output_type": "execute_result"
    }
   ],
   "source": [
    "populacao.UF.describe()\n",
    "populacao.describe()"
   ]
  },
  {
   "cell_type": "code",
   "execution_count": null,
   "metadata": {
    "colab": {
     "base_uri": "https://localhost:8080/"
    },
    "id": "SO1xAd5fQy7h",
    "outputId": "9c041163-2b2c-4fd3-dc9f-a002b43eb33d"
   },
   "outputs": [
    {
     "data": {
      "text/plain": [
       "37728.38868940754"
      ]
     },
     "execution_count": 44,
     "metadata": {
      "tags": []
     },
     "output_type": "execute_result"
    }
   ],
   "source": [
    "populacao['POPULAÇÃO ESTIMADA'].mean()"
   ]
  },
  {
   "cell_type": "code",
   "execution_count": null,
   "metadata": {
    "colab": {
     "base_uri": "https://localhost:8080/"
    },
    "id": "mBLWqSaBRfBj",
    "outputId": "58a7babe-5083-4152-9dc1-695e3736cd4d"
   },
   "outputs": [
    {
     "data": {
      "text/plain": [
       "array(['RO', 'AC', 'AM', 'RR', 'PA', 'AP', 'TO', 'MA', 'PI', 'CE', 'RN',\n",
       "       'PB', 'PE', 'AL', 'SE', 'BA', 'MG', 'ES', 'RJ', 'SP', 'PR', 'SC',\n",
       "       'RS', 'MS', 'MT', 'GO', 'DF'], dtype=object)"
      ]
     },
     "execution_count": 45,
     "metadata": {
      "tags": []
     },
     "output_type": "execute_result"
    }
   ],
   "source": [
    "populacao.UF.unique()"
   ]
  },
  {
   "cell_type": "code",
   "execution_count": null,
   "metadata": {
    "colab": {
     "base_uri": "https://localhost:8080/"
    },
    "id": "EHhtvf0YRwB_",
    "outputId": "c06ff8cb-631a-4a6c-f9a9-a92ee8cdb4cc"
   },
   "outputs": [
    {
     "data": {
      "text/plain": [
       "MG    853\n",
       "SP    645\n",
       "     ... \n",
       "RR     15\n",
       "DF      1\n",
       "Name: UF, Length: 27, dtype: int64"
      ]
     },
     "execution_count": 46,
     "metadata": {
      "tags": []
     },
     "output_type": "execute_result"
    }
   ],
   "source": [
    "populacao.UF.value_counts()"
   ]
  },
  {
   "cell_type": "code",
   "execution_count": null,
   "metadata": {
    "id": "LW_8BqNNR7bI"
   },
   "outputs": [],
   "source": []
  },
  {
   "cell_type": "markdown",
   "metadata": {
    "id": "IEr6EyOoSZnG"
   },
   "source": [
    "### Mapas"
   ]
  },
  {
   "cell_type": "markdown",
   "metadata": {
    "id": "JUqlzHmibTCh"
   },
   "source": [
    "Estes métodos ajudam a realizar diversas manipulações:"
   ]
  },
  {
   "cell_type": "code",
   "execution_count": null,
   "metadata": {
    "colab": {
     "base_uri": "https://localhost:8080/"
    },
    "id": "PNz61LWDSclF",
    "outputId": "d1f3312c-c298-4d9e-9e38-f3a3449d9300"
   },
   "outputs": [
    {
     "data": {
      "text/plain": [
       "0      -1.478339e+04\n",
       "1       7.013461e+04\n",
       "            ...     \n",
       "5568   -3.190739e+04\n",
       "5569    2.977540e+06\n",
       "Name: POPULAÇÃO ESTIMADA, Length: 5570, dtype: float64"
      ]
     },
     "execution_count": 47,
     "metadata": {
      "tags": []
     },
     "output_type": "execute_result"
    }
   ],
   "source": [
    "populacao_media = populacao['POPULAÇÃO ESTIMADA'].mean()\n",
    "populacao['POPULAÇÃO ESTIMADA'].map(lambda p: p - populacao_media)"
   ]
  },
  {
   "cell_type": "code",
   "execution_count": null,
   "metadata": {
    "colab": {
     "base_uri": "https://localhost:8080/",
     "height": 236
    },
    "id": "F7suQs56TVwm",
    "outputId": "792382dd-ed61-4eb2-d929-f1b2ace2664c"
   },
   "outputs": [
    {
     "data": {
      "text/html": [
       "<div>\n",
       "<style scoped>\n",
       "    .dataframe tbody tr th:only-of-type {\n",
       "        vertical-align: middle;\n",
       "    }\n",
       "\n",
       "    .dataframe tbody tr th {\n",
       "        vertical-align: top;\n",
       "    }\n",
       "\n",
       "    .dataframe thead th {\n",
       "        text-align: right;\n",
       "    }\n",
       "</style>\n",
       "<table border=\"1\" class=\"dataframe\">\n",
       "  <thead>\n",
       "    <tr style=\"text-align: right;\">\n",
       "      <th></th>\n",
       "      <th>UF</th>\n",
       "      <th>COD. UF</th>\n",
       "      <th>COD. MUNIC</th>\n",
       "      <th>NOME DO MUNICÍPIO</th>\n",
       "      <th>POPULAÇÃO ESTIMADA</th>\n",
       "    </tr>\n",
       "  </thead>\n",
       "  <tbody>\n",
       "    <tr>\n",
       "      <th>0</th>\n",
       "      <td>RO</td>\n",
       "      <td>11</td>\n",
       "      <td>1</td>\n",
       "      <td>Alta Floresta D'Oeste</td>\n",
       "      <td>21945</td>\n",
       "    </tr>\n",
       "    <tr>\n",
       "      <th>1</th>\n",
       "      <td>RO</td>\n",
       "      <td>11</td>\n",
       "      <td>2</td>\n",
       "      <td>Ariquemes</td>\n",
       "      <td>106863</td>\n",
       "    </tr>\n",
       "    <tr>\n",
       "      <th>...</th>\n",
       "      <td>...</td>\n",
       "      <td>...</td>\n",
       "      <td>...</td>\n",
       "      <td>...</td>\n",
       "      <td>...</td>\n",
       "    </tr>\n",
       "    <tr>\n",
       "      <th>5568</th>\n",
       "      <td>GO</td>\n",
       "      <td>52</td>\n",
       "      <td>5569</td>\n",
       "      <td>Vila Propício</td>\n",
       "      <td>4821</td>\n",
       "    </tr>\n",
       "    <tr>\n",
       "      <th>5569</th>\n",
       "      <td>DF</td>\n",
       "      <td>53</td>\n",
       "      <td>5570</td>\n",
       "      <td>Brasília</td>\n",
       "      <td>3014268</td>\n",
       "    </tr>\n",
       "  </tbody>\n",
       "</table>\n",
       "<p>5570 rows × 5 columns</p>\n",
       "</div>"
      ],
      "text/plain": [
       "      UF  COD. UF  COD. MUNIC      NOME DO MUNICÍPIO  POPULAÇÃO ESTIMADA\n",
       "0     RO       11           1  Alta Floresta D'Oeste               21945\n",
       "1     RO       11           2              Ariquemes              106863\n",
       "...   ..      ...         ...                    ...                 ...\n",
       "5568  GO       52        5569          Vila Propício                4821\n",
       "5569  DF       53        5570               Brasília             3014268\n",
       "\n",
       "[5570 rows x 5 columns]"
      ]
     },
     "execution_count": 48,
     "metadata": {
      "tags": []
     },
     "output_type": "execute_result"
    }
   ],
   "source": [
    "def mudar_media(row):\n",
    "    row['POPULAÇÃO ESTIMADA'] = row['POPULAÇÃO ESTIMADA'] - 1000\n",
    "    return row\n",
    "\n",
    "populacao.apply(mudar_media, axis='columns')"
   ]
  },
  {
   "cell_type": "code",
   "execution_count": null,
   "metadata": {
    "id": "R6KUv3rQUIRE"
   },
   "outputs": [],
   "source": [
    "populacao"
   ]
  },
  {
   "cell_type": "code",
   "execution_count": null,
   "metadata": {
    "colab": {
     "base_uri": "https://localhost:8080/"
    },
    "id": "MwbzBV2mVa9o",
    "outputId": "ad8c05f3-00d8-4971-d05b-bfff10acab2b"
   },
   "outputs": [
    {
     "data": {
      "text/plain": [
       "0      -1.478339e+04\n",
       "1       7.013461e+04\n",
       "            ...     \n",
       "5568   -3.190739e+04\n",
       "5569    2.977540e+06\n",
       "Name: POPULAÇÃO ESTIMADA, Length: 5570, dtype: float64"
      ]
     },
     "execution_count": 49,
     "metadata": {
      "tags": []
     },
     "output_type": "execute_result"
    }
   ],
   "source": [
    "populacao['POPULAÇÃO ESTIMADA'] - populacao['POPULAÇÃO ESTIMADA'].mean()"
   ]
  },
  {
   "cell_type": "code",
   "execution_count": null,
   "metadata": {
    "colab": {
     "base_uri": "https://localhost:8080/"
    },
    "id": "_eiAuzKdVyBi",
    "outputId": "1ed38597-1774-4081-9da8-27c03132137f"
   },
   "outputs": [
    {
     "data": {
      "text/plain": [
       "0       Alta Floresta D'Oeste, RO\n",
       "1                   Ariquemes, RO\n",
       "                  ...            \n",
       "5568            Vila Propício, GO\n",
       "5569                 Brasília, DF\n",
       "Length: 5570, dtype: object"
      ]
     },
     "execution_count": 50,
     "metadata": {
      "tags": []
     },
     "output_type": "execute_result"
    }
   ],
   "source": [
    "populacao['NOME DO MUNICÍPIO'] + \", \" + populacao.UF"
   ]
  },
  {
   "cell_type": "code",
   "execution_count": null,
   "metadata": {
    "colab": {
     "base_uri": "https://localhost:8080/"
    },
    "id": "yaswBPSWWLpl",
    "outputId": "a6d29102-57ef-4b51-e5fe-2b1fdaf22c12"
   },
   "outputs": [
    {
     "name": "stdout",
     "output_type": "stream",
     "text": [
      "Alta Floresta D'Oeste, RO\n",
      "Ariquemes, RO\n",
      "Cabixi, RO\n",
      "Cacoal, RO\n",
      "Cerejeiras, RO\n",
      "Colorado do Oeste, RO\n",
      "Corumbiara, RO\n",
      "Costa Marques, RO\n",
      "Espigão D'Oeste, RO\n",
      "Guajará-Mirim, RO\n"
     ]
    }
   ],
   "source": [
    "x = populacao['NOME DO MUNICÍPIO'] + \", \" + populacao.UF\n",
    "for i in range(10): # Ou len(x)\n",
    "  print(x[i])"
   ]
  },
  {
   "cell_type": "markdown",
   "metadata": {
    "id": "crfbKpAh3p6n"
   },
   "source": [
    "# **Agrupamento e Ordenação** #"
   ]
  },
  {
   "cell_type": "markdown",
   "metadata": {
    "id": "7NQXcKE4q85a"
   },
   "source": [
    "### Agrupamentos"
   ]
  },
  {
   "cell_type": "markdown",
   "metadata": {
    "id": "vLAY0LLNcQRy"
   },
   "source": [
    "Vamos começar importando o dataset"
   ]
  },
  {
   "cell_type": "code",
   "execution_count": null,
   "metadata": {
    "colab": {
     "base_uri": "https://localhost:8080/",
     "height": 424
    },
    "id": "J3NOQrBLcERb",
    "outputId": "abccf764-fd0e-49bf-c252-3aae29f544f2"
   },
   "outputs": [
    {
     "data": {
      "text/html": [
       "<div>\n",
       "<style scoped>\n",
       "    .dataframe tbody tr th:only-of-type {\n",
       "        vertical-align: middle;\n",
       "    }\n",
       "\n",
       "    .dataframe tbody tr th {\n",
       "        vertical-align: top;\n",
       "    }\n",
       "\n",
       "    .dataframe thead th {\n",
       "        text-align: right;\n",
       "    }\n",
       "</style>\n",
       "<table border=\"1\" class=\"dataframe\">\n",
       "  <thead>\n",
       "    <tr style=\"text-align: right;\">\n",
       "      <th></th>\n",
       "      <th>UF</th>\n",
       "      <th>COD. UF</th>\n",
       "      <th>COD. MUNIC</th>\n",
       "      <th>NOME DO MUNICÍPIO</th>\n",
       "      <th>POPULAÇÃO ESTIMADA</th>\n",
       "    </tr>\n",
       "  </thead>\n",
       "  <tbody>\n",
       "    <tr>\n",
       "      <th>0</th>\n",
       "      <td>RO</td>\n",
       "      <td>11</td>\n",
       "      <td>15</td>\n",
       "      <td>Alta Floresta D'Oeste</td>\n",
       "      <td>22945</td>\n",
       "    </tr>\n",
       "    <tr>\n",
       "      <th>1</th>\n",
       "      <td>RO</td>\n",
       "      <td>11</td>\n",
       "      <td>23</td>\n",
       "      <td>Ariquemes</td>\n",
       "      <td>107863</td>\n",
       "    </tr>\n",
       "    <tr>\n",
       "      <th>2</th>\n",
       "      <td>RO</td>\n",
       "      <td>11</td>\n",
       "      <td>31</td>\n",
       "      <td>Cabixi</td>\n",
       "      <td>5312</td>\n",
       "    </tr>\n",
       "    <tr>\n",
       "      <th>3</th>\n",
       "      <td>RO</td>\n",
       "      <td>11</td>\n",
       "      <td>49</td>\n",
       "      <td>Cacoal</td>\n",
       "      <td>85359</td>\n",
       "    </tr>\n",
       "    <tr>\n",
       "      <th>4</th>\n",
       "      <td>RO</td>\n",
       "      <td>11</td>\n",
       "      <td>56</td>\n",
       "      <td>Cerejeiras</td>\n",
       "      <td>16323</td>\n",
       "    </tr>\n",
       "    <tr>\n",
       "      <th>...</th>\n",
       "      <td>...</td>\n",
       "      <td>...</td>\n",
       "      <td>...</td>\n",
       "      <td>...</td>\n",
       "      <td>...</td>\n",
       "    </tr>\n",
       "    <tr>\n",
       "      <th>5565</th>\n",
       "      <td>GO</td>\n",
       "      <td>52</td>\n",
       "      <td>22005</td>\n",
       "      <td>Vianópolis</td>\n",
       "      <td>13863</td>\n",
       "    </tr>\n",
       "    <tr>\n",
       "      <th>5566</th>\n",
       "      <td>GO</td>\n",
       "      <td>52</td>\n",
       "      <td>22054</td>\n",
       "      <td>Vicentinópolis</td>\n",
       "      <td>8743</td>\n",
       "    </tr>\n",
       "    <tr>\n",
       "      <th>5567</th>\n",
       "      <td>GO</td>\n",
       "      <td>52</td>\n",
       "      <td>22203</td>\n",
       "      <td>Vila Boa</td>\n",
       "      <td>6171</td>\n",
       "    </tr>\n",
       "    <tr>\n",
       "      <th>5568</th>\n",
       "      <td>GO</td>\n",
       "      <td>52</td>\n",
       "      <td>22302</td>\n",
       "      <td>Vila Propício</td>\n",
       "      <td>5821</td>\n",
       "    </tr>\n",
       "    <tr>\n",
       "      <th>5569</th>\n",
       "      <td>DF</td>\n",
       "      <td>53</td>\n",
       "      <td>108</td>\n",
       "      <td>Brasília</td>\n",
       "      <td>3015268</td>\n",
       "    </tr>\n",
       "  </tbody>\n",
       "</table>\n",
       "<p>5570 rows × 5 columns</p>\n",
       "</div>"
      ],
      "text/plain": [
       "      UF  COD. UF  COD. MUNIC      NOME DO MUNICÍPIO  POPULAÇÃO ESTIMADA\n",
       "0     RO       11          15  Alta Floresta D'Oeste               22945\n",
       "1     RO       11          23              Ariquemes              107863\n",
       "2     RO       11          31                 Cabixi                5312\n",
       "3     RO       11          49                 Cacoal               85359\n",
       "4     RO       11          56             Cerejeiras               16323\n",
       "...   ..      ...         ...                    ...                 ...\n",
       "5565  GO       52       22005             Vianópolis               13863\n",
       "5566  GO       52       22054         Vicentinópolis                8743\n",
       "5567  GO       52       22203               Vila Boa                6171\n",
       "5568  GO       52       22302          Vila Propício                5821\n",
       "5569  DF       53         108               Brasília             3015268\n",
       "\n",
       "[5570 rows x 5 columns]"
      ]
     },
     "execution_count": 52,
     "metadata": {
      "tags": []
     },
     "output_type": "execute_result"
    }
   ],
   "source": [
    "import pandas as pd\n",
    "populacao = pd.read_csv(\"/content/sample_data/populacao.csv\")\n",
    "pd.set_option('max_rows', 10)\n",
    "populacao"
   ]
  },
  {
   "cell_type": "markdown",
   "metadata": {
    "id": "pj6mDh8P5TJ_"
   },
   "source": [
    "Vamos investigar alguns métodos de agrupamento:"
   ]
  },
  {
   "cell_type": "code",
   "execution_count": null,
   "metadata": {
    "colab": {
     "base_uri": "https://localhost:8080/"
    },
    "id": "W-aOl4JEdF_o",
    "outputId": "717a3ac2-157b-48be-86fc-02c872978927"
   },
   "outputs": [
    {
     "data": {
      "text/plain": [
       "UF\n",
       "AC     22\n",
       "AL    102\n",
       "AM     62\n",
       "AP     16\n",
       "BA    417\n",
       "     ... \n",
       "RS    497\n",
       "SC    295\n",
       "SE     75\n",
       "SP    645\n",
       "TO    139\n",
       "Name: UF, Length: 27, dtype: int64"
      ]
     },
     "execution_count": 53,
     "metadata": {
      "tags": []
     },
     "output_type": "execute_result"
    }
   ],
   "source": [
    "populacao.groupby('UF').UF.count()"
   ]
  },
  {
   "cell_type": "code",
   "execution_count": null,
   "metadata": {
    "colab": {
     "base_uri": "https://localhost:8080/"
    },
    "id": "F3wN_5Mgc22E",
    "outputId": "0ee85df3-b88e-46f4-9497-4f167e2cbf9a"
   },
   "outputs": [
    {
     "data": {
      "text/plain": [
       "UF\n",
       "AC    40087.954545\n",
       "AL    32719.186275\n",
       "AM    66848.338710\n",
       "AP    52858.187500\n",
       "BA    35666.820144\n",
       "          ...     \n",
       "RS    22891.828974\n",
       "SC    24287.416949\n",
       "SE    30649.280000\n",
       "SP    71192.324031\n",
       "TO    11315.582734\n",
       "Name: POPULAÇÃO ESTIMADA, Length: 27, dtype: float64"
      ]
     },
     "execution_count": 57,
     "metadata": {
      "tags": []
     },
     "output_type": "execute_result"
    }
   ],
   "source": [
    "populacao.groupby('UF')['POPULAÇÃO ESTIMADA'].mean()"
   ]
  },
  {
   "cell_type": "code",
   "execution_count": null,
   "metadata": {
    "colab": {
     "base_uri": "https://localhost:8080/"
    },
    "id": "HVKE2cQggZxr",
    "outputId": "33b43c38-d5a7-46e0-ad35-56c244568092"
   },
   "outputs": [
    {
     "data": {
      "text/plain": [
       "UF      \n",
       "AC  66        Rio Branco\n",
       "AL  1696          Maceió\n",
       "AM  111           Manaus\n",
       "AP  303           Macapá\n",
       "BA  2162        Salvador\n",
       "                ...     \n",
       "RS  4931    Porto Alegre\n",
       "SC  4447       Joinville\n",
       "SE  1754         Aracaju\n",
       "SP  3829       São Paulo\n",
       "TO  443           Palmas\n",
       "Name: NOME DO MUNICÍPIO, Length: 27, dtype: object"
      ]
     },
     "execution_count": 61,
     "metadata": {
      "tags": []
     },
     "output_type": "execute_result"
    }
   ],
   "source": [
    "x=populacao.groupby('UF').apply(lambda df: df['NOME DO MUNICÍPIO'].loc[df['POPULAÇÃO ESTIMADA'] == df['POPULAÇÃO ESTIMADA'].max()])\n",
    "x"
   ]
  },
  {
   "cell_type": "code",
   "execution_count": null,
   "metadata": {
    "colab": {
     "base_uri": "https://localhost:8080/",
     "height": 455
    },
    "id": "3e8uhYgbn3VG",
    "outputId": "59906b57-62f0-40bc-83b5-f52a037557ba"
   },
   "outputs": [
    {
     "data": {
      "text/html": [
       "<div>\n",
       "<style scoped>\n",
       "    .dataframe tbody tr th:only-of-type {\n",
       "        vertical-align: middle;\n",
       "    }\n",
       "\n",
       "    .dataframe tbody tr th {\n",
       "        vertical-align: top;\n",
       "    }\n",
       "\n",
       "    .dataframe thead th {\n",
       "        text-align: right;\n",
       "    }\n",
       "</style>\n",
       "<table border=\"1\" class=\"dataframe\">\n",
       "  <thead>\n",
       "    <tr style=\"text-align: right;\">\n",
       "      <th></th>\n",
       "      <th></th>\n",
       "      <th>UF</th>\n",
       "      <th>COD. UF</th>\n",
       "      <th>COD. MUNIC</th>\n",
       "      <th>NOME DO MUNICÍPIO</th>\n",
       "      <th>POPULAÇÃO ESTIMADA</th>\n",
       "    </tr>\n",
       "    <tr>\n",
       "      <th>COD. UF</th>\n",
       "      <th>NOME DO MUNICÍPIO</th>\n",
       "      <th></th>\n",
       "      <th></th>\n",
       "      <th></th>\n",
       "      <th></th>\n",
       "      <th></th>\n",
       "    </tr>\n",
       "  </thead>\n",
       "  <tbody>\n",
       "    <tr>\n",
       "      <th rowspan=\"5\" valign=\"top\">11</th>\n",
       "      <th>Alta Floresta D'Oeste</th>\n",
       "      <td>RO</td>\n",
       "      <td>11</td>\n",
       "      <td>15</td>\n",
       "      <td>Alta Floresta D'Oeste</td>\n",
       "      <td>22945</td>\n",
       "    </tr>\n",
       "    <tr>\n",
       "      <th>Alto Alegre dos Parecis</th>\n",
       "      <td>RO</td>\n",
       "      <td>11</td>\n",
       "      <td>379</td>\n",
       "      <td>Alto Alegre dos Parecis</td>\n",
       "      <td>13241</td>\n",
       "    </tr>\n",
       "    <tr>\n",
       "      <th>Alto Paraíso</th>\n",
       "      <td>RO</td>\n",
       "      <td>11</td>\n",
       "      <td>403</td>\n",
       "      <td>Alto Paraíso</td>\n",
       "      <td>21428</td>\n",
       "    </tr>\n",
       "    <tr>\n",
       "      <th>Alvorada D'Oeste</th>\n",
       "      <td>RO</td>\n",
       "      <td>11</td>\n",
       "      <td>346</td>\n",
       "      <td>Alvorada D'Oeste</td>\n",
       "      <td>14411</td>\n",
       "    </tr>\n",
       "    <tr>\n",
       "      <th>Ariquemes</th>\n",
       "      <td>RO</td>\n",
       "      <td>11</td>\n",
       "      <td>23</td>\n",
       "      <td>Ariquemes</td>\n",
       "      <td>107863</td>\n",
       "    </tr>\n",
       "    <tr>\n",
       "      <th>...</th>\n",
       "      <th>...</th>\n",
       "      <td>...</td>\n",
       "      <td>...</td>\n",
       "      <td>...</td>\n",
       "      <td>...</td>\n",
       "      <td>...</td>\n",
       "    </tr>\n",
       "    <tr>\n",
       "      <th rowspan=\"4\" valign=\"top\">52</th>\n",
       "      <th>Vila Propício</th>\n",
       "      <td>GO</td>\n",
       "      <td>52</td>\n",
       "      <td>22302</td>\n",
       "      <td>Vila Propício</td>\n",
       "      <td>5821</td>\n",
       "    </tr>\n",
       "    <tr>\n",
       "      <th>Água Fria de Goiás</th>\n",
       "      <td>GO</td>\n",
       "      <td>52</td>\n",
       "      <td>175</td>\n",
       "      <td>Água Fria de Goiás</td>\n",
       "      <td>5735</td>\n",
       "    </tr>\n",
       "    <tr>\n",
       "      <th>Água Limpa</th>\n",
       "      <td>GO</td>\n",
       "      <td>52</td>\n",
       "      <td>209</td>\n",
       "      <td>Água Limpa</td>\n",
       "      <td>1850</td>\n",
       "    </tr>\n",
       "    <tr>\n",
       "      <th>Águas Lindas de Goiás</th>\n",
       "      <td>GO</td>\n",
       "      <td>52</td>\n",
       "      <td>258</td>\n",
       "      <td>Águas Lindas de Goiás</td>\n",
       "      <td>212440</td>\n",
       "    </tr>\n",
       "    <tr>\n",
       "      <th>53</th>\n",
       "      <th>Brasília</th>\n",
       "      <td>DF</td>\n",
       "      <td>53</td>\n",
       "      <td>108</td>\n",
       "      <td>Brasília</td>\n",
       "      <td>3015268</td>\n",
       "    </tr>\n",
       "  </tbody>\n",
       "</table>\n",
       "<p>5570 rows × 5 columns</p>\n",
       "</div>"
      ],
      "text/plain": [
       "                                 UF  ...  POPULAÇÃO ESTIMADA\n",
       "COD. UF NOME DO MUNICÍPIO            ...                    \n",
       "11      Alta Floresta D'Oeste    RO  ...               22945\n",
       "        Alto Alegre dos Parecis  RO  ...               13241\n",
       "        Alto Paraíso             RO  ...               21428\n",
       "        Alvorada D'Oeste         RO  ...               14411\n",
       "        Ariquemes                RO  ...              107863\n",
       "...                              ..  ...                 ...\n",
       "52      Vila Propício            GO  ...                5821\n",
       "        Água Fria de Goiás       GO  ...                5735\n",
       "        Água Limpa               GO  ...                1850\n",
       "        Águas Lindas de Goiás    GO  ...              212440\n",
       "53      Brasília                 DF  ...             3015268\n",
       "\n",
       "[5570 rows x 5 columns]"
      ]
     },
     "execution_count": 59,
     "metadata": {
      "tags": []
     },
     "output_type": "execute_result"
    }
   ],
   "source": [
    "a = populacao.groupby(['COD. UF', 'NOME DO MUNICÍPIO']).apply(lambda df: df.loc[df['POPULAÇÃO ESTIMADA'].idxmax()])\n",
    "a"
   ]
  },
  {
   "cell_type": "code",
   "execution_count": null,
   "metadata": {
    "colab": {
     "base_uri": "https://localhost:8080/",
     "height": 455
    },
    "id": "FsHFzqZwqP3S",
    "outputId": "23ab893b-7b16-4010-b52b-499edb47f720"
   },
   "outputs": [
    {
     "data": {
      "text/html": [
       "<div>\n",
       "<style scoped>\n",
       "    .dataframe tbody tr th:only-of-type {\n",
       "        vertical-align: middle;\n",
       "    }\n",
       "\n",
       "    .dataframe tbody tr th {\n",
       "        vertical-align: top;\n",
       "    }\n",
       "\n",
       "    .dataframe thead th {\n",
       "        text-align: right;\n",
       "    }\n",
       "</style>\n",
       "<table border=\"1\" class=\"dataframe\">\n",
       "  <thead>\n",
       "    <tr style=\"text-align: right;\">\n",
       "      <th></th>\n",
       "      <th>len</th>\n",
       "      <th>min</th>\n",
       "      <th>max</th>\n",
       "    </tr>\n",
       "    <tr>\n",
       "      <th>UF</th>\n",
       "      <th></th>\n",
       "      <th></th>\n",
       "      <th></th>\n",
       "    </tr>\n",
       "  </thead>\n",
       "  <tbody>\n",
       "    <tr>\n",
       "      <th>AC</th>\n",
       "      <td>22</td>\n",
       "      <td>6540</td>\n",
       "      <td>407319</td>\n",
       "    </tr>\n",
       "    <tr>\n",
       "      <th>AL</th>\n",
       "      <td>102</td>\n",
       "      <td>2908</td>\n",
       "      <td>1018948</td>\n",
       "    </tr>\n",
       "    <tr>\n",
       "      <th>AM</th>\n",
       "      <td>62</td>\n",
       "      <td>2755</td>\n",
       "      <td>2182763</td>\n",
       "    </tr>\n",
       "    <tr>\n",
       "      <th>AP</th>\n",
       "      <td>16</td>\n",
       "      <td>5120</td>\n",
       "      <td>503327</td>\n",
       "    </tr>\n",
       "    <tr>\n",
       "      <th>BA</th>\n",
       "      <td>417</td>\n",
       "      <td>3161</td>\n",
       "      <td>2872347</td>\n",
       "    </tr>\n",
       "    <tr>\n",
       "      <th>...</th>\n",
       "      <td>...</td>\n",
       "      <td>...</td>\n",
       "      <td>...</td>\n",
       "    </tr>\n",
       "    <tr>\n",
       "      <th>RS</th>\n",
       "      <td>497</td>\n",
       "      <td>1034</td>\n",
       "      <td>1483771</td>\n",
       "    </tr>\n",
       "    <tr>\n",
       "      <th>SC</th>\n",
       "      <td>295</td>\n",
       "      <td>1260</td>\n",
       "      <td>590466</td>\n",
       "    </tr>\n",
       "    <tr>\n",
       "      <th>SE</th>\n",
       "      <td>75</td>\n",
       "      <td>2374</td>\n",
       "      <td>657013</td>\n",
       "    </tr>\n",
       "    <tr>\n",
       "      <th>SP</th>\n",
       "      <td>645</td>\n",
       "      <td>837</td>\n",
       "      <td>12252023</td>\n",
       "    </tr>\n",
       "    <tr>\n",
       "      <th>TO</th>\n",
       "      <td>139</td>\n",
       "      <td>1112</td>\n",
       "      <td>299127</td>\n",
       "    </tr>\n",
       "  </tbody>\n",
       "</table>\n",
       "<p>27 rows × 3 columns</p>\n",
       "</div>"
      ],
      "text/plain": [
       "    len   min       max\n",
       "UF                     \n",
       "AC   22  6540    407319\n",
       "AL  102  2908   1018948\n",
       "AM   62  2755   2182763\n",
       "AP   16  5120    503327\n",
       "BA  417  3161   2872347\n",
       "..  ...   ...       ...\n",
       "RS  497  1034   1483771\n",
       "SC  295  1260    590466\n",
       "SE   75  2374    657013\n",
       "SP  645   837  12252023\n",
       "TO  139  1112    299127\n",
       "\n",
       "[27 rows x 3 columns]"
      ]
     },
     "execution_count": 62,
     "metadata": {
      "tags": []
     },
     "output_type": "execute_result"
    }
   ],
   "source": [
    "populacao.groupby(['UF'])['POPULAÇÃO ESTIMADA'].agg([len, min, max])"
   ]
  },
  {
   "cell_type": "markdown",
   "metadata": {
    "id": "jvoEwKKKrHEz"
   },
   "source": [
    "### Multiplos-índices"
   ]
  },
  {
   "cell_type": "markdown",
   "metadata": {
    "id": "snMV8HZ555ld"
   },
   "source": [
    "É possível também trabalhar com múltiplos índices"
   ]
  },
  {
   "cell_type": "code",
   "execution_count": null,
   "metadata": {
    "colab": {
     "base_uri": "https://localhost:8080/",
     "height": 455
    },
    "id": "uYJosw66sUzi",
    "outputId": "63b826da-0486-428a-9470-a270072a42b8"
   },
   "outputs": [
    {
     "data": {
      "text/html": [
       "<div>\n",
       "<style scoped>\n",
       "    .dataframe tbody tr th:only-of-type {\n",
       "        vertical-align: middle;\n",
       "    }\n",
       "\n",
       "    .dataframe tbody tr th {\n",
       "        vertical-align: top;\n",
       "    }\n",
       "\n",
       "    .dataframe thead th {\n",
       "        text-align: right;\n",
       "    }\n",
       "</style>\n",
       "<table border=\"1\" class=\"dataframe\">\n",
       "  <thead>\n",
       "    <tr style=\"text-align: right;\">\n",
       "      <th></th>\n",
       "      <th></th>\n",
       "      <th>UF</th>\n",
       "      <th>COD. UF</th>\n",
       "      <th>COD. MUNIC</th>\n",
       "      <th>NOME DO MUNICÍPIO</th>\n",
       "      <th>POPULAÇÃO ESTIMADA</th>\n",
       "    </tr>\n",
       "    <tr>\n",
       "      <th>COD. UF</th>\n",
       "      <th>NOME DO MUNICÍPIO</th>\n",
       "      <th></th>\n",
       "      <th></th>\n",
       "      <th></th>\n",
       "      <th></th>\n",
       "      <th></th>\n",
       "    </tr>\n",
       "  </thead>\n",
       "  <tbody>\n",
       "    <tr>\n",
       "      <th rowspan=\"5\" valign=\"top\">11</th>\n",
       "      <th>Alta Floresta D'Oeste</th>\n",
       "      <td>RO</td>\n",
       "      <td>11</td>\n",
       "      <td>15</td>\n",
       "      <td>Alta Floresta D'Oeste</td>\n",
       "      <td>22945</td>\n",
       "    </tr>\n",
       "    <tr>\n",
       "      <th>Alto Alegre dos Parecis</th>\n",
       "      <td>RO</td>\n",
       "      <td>11</td>\n",
       "      <td>379</td>\n",
       "      <td>Alto Alegre dos Parecis</td>\n",
       "      <td>13241</td>\n",
       "    </tr>\n",
       "    <tr>\n",
       "      <th>Alto Paraíso</th>\n",
       "      <td>RO</td>\n",
       "      <td>11</td>\n",
       "      <td>403</td>\n",
       "      <td>Alto Paraíso</td>\n",
       "      <td>21428</td>\n",
       "    </tr>\n",
       "    <tr>\n",
       "      <th>Alvorada D'Oeste</th>\n",
       "      <td>RO</td>\n",
       "      <td>11</td>\n",
       "      <td>346</td>\n",
       "      <td>Alvorada D'Oeste</td>\n",
       "      <td>14411</td>\n",
       "    </tr>\n",
       "    <tr>\n",
       "      <th>Ariquemes</th>\n",
       "      <td>RO</td>\n",
       "      <td>11</td>\n",
       "      <td>23</td>\n",
       "      <td>Ariquemes</td>\n",
       "      <td>107863</td>\n",
       "    </tr>\n",
       "    <tr>\n",
       "      <th>...</th>\n",
       "      <th>...</th>\n",
       "      <td>...</td>\n",
       "      <td>...</td>\n",
       "      <td>...</td>\n",
       "      <td>...</td>\n",
       "      <td>...</td>\n",
       "    </tr>\n",
       "    <tr>\n",
       "      <th rowspan=\"4\" valign=\"top\">52</th>\n",
       "      <th>Vila Propício</th>\n",
       "      <td>GO</td>\n",
       "      <td>52</td>\n",
       "      <td>22302</td>\n",
       "      <td>Vila Propício</td>\n",
       "      <td>5821</td>\n",
       "    </tr>\n",
       "    <tr>\n",
       "      <th>Água Fria de Goiás</th>\n",
       "      <td>GO</td>\n",
       "      <td>52</td>\n",
       "      <td>175</td>\n",
       "      <td>Água Fria de Goiás</td>\n",
       "      <td>5735</td>\n",
       "    </tr>\n",
       "    <tr>\n",
       "      <th>Água Limpa</th>\n",
       "      <td>GO</td>\n",
       "      <td>52</td>\n",
       "      <td>209</td>\n",
       "      <td>Água Limpa</td>\n",
       "      <td>1850</td>\n",
       "    </tr>\n",
       "    <tr>\n",
       "      <th>Águas Lindas de Goiás</th>\n",
       "      <td>GO</td>\n",
       "      <td>52</td>\n",
       "      <td>258</td>\n",
       "      <td>Águas Lindas de Goiás</td>\n",
       "      <td>212440</td>\n",
       "    </tr>\n",
       "    <tr>\n",
       "      <th>53</th>\n",
       "      <th>Brasília</th>\n",
       "      <td>DF</td>\n",
       "      <td>53</td>\n",
       "      <td>108</td>\n",
       "      <td>Brasília</td>\n",
       "      <td>3015268</td>\n",
       "    </tr>\n",
       "  </tbody>\n",
       "</table>\n",
       "<p>5570 rows × 5 columns</p>\n",
       "</div>"
      ],
      "text/plain": [
       "                                 UF  ...  POPULAÇÃO ESTIMADA\n",
       "COD. UF NOME DO MUNICÍPIO            ...                    \n",
       "11      Alta Floresta D'Oeste    RO  ...               22945\n",
       "        Alto Alegre dos Parecis  RO  ...               13241\n",
       "        Alto Paraíso             RO  ...               21428\n",
       "        Alvorada D'Oeste         RO  ...               14411\n",
       "        Ariquemes                RO  ...              107863\n",
       "...                              ..  ...                 ...\n",
       "52      Vila Propício            GO  ...                5821\n",
       "        Água Fria de Goiás       GO  ...                5735\n",
       "        Água Limpa               GO  ...                1850\n",
       "        Águas Lindas de Goiás    GO  ...              212440\n",
       "53      Brasília                 DF  ...             3015268\n",
       "\n",
       "[5570 rows x 5 columns]"
      ]
     },
     "execution_count": 63,
     "metadata": {
      "tags": []
     },
     "output_type": "execute_result"
    }
   ],
   "source": [
    "a"
   ]
  },
  {
   "cell_type": "code",
   "execution_count": null,
   "metadata": {
    "colab": {
     "base_uri": "https://localhost:8080/",
     "height": 455
    },
    "id": "qSpUoemds23o",
    "outputId": "deef06c1-ca6a-4d70-a937-c8e37e35b42c"
   },
   "outputs": [
    {
     "data": {
      "text/html": [
       "<div>\n",
       "<style scoped>\n",
       "    .dataframe tbody tr th:only-of-type {\n",
       "        vertical-align: middle;\n",
       "    }\n",
       "\n",
       "    .dataframe tbody tr th {\n",
       "        vertical-align: top;\n",
       "    }\n",
       "\n",
       "    .dataframe thead th {\n",
       "        text-align: right;\n",
       "    }\n",
       "</style>\n",
       "<table border=\"1\" class=\"dataframe\">\n",
       "  <thead>\n",
       "    <tr style=\"text-align: right;\">\n",
       "      <th></th>\n",
       "      <th></th>\n",
       "      <th>len</th>\n",
       "    </tr>\n",
       "    <tr>\n",
       "      <th>COD. UF</th>\n",
       "      <th>NOME DO MUNICÍPIO</th>\n",
       "      <th></th>\n",
       "    </tr>\n",
       "  </thead>\n",
       "  <tbody>\n",
       "    <tr>\n",
       "      <th rowspan=\"5\" valign=\"top\">11</th>\n",
       "      <th>Alta Floresta D'Oeste</th>\n",
       "      <td>21</td>\n",
       "    </tr>\n",
       "    <tr>\n",
       "      <th>Alto Alegre dos Parecis</th>\n",
       "      <td>23</td>\n",
       "    </tr>\n",
       "    <tr>\n",
       "      <th>Alto Paraíso</th>\n",
       "      <td>12</td>\n",
       "    </tr>\n",
       "    <tr>\n",
       "      <th>Alvorada D'Oeste</th>\n",
       "      <td>16</td>\n",
       "    </tr>\n",
       "    <tr>\n",
       "      <th>Ariquemes</th>\n",
       "      <td>9</td>\n",
       "    </tr>\n",
       "    <tr>\n",
       "      <th>...</th>\n",
       "      <th>...</th>\n",
       "      <td>...</td>\n",
       "    </tr>\n",
       "    <tr>\n",
       "      <th rowspan=\"4\" valign=\"top\">52</th>\n",
       "      <th>Vila Propício</th>\n",
       "      <td>13</td>\n",
       "    </tr>\n",
       "    <tr>\n",
       "      <th>Água Fria de Goiás</th>\n",
       "      <td>18</td>\n",
       "    </tr>\n",
       "    <tr>\n",
       "      <th>Água Limpa</th>\n",
       "      <td>10</td>\n",
       "    </tr>\n",
       "    <tr>\n",
       "      <th>Águas Lindas de Goiás</th>\n",
       "      <td>21</td>\n",
       "    </tr>\n",
       "    <tr>\n",
       "      <th>53</th>\n",
       "      <th>Brasília</th>\n",
       "      <td>8</td>\n",
       "    </tr>\n",
       "  </tbody>\n",
       "</table>\n",
       "<p>5570 rows × 1 columns</p>\n",
       "</div>"
      ],
      "text/plain": [
       "                                 len\n",
       "COD. UF NOME DO MUNICÍPIO           \n",
       "11      Alta Floresta D'Oeste     21\n",
       "        Alto Alegre dos Parecis   23\n",
       "        Alto Paraíso              12\n",
       "        Alvorada D'Oeste          16\n",
       "        Ariquemes                  9\n",
       "...                              ...\n",
       "52      Vila Propício             13\n",
       "        Água Fria de Goiás        18\n",
       "        Água Limpa                10\n",
       "        Águas Lindas de Goiás     21\n",
       "53      Brasília                   8\n",
       "\n",
       "[5570 rows x 1 columns]"
      ]
     },
     "execution_count": 64,
     "metadata": {
      "tags": []
     },
     "output_type": "execute_result"
    }
   ],
   "source": [
    "b=a['NOME DO MUNICÍPIO'].agg([len])\n",
    "b"
   ]
  },
  {
   "cell_type": "code",
   "execution_count": null,
   "metadata": {
    "colab": {
     "base_uri": "https://localhost:8080/"
    },
    "id": "MhSSBs9dtQ3-",
    "outputId": "396c8c5d-d504-454f-8554-69f8b454dda6"
   },
   "outputs": [
    {
     "data": {
      "text/plain": [
       "pandas.core.indexes.multi.MultiIndex"
      ]
     },
     "execution_count": 65,
     "metadata": {
      "tags": []
     },
     "output_type": "execute_result"
    }
   ],
   "source": [
    "type(b.index)"
   ]
  },
  {
   "cell_type": "code",
   "execution_count": null,
   "metadata": {
    "colab": {
     "base_uri": "https://localhost:8080/",
     "height": 424
    },
    "id": "2yLH3elXteIX",
    "outputId": "433c40e7-6029-4adb-cba2-a8492e1b702e"
   },
   "outputs": [
    {
     "data": {
      "text/html": [
       "<div>\n",
       "<style scoped>\n",
       "    .dataframe tbody tr th:only-of-type {\n",
       "        vertical-align: middle;\n",
       "    }\n",
       "\n",
       "    .dataframe tbody tr th {\n",
       "        vertical-align: top;\n",
       "    }\n",
       "\n",
       "    .dataframe thead th {\n",
       "        text-align: right;\n",
       "    }\n",
       "</style>\n",
       "<table border=\"1\" class=\"dataframe\">\n",
       "  <thead>\n",
       "    <tr style=\"text-align: right;\">\n",
       "      <th></th>\n",
       "      <th>COD. UF</th>\n",
       "      <th>NOME DO MUNICÍPIO</th>\n",
       "      <th>len</th>\n",
       "    </tr>\n",
       "  </thead>\n",
       "  <tbody>\n",
       "    <tr>\n",
       "      <th>0</th>\n",
       "      <td>11</td>\n",
       "      <td>Alta Floresta D'Oeste</td>\n",
       "      <td>21</td>\n",
       "    </tr>\n",
       "    <tr>\n",
       "      <th>1</th>\n",
       "      <td>11</td>\n",
       "      <td>Alto Alegre dos Parecis</td>\n",
       "      <td>23</td>\n",
       "    </tr>\n",
       "    <tr>\n",
       "      <th>2</th>\n",
       "      <td>11</td>\n",
       "      <td>Alto Paraíso</td>\n",
       "      <td>12</td>\n",
       "    </tr>\n",
       "    <tr>\n",
       "      <th>3</th>\n",
       "      <td>11</td>\n",
       "      <td>Alvorada D'Oeste</td>\n",
       "      <td>16</td>\n",
       "    </tr>\n",
       "    <tr>\n",
       "      <th>4</th>\n",
       "      <td>11</td>\n",
       "      <td>Ariquemes</td>\n",
       "      <td>9</td>\n",
       "    </tr>\n",
       "    <tr>\n",
       "      <th>...</th>\n",
       "      <td>...</td>\n",
       "      <td>...</td>\n",
       "      <td>...</td>\n",
       "    </tr>\n",
       "    <tr>\n",
       "      <th>5565</th>\n",
       "      <td>52</td>\n",
       "      <td>Vila Propício</td>\n",
       "      <td>13</td>\n",
       "    </tr>\n",
       "    <tr>\n",
       "      <th>5566</th>\n",
       "      <td>52</td>\n",
       "      <td>Água Fria de Goiás</td>\n",
       "      <td>18</td>\n",
       "    </tr>\n",
       "    <tr>\n",
       "      <th>5567</th>\n",
       "      <td>52</td>\n",
       "      <td>Água Limpa</td>\n",
       "      <td>10</td>\n",
       "    </tr>\n",
       "    <tr>\n",
       "      <th>5568</th>\n",
       "      <td>52</td>\n",
       "      <td>Águas Lindas de Goiás</td>\n",
       "      <td>21</td>\n",
       "    </tr>\n",
       "    <tr>\n",
       "      <th>5569</th>\n",
       "      <td>53</td>\n",
       "      <td>Brasília</td>\n",
       "      <td>8</td>\n",
       "    </tr>\n",
       "  </tbody>\n",
       "</table>\n",
       "<p>5570 rows × 3 columns</p>\n",
       "</div>"
      ],
      "text/plain": [
       "      COD. UF        NOME DO MUNICÍPIO  len\n",
       "0          11    Alta Floresta D'Oeste   21\n",
       "1          11  Alto Alegre dos Parecis   23\n",
       "2          11             Alto Paraíso   12\n",
       "3          11         Alvorada D'Oeste   16\n",
       "4          11                Ariquemes    9\n",
       "...       ...                      ...  ...\n",
       "5565       52            Vila Propício   13\n",
       "5566       52       Água Fria de Goiás   18\n",
       "5567       52               Água Limpa   10\n",
       "5568       52    Águas Lindas de Goiás   21\n",
       "5569       53                 Brasília    8\n",
       "\n",
       "[5570 rows x 3 columns]"
      ]
     },
     "execution_count": 66,
     "metadata": {
      "tags": []
     },
     "output_type": "execute_result"
    }
   ],
   "source": [
    "b.reset_index()\n"
   ]
  },
  {
   "cell_type": "markdown",
   "metadata": {
    "id": "WmDOk1jfz5fY"
   },
   "source": [
    "### Ordenação"
   ]
  },
  {
   "cell_type": "markdown",
   "metadata": {
    "id": "NrzOWeao6gIR"
   },
   "source": [
    "Métodos para ordenação"
   ]
  },
  {
   "cell_type": "code",
   "execution_count": null,
   "metadata": {
    "colab": {
     "base_uri": "https://localhost:8080/",
     "height": 455
    },
    "id": "aVCtLN3iz-E2",
    "outputId": "a7f095c8-876f-4a94-8bca-1a2523014f66"
   },
   "outputs": [
    {
     "data": {
      "text/html": [
       "<div>\n",
       "<style scoped>\n",
       "    .dataframe tbody tr th:only-of-type {\n",
       "        vertical-align: middle;\n",
       "    }\n",
       "\n",
       "    .dataframe tbody tr th {\n",
       "        vertical-align: top;\n",
       "    }\n",
       "\n",
       "    .dataframe thead th {\n",
       "        text-align: right;\n",
       "    }\n",
       "</style>\n",
       "<table border=\"1\" class=\"dataframe\">\n",
       "  <thead>\n",
       "    <tr style=\"text-align: right;\">\n",
       "      <th></th>\n",
       "      <th></th>\n",
       "      <th>len</th>\n",
       "    </tr>\n",
       "    <tr>\n",
       "      <th>COD. UF</th>\n",
       "      <th>NOME DO MUNICÍPIO</th>\n",
       "      <th></th>\n",
       "    </tr>\n",
       "  </thead>\n",
       "  <tbody>\n",
       "    <tr>\n",
       "      <th>43</th>\n",
       "      <th>Ipê</th>\n",
       "      <td>3</td>\n",
       "    </tr>\n",
       "    <tr>\n",
       "      <th>29</th>\n",
       "      <th>Una</th>\n",
       "      <td>3</td>\n",
       "    </tr>\n",
       "    <tr>\n",
       "      <th>35</th>\n",
       "      <th>Jaú</th>\n",
       "      <td>3</td>\n",
       "    </tr>\n",
       "    <tr>\n",
       "      <th>26</th>\n",
       "      <th>Exu</th>\n",
       "      <td>3</td>\n",
       "    </tr>\n",
       "    <tr>\n",
       "      <th>31</th>\n",
       "      <th>Ubá</th>\n",
       "      <td>3</td>\n",
       "    </tr>\n",
       "    <tr>\n",
       "      <th>...</th>\n",
       "      <th>...</th>\n",
       "      <td>...</td>\n",
       "    </tr>\n",
       "    <tr>\n",
       "      <th>33</th>\n",
       "      <th>São José do Vale do Rio Preto</th>\n",
       "      <td>29</td>\n",
       "    </tr>\n",
       "    <tr>\n",
       "      <th>31</th>\n",
       "      <th>São Sebastião da Vargem Alegre</th>\n",
       "      <td>30</td>\n",
       "    </tr>\n",
       "    <tr>\n",
       "      <th>25</th>\n",
       "      <th>São Sebastião de Lagoa de Roça</th>\n",
       "      <td>30</td>\n",
       "    </tr>\n",
       "    <tr>\n",
       "      <th>22</th>\n",
       "      <th>São Francisco de Assis do Piauí</th>\n",
       "      <td>31</td>\n",
       "    </tr>\n",
       "    <tr>\n",
       "      <th>51</th>\n",
       "      <th>Vila Bela da Santíssima Trindade</th>\n",
       "      <td>32</td>\n",
       "    </tr>\n",
       "  </tbody>\n",
       "</table>\n",
       "<p>5570 rows × 1 columns</p>\n",
       "</div>"
      ],
      "text/plain": [
       "                                          len\n",
       "COD. UF NOME DO MUNICÍPIO                    \n",
       "43      Ipê                                 3\n",
       "29      Una                                 3\n",
       "35      Jaú                                 3\n",
       "26      Exu                                 3\n",
       "31      Ubá                                 3\n",
       "...                                       ...\n",
       "33      São José do Vale do Rio Preto      29\n",
       "31      São Sebastião da Vargem Alegre     30\n",
       "25      São Sebastião de Lagoa de Roça     30\n",
       "22      São Francisco de Assis do Piauí    31\n",
       "51      Vila Bela da Santíssima Trindade   32\n",
       "\n",
       "[5570 rows x 1 columns]"
      ]
     },
     "execution_count": 67,
     "metadata": {
      "tags": []
     },
     "output_type": "execute_result"
    }
   ],
   "source": [
    "b.sort_values(by='len')"
   ]
  },
  {
   "cell_type": "code",
   "execution_count": null,
   "metadata": {
    "colab": {
     "base_uri": "https://localhost:8080/",
     "height": 455
    },
    "id": "nKbSVaPF0C-J",
    "outputId": "6b024774-d7f7-4ca7-9e34-1f85d5e5731c"
   },
   "outputs": [
    {
     "data": {
      "text/html": [
       "<div>\n",
       "<style scoped>\n",
       "    .dataframe tbody tr th:only-of-type {\n",
       "        vertical-align: middle;\n",
       "    }\n",
       "\n",
       "    .dataframe tbody tr th {\n",
       "        vertical-align: top;\n",
       "    }\n",
       "\n",
       "    .dataframe thead th {\n",
       "        text-align: right;\n",
       "    }\n",
       "</style>\n",
       "<table border=\"1\" class=\"dataframe\">\n",
       "  <thead>\n",
       "    <tr style=\"text-align: right;\">\n",
       "      <th></th>\n",
       "      <th></th>\n",
       "      <th>len</th>\n",
       "    </tr>\n",
       "    <tr>\n",
       "      <th>COD. UF</th>\n",
       "      <th>NOME DO MUNICÍPIO</th>\n",
       "      <th></th>\n",
       "    </tr>\n",
       "  </thead>\n",
       "  <tbody>\n",
       "    <tr>\n",
       "      <th>51</th>\n",
       "      <th>Vila Bela da Santíssima Trindade</th>\n",
       "      <td>32</td>\n",
       "    </tr>\n",
       "    <tr>\n",
       "      <th>22</th>\n",
       "      <th>São Francisco de Assis do Piauí</th>\n",
       "      <td>31</td>\n",
       "    </tr>\n",
       "    <tr>\n",
       "      <th>31</th>\n",
       "      <th>São Sebastião da Vargem Alegre</th>\n",
       "      <td>30</td>\n",
       "    </tr>\n",
       "    <tr>\n",
       "      <th>25</th>\n",
       "      <th>São Sebastião de Lagoa de Roça</th>\n",
       "      <td>30</td>\n",
       "    </tr>\n",
       "    <tr>\n",
       "      <th>33</th>\n",
       "      <th>São José do Vale do Rio Preto</th>\n",
       "      <td>29</td>\n",
       "    </tr>\n",
       "    <tr>\n",
       "      <th>...</th>\n",
       "      <th>...</th>\n",
       "      <td>...</td>\n",
       "    </tr>\n",
       "    <tr>\n",
       "      <th rowspan=\"2\" valign=\"top\">35</th>\n",
       "      <th>Itu</th>\n",
       "      <td>3</td>\n",
       "    </tr>\n",
       "    <tr>\n",
       "      <th>Uru</th>\n",
       "      <td>3</td>\n",
       "    </tr>\n",
       "    <tr>\n",
       "      <th>23</th>\n",
       "      <th>Icó</th>\n",
       "      <td>3</td>\n",
       "    </tr>\n",
       "    <tr>\n",
       "      <th>29</th>\n",
       "      <th>Una</th>\n",
       "      <td>3</td>\n",
       "    </tr>\n",
       "    <tr>\n",
       "      <th>24</th>\n",
       "      <th>Açu</th>\n",
       "      <td>3</td>\n",
       "    </tr>\n",
       "  </tbody>\n",
       "</table>\n",
       "<p>5570 rows × 1 columns</p>\n",
       "</div>"
      ],
      "text/plain": [
       "                                          len\n",
       "COD. UF NOME DO MUNICÍPIO                    \n",
       "51      Vila Bela da Santíssima Trindade   32\n",
       "22      São Francisco de Assis do Piauí    31\n",
       "31      São Sebastião da Vargem Alegre     30\n",
       "25      São Sebastião de Lagoa de Roça     30\n",
       "33      São José do Vale do Rio Preto      29\n",
       "...                                       ...\n",
       "35      Itu                                 3\n",
       "        Uru                                 3\n",
       "23      Icó                                 3\n",
       "29      Una                                 3\n",
       "24      Açu                                 3\n",
       "\n",
       "[5570 rows x 1 columns]"
      ]
     },
     "execution_count": 68,
     "metadata": {
      "tags": []
     },
     "output_type": "execute_result"
    }
   ],
   "source": [
    "b.sort_values(by='len', ascending=False)"
   ]
  },
  {
   "cell_type": "code",
   "execution_count": null,
   "metadata": {
    "colab": {
     "base_uri": "https://localhost:8080/",
     "height": 424
    },
    "id": "-RsSbBZU0NT0",
    "outputId": "634e5c50-f24c-4236-ede8-9c83a782d01b"
   },
   "outputs": [
    {
     "data": {
      "text/html": [
       "<div>\n",
       "<style scoped>\n",
       "    .dataframe tbody tr th:only-of-type {\n",
       "        vertical-align: middle;\n",
       "    }\n",
       "\n",
       "    .dataframe tbody tr th {\n",
       "        vertical-align: top;\n",
       "    }\n",
       "\n",
       "    .dataframe thead th {\n",
       "        text-align: right;\n",
       "    }\n",
       "</style>\n",
       "<table border=\"1\" class=\"dataframe\">\n",
       "  <thead>\n",
       "    <tr style=\"text-align: right;\">\n",
       "      <th></th>\n",
       "      <th>UF</th>\n",
       "      <th>COD. UF</th>\n",
       "      <th>COD. MUNIC</th>\n",
       "      <th>NOME DO MUNICÍPIO</th>\n",
       "      <th>POPULAÇÃO ESTIMADA</th>\n",
       "    </tr>\n",
       "  </thead>\n",
       "  <tbody>\n",
       "    <tr>\n",
       "      <th>0</th>\n",
       "      <td>RO</td>\n",
       "      <td>11</td>\n",
       "      <td>15</td>\n",
       "      <td>Alta Floresta D'Oeste</td>\n",
       "      <td>22945</td>\n",
       "    </tr>\n",
       "    <tr>\n",
       "      <th>1</th>\n",
       "      <td>RO</td>\n",
       "      <td>11</td>\n",
       "      <td>23</td>\n",
       "      <td>Ariquemes</td>\n",
       "      <td>107863</td>\n",
       "    </tr>\n",
       "    <tr>\n",
       "      <th>2</th>\n",
       "      <td>RO</td>\n",
       "      <td>11</td>\n",
       "      <td>31</td>\n",
       "      <td>Cabixi</td>\n",
       "      <td>5312</td>\n",
       "    </tr>\n",
       "    <tr>\n",
       "      <th>3</th>\n",
       "      <td>RO</td>\n",
       "      <td>11</td>\n",
       "      <td>49</td>\n",
       "      <td>Cacoal</td>\n",
       "      <td>85359</td>\n",
       "    </tr>\n",
       "    <tr>\n",
       "      <th>4</th>\n",
       "      <td>RO</td>\n",
       "      <td>11</td>\n",
       "      <td>56</td>\n",
       "      <td>Cerejeiras</td>\n",
       "      <td>16323</td>\n",
       "    </tr>\n",
       "    <tr>\n",
       "      <th>...</th>\n",
       "      <td>...</td>\n",
       "      <td>...</td>\n",
       "      <td>...</td>\n",
       "      <td>...</td>\n",
       "      <td>...</td>\n",
       "    </tr>\n",
       "    <tr>\n",
       "      <th>5565</th>\n",
       "      <td>GO</td>\n",
       "      <td>52</td>\n",
       "      <td>22005</td>\n",
       "      <td>Vianópolis</td>\n",
       "      <td>13863</td>\n",
       "    </tr>\n",
       "    <tr>\n",
       "      <th>5566</th>\n",
       "      <td>GO</td>\n",
       "      <td>52</td>\n",
       "      <td>22054</td>\n",
       "      <td>Vicentinópolis</td>\n",
       "      <td>8743</td>\n",
       "    </tr>\n",
       "    <tr>\n",
       "      <th>5567</th>\n",
       "      <td>GO</td>\n",
       "      <td>52</td>\n",
       "      <td>22203</td>\n",
       "      <td>Vila Boa</td>\n",
       "      <td>6171</td>\n",
       "    </tr>\n",
       "    <tr>\n",
       "      <th>5568</th>\n",
       "      <td>GO</td>\n",
       "      <td>52</td>\n",
       "      <td>22302</td>\n",
       "      <td>Vila Propício</td>\n",
       "      <td>5821</td>\n",
       "    </tr>\n",
       "    <tr>\n",
       "      <th>5569</th>\n",
       "      <td>DF</td>\n",
       "      <td>53</td>\n",
       "      <td>108</td>\n",
       "      <td>Brasília</td>\n",
       "      <td>3015268</td>\n",
       "    </tr>\n",
       "  </tbody>\n",
       "</table>\n",
       "<p>5570 rows × 5 columns</p>\n",
       "</div>"
      ],
      "text/plain": [
       "      UF  COD. UF  COD. MUNIC      NOME DO MUNICÍPIO  POPULAÇÃO ESTIMADA\n",
       "0     RO       11          15  Alta Floresta D'Oeste               22945\n",
       "1     RO       11          23              Ariquemes              107863\n",
       "2     RO       11          31                 Cabixi                5312\n",
       "3     RO       11          49                 Cacoal               85359\n",
       "4     RO       11          56             Cerejeiras               16323\n",
       "...   ..      ...         ...                    ...                 ...\n",
       "5565  GO       52       22005             Vianópolis               13863\n",
       "5566  GO       52       22054         Vicentinópolis                8743\n",
       "5567  GO       52       22203               Vila Boa                6171\n",
       "5568  GO       52       22302          Vila Propício                5821\n",
       "5569  DF       53         108               Brasília             3015268\n",
       "\n",
       "[5570 rows x 5 columns]"
      ]
     },
     "execution_count": 69,
     "metadata": {
      "tags": []
     },
     "output_type": "execute_result"
    }
   ],
   "source": [
    "populacao\n"
   ]
  },
  {
   "cell_type": "code",
   "execution_count": null,
   "metadata": {
    "colab": {
     "base_uri": "https://localhost:8080/",
     "height": 424
    },
    "id": "TH9YNE-S1Ltw",
    "outputId": "8561619f-11e6-41da-e8e9-668fca61022b"
   },
   "outputs": [
    {
     "data": {
      "text/html": [
       "<div>\n",
       "<style scoped>\n",
       "    .dataframe tbody tr th:only-of-type {\n",
       "        vertical-align: middle;\n",
       "    }\n",
       "\n",
       "    .dataframe tbody tr th {\n",
       "        vertical-align: top;\n",
       "    }\n",
       "\n",
       "    .dataframe thead th {\n",
       "        text-align: right;\n",
       "    }\n",
       "</style>\n",
       "<table border=\"1\" class=\"dataframe\">\n",
       "  <thead>\n",
       "    <tr style=\"text-align: right;\">\n",
       "      <th></th>\n",
       "      <th>UF</th>\n",
       "      <th>COD. UF</th>\n",
       "      <th>COD. MUNIC</th>\n",
       "      <th>NOME DO MUNICÍPIO</th>\n",
       "      <th>POPULAÇÃO ESTIMADA</th>\n",
       "    </tr>\n",
       "  </thead>\n",
       "  <tbody>\n",
       "    <tr>\n",
       "      <th>0</th>\n",
       "      <td>RO</td>\n",
       "      <td>11</td>\n",
       "      <td>15</td>\n",
       "      <td>Alta Floresta D'Oeste</td>\n",
       "      <td>22945</td>\n",
       "    </tr>\n",
       "    <tr>\n",
       "      <th>25</th>\n",
       "      <td>RO</td>\n",
       "      <td>11</td>\n",
       "      <td>379</td>\n",
       "      <td>Alto Alegre dos Parecis</td>\n",
       "      <td>13241</td>\n",
       "    </tr>\n",
       "    <tr>\n",
       "      <th>26</th>\n",
       "      <td>RO</td>\n",
       "      <td>11</td>\n",
       "      <td>403</td>\n",
       "      <td>Alto Paraíso</td>\n",
       "      <td>21428</td>\n",
       "    </tr>\n",
       "    <tr>\n",
       "      <th>24</th>\n",
       "      <td>RO</td>\n",
       "      <td>11</td>\n",
       "      <td>346</td>\n",
       "      <td>Alvorada D'Oeste</td>\n",
       "      <td>14411</td>\n",
       "    </tr>\n",
       "    <tr>\n",
       "      <th>1</th>\n",
       "      <td>RO</td>\n",
       "      <td>11</td>\n",
       "      <td>23</td>\n",
       "      <td>Ariquemes</td>\n",
       "      <td>107863</td>\n",
       "    </tr>\n",
       "    <tr>\n",
       "      <th>...</th>\n",
       "      <td>...</td>\n",
       "      <td>...</td>\n",
       "      <td>...</td>\n",
       "      <td>...</td>\n",
       "      <td>...</td>\n",
       "    </tr>\n",
       "    <tr>\n",
       "      <th>5568</th>\n",
       "      <td>GO</td>\n",
       "      <td>52</td>\n",
       "      <td>22302</td>\n",
       "      <td>Vila Propício</td>\n",
       "      <td>5821</td>\n",
       "    </tr>\n",
       "    <tr>\n",
       "      <th>5327</th>\n",
       "      <td>GO</td>\n",
       "      <td>52</td>\n",
       "      <td>175</td>\n",
       "      <td>Água Fria de Goiás</td>\n",
       "      <td>5735</td>\n",
       "    </tr>\n",
       "    <tr>\n",
       "      <th>5328</th>\n",
       "      <td>GO</td>\n",
       "      <td>52</td>\n",
       "      <td>209</td>\n",
       "      <td>Água Limpa</td>\n",
       "      <td>1850</td>\n",
       "    </tr>\n",
       "    <tr>\n",
       "      <th>5329</th>\n",
       "      <td>GO</td>\n",
       "      <td>52</td>\n",
       "      <td>258</td>\n",
       "      <td>Águas Lindas de Goiás</td>\n",
       "      <td>212440</td>\n",
       "    </tr>\n",
       "    <tr>\n",
       "      <th>5569</th>\n",
       "      <td>DF</td>\n",
       "      <td>53</td>\n",
       "      <td>108</td>\n",
       "      <td>Brasília</td>\n",
       "      <td>3015268</td>\n",
       "    </tr>\n",
       "  </tbody>\n",
       "</table>\n",
       "<p>5570 rows × 5 columns</p>\n",
       "</div>"
      ],
      "text/plain": [
       "      UF  COD. UF  COD. MUNIC        NOME DO MUNICÍPIO  POPULAÇÃO ESTIMADA\n",
       "0     RO       11          15    Alta Floresta D'Oeste               22945\n",
       "25    RO       11         379  Alto Alegre dos Parecis               13241\n",
       "26    RO       11         403             Alto Paraíso               21428\n",
       "24    RO       11         346         Alvorada D'Oeste               14411\n",
       "1     RO       11          23                Ariquemes              107863\n",
       "...   ..      ...         ...                      ...                 ...\n",
       "5568  GO       52       22302            Vila Propício                5821\n",
       "5327  GO       52         175       Água Fria de Goiás                5735\n",
       "5328  GO       52         209               Água Limpa                1850\n",
       "5329  GO       52         258    Águas Lindas de Goiás              212440\n",
       "5569  DF       53         108                 Brasília             3015268\n",
       "\n",
       "[5570 rows x 5 columns]"
      ]
     },
     "execution_count": 70,
     "metadata": {
      "tags": []
     },
     "output_type": "execute_result"
    }
   ],
   "source": [
    "a = populacao.sort_values(by=['COD. UF','NOME DO MUNICÍPIO'])\n",
    "a"
   ]
  },
  {
   "cell_type": "code",
   "execution_count": null,
   "metadata": {
    "colab": {
     "base_uri": "https://localhost:8080/",
     "height": 424
    },
    "id": "j2m8Kqyh1hCS",
    "outputId": "9eabbc83-9532-409d-e6c1-39db975191ac"
   },
   "outputs": [
    {
     "data": {
      "text/html": [
       "<div>\n",
       "<style scoped>\n",
       "    .dataframe tbody tr th:only-of-type {\n",
       "        vertical-align: middle;\n",
       "    }\n",
       "\n",
       "    .dataframe tbody tr th {\n",
       "        vertical-align: top;\n",
       "    }\n",
       "\n",
       "    .dataframe thead th {\n",
       "        text-align: right;\n",
       "    }\n",
       "</style>\n",
       "<table border=\"1\" class=\"dataframe\">\n",
       "  <thead>\n",
       "    <tr style=\"text-align: right;\">\n",
       "      <th></th>\n",
       "      <th>UF</th>\n",
       "      <th>COD. UF</th>\n",
       "      <th>COD. MUNIC</th>\n",
       "      <th>NOME DO MUNICÍPIO</th>\n",
       "      <th>POPULAÇÃO ESTIMADA</th>\n",
       "    </tr>\n",
       "  </thead>\n",
       "  <tbody>\n",
       "    <tr>\n",
       "      <th>0</th>\n",
       "      <td>RO</td>\n",
       "      <td>11</td>\n",
       "      <td>15</td>\n",
       "      <td>Alta Floresta D'Oeste</td>\n",
       "      <td>22945</td>\n",
       "    </tr>\n",
       "    <tr>\n",
       "      <th>1</th>\n",
       "      <td>RO</td>\n",
       "      <td>11</td>\n",
       "      <td>23</td>\n",
       "      <td>Ariquemes</td>\n",
       "      <td>107863</td>\n",
       "    </tr>\n",
       "    <tr>\n",
       "      <th>2</th>\n",
       "      <td>RO</td>\n",
       "      <td>11</td>\n",
       "      <td>31</td>\n",
       "      <td>Cabixi</td>\n",
       "      <td>5312</td>\n",
       "    </tr>\n",
       "    <tr>\n",
       "      <th>3</th>\n",
       "      <td>RO</td>\n",
       "      <td>11</td>\n",
       "      <td>49</td>\n",
       "      <td>Cacoal</td>\n",
       "      <td>85359</td>\n",
       "    </tr>\n",
       "    <tr>\n",
       "      <th>4</th>\n",
       "      <td>RO</td>\n",
       "      <td>11</td>\n",
       "      <td>56</td>\n",
       "      <td>Cerejeiras</td>\n",
       "      <td>16323</td>\n",
       "    </tr>\n",
       "    <tr>\n",
       "      <th>...</th>\n",
       "      <td>...</td>\n",
       "      <td>...</td>\n",
       "      <td>...</td>\n",
       "      <td>...</td>\n",
       "      <td>...</td>\n",
       "    </tr>\n",
       "    <tr>\n",
       "      <th>5565</th>\n",
       "      <td>GO</td>\n",
       "      <td>52</td>\n",
       "      <td>22005</td>\n",
       "      <td>Vianópolis</td>\n",
       "      <td>13863</td>\n",
       "    </tr>\n",
       "    <tr>\n",
       "      <th>5566</th>\n",
       "      <td>GO</td>\n",
       "      <td>52</td>\n",
       "      <td>22054</td>\n",
       "      <td>Vicentinópolis</td>\n",
       "      <td>8743</td>\n",
       "    </tr>\n",
       "    <tr>\n",
       "      <th>5567</th>\n",
       "      <td>GO</td>\n",
       "      <td>52</td>\n",
       "      <td>22203</td>\n",
       "      <td>Vila Boa</td>\n",
       "      <td>6171</td>\n",
       "    </tr>\n",
       "    <tr>\n",
       "      <th>5568</th>\n",
       "      <td>GO</td>\n",
       "      <td>52</td>\n",
       "      <td>22302</td>\n",
       "      <td>Vila Propício</td>\n",
       "      <td>5821</td>\n",
       "    </tr>\n",
       "    <tr>\n",
       "      <th>5569</th>\n",
       "      <td>DF</td>\n",
       "      <td>53</td>\n",
       "      <td>108</td>\n",
       "      <td>Brasília</td>\n",
       "      <td>3015268</td>\n",
       "    </tr>\n",
       "  </tbody>\n",
       "</table>\n",
       "<p>5570 rows × 5 columns</p>\n",
       "</div>"
      ],
      "text/plain": [
       "      UF  COD. UF  COD. MUNIC      NOME DO MUNICÍPIO  POPULAÇÃO ESTIMADA\n",
       "0     RO       11          15  Alta Floresta D'Oeste               22945\n",
       "1     RO       11          23              Ariquemes              107863\n",
       "2     RO       11          31                 Cabixi                5312\n",
       "3     RO       11          49                 Cacoal               85359\n",
       "4     RO       11          56             Cerejeiras               16323\n",
       "...   ..      ...         ...                    ...                 ...\n",
       "5565  GO       52       22005             Vianópolis               13863\n",
       "5566  GO       52       22054         Vicentinópolis                8743\n",
       "5567  GO       52       22203               Vila Boa                6171\n",
       "5568  GO       52       22302          Vila Propício                5821\n",
       "5569  DF       53         108               Brasília             3015268\n",
       "\n",
       "[5570 rows x 5 columns]"
      ]
     },
     "execution_count": 72,
     "metadata": {
      "tags": []
     },
     "output_type": "execute_result"
    }
   ],
   "source": [
    "a.sort_index()"
   ]
  },
  {
   "cell_type": "markdown",
   "metadata": {
    "id": "mMcowoOEb8Xr"
   },
   "source": [
    "# **Tipos de dados e falta de valores** #"
   ]
  },
  {
   "cell_type": "markdown",
   "metadata": {
    "id": "6WtDMCc8FM-5"
   },
   "source": [
    "Vamos importar o dataset"
   ]
  },
  {
   "cell_type": "code",
   "execution_count": null,
   "metadata": {
    "colab": {
     "base_uri": "https://localhost:8080/",
     "height": 424
    },
    "id": "CGOX4bKj31rB",
    "outputId": "abe7f1d5-a881-4916-8b91-a6bc19b5e327"
   },
   "outputs": [
    {
     "data": {
      "text/html": [
       "<div>\n",
       "<style scoped>\n",
       "    .dataframe tbody tr th:only-of-type {\n",
       "        vertical-align: middle;\n",
       "    }\n",
       "\n",
       "    .dataframe tbody tr th {\n",
       "        vertical-align: top;\n",
       "    }\n",
       "\n",
       "    .dataframe thead th {\n",
       "        text-align: right;\n",
       "    }\n",
       "</style>\n",
       "<table border=\"1\" class=\"dataframe\">\n",
       "  <thead>\n",
       "    <tr style=\"text-align: right;\">\n",
       "      <th></th>\n",
       "      <th>UF</th>\n",
       "      <th>COD. UF</th>\n",
       "      <th>COD. MUNIC</th>\n",
       "      <th>NOME DO MUNICÍPIO</th>\n",
       "      <th>POPULAÇÃO ESTIMADA</th>\n",
       "    </tr>\n",
       "  </thead>\n",
       "  <tbody>\n",
       "    <tr>\n",
       "      <th>0</th>\n",
       "      <td>RO</td>\n",
       "      <td>11</td>\n",
       "      <td>15</td>\n",
       "      <td>Alta Floresta D'Oeste</td>\n",
       "      <td>22945</td>\n",
       "    </tr>\n",
       "    <tr>\n",
       "      <th>1</th>\n",
       "      <td>RO</td>\n",
       "      <td>11</td>\n",
       "      <td>23</td>\n",
       "      <td>Ariquemes</td>\n",
       "      <td>107863</td>\n",
       "    </tr>\n",
       "    <tr>\n",
       "      <th>2</th>\n",
       "      <td>RO</td>\n",
       "      <td>11</td>\n",
       "      <td>31</td>\n",
       "      <td>Cabixi</td>\n",
       "      <td>5312</td>\n",
       "    </tr>\n",
       "    <tr>\n",
       "      <th>3</th>\n",
       "      <td>RO</td>\n",
       "      <td>11</td>\n",
       "      <td>49</td>\n",
       "      <td>Cacoal</td>\n",
       "      <td>85359</td>\n",
       "    </tr>\n",
       "    <tr>\n",
       "      <th>4</th>\n",
       "      <td>RO</td>\n",
       "      <td>11</td>\n",
       "      <td>56</td>\n",
       "      <td>Cerejeiras</td>\n",
       "      <td>16323</td>\n",
       "    </tr>\n",
       "    <tr>\n",
       "      <th>...</th>\n",
       "      <td>...</td>\n",
       "      <td>...</td>\n",
       "      <td>...</td>\n",
       "      <td>...</td>\n",
       "      <td>...</td>\n",
       "    </tr>\n",
       "    <tr>\n",
       "      <th>5565</th>\n",
       "      <td>GO</td>\n",
       "      <td>52</td>\n",
       "      <td>22005</td>\n",
       "      <td>Vianópolis</td>\n",
       "      <td>13863</td>\n",
       "    </tr>\n",
       "    <tr>\n",
       "      <th>5566</th>\n",
       "      <td>GO</td>\n",
       "      <td>52</td>\n",
       "      <td>22054</td>\n",
       "      <td>Vicentinópolis</td>\n",
       "      <td>8743</td>\n",
       "    </tr>\n",
       "    <tr>\n",
       "      <th>5567</th>\n",
       "      <td>GO</td>\n",
       "      <td>52</td>\n",
       "      <td>22203</td>\n",
       "      <td>Vila Boa</td>\n",
       "      <td>6171</td>\n",
       "    </tr>\n",
       "    <tr>\n",
       "      <th>5568</th>\n",
       "      <td>GO</td>\n",
       "      <td>52</td>\n",
       "      <td>22302</td>\n",
       "      <td>Vila Propício</td>\n",
       "      <td>5821</td>\n",
       "    </tr>\n",
       "    <tr>\n",
       "      <th>5569</th>\n",
       "      <td>DF</td>\n",
       "      <td>53</td>\n",
       "      <td>108</td>\n",
       "      <td>Brasília</td>\n",
       "      <td>3015268</td>\n",
       "    </tr>\n",
       "  </tbody>\n",
       "</table>\n",
       "<p>5570 rows × 5 columns</p>\n",
       "</div>"
      ],
      "text/plain": [
       "      UF  COD. UF  COD. MUNIC      NOME DO MUNICÍPIO  POPULAÇÃO ESTIMADA\n",
       "0     RO       11          15  Alta Floresta D'Oeste               22945\n",
       "1     RO       11          23              Ariquemes              107863\n",
       "2     RO       11          31                 Cabixi                5312\n",
       "3     RO       11          49                 Cacoal               85359\n",
       "4     RO       11          56             Cerejeiras               16323\n",
       "...   ..      ...         ...                    ...                 ...\n",
       "5565  GO       52       22005             Vianópolis               13863\n",
       "5566  GO       52       22054         Vicentinópolis                8743\n",
       "5567  GO       52       22203               Vila Boa                6171\n",
       "5568  GO       52       22302          Vila Propício                5821\n",
       "5569  DF       53         108               Brasília             3015268\n",
       "\n",
       "[5570 rows x 5 columns]"
      ]
     },
     "execution_count": 73,
     "metadata": {
      "tags": []
     },
     "output_type": "execute_result"
    }
   ],
   "source": [
    "import pandas as pd\n",
    "populacao = pd.read_csv(\"/content/sample_data/populacao.csv\")\n",
    "pd.set_option('min_rows', 300)\n",
    "populacao"
   ]
  },
  {
   "cell_type": "markdown",
   "metadata": {
    "id": "-ox1gVgpGqP4"
   },
   "source": [
    "### Dtypes"
   ]
  },
  {
   "cell_type": "markdown",
   "metadata": {
    "id": "nymxD5vBFQ22"
   },
   "source": [
    "Podemos usar o método **.dtypes** e **.dtype** para ver o(s) tipo(s) de um **DataFrame** e **Series**"
   ]
  },
  {
   "cell_type": "code",
   "execution_count": null,
   "metadata": {
    "colab": {
     "base_uri": "https://localhost:8080/"
    },
    "id": "NjIwjbPS74xZ",
    "outputId": "c8d14d32-6503-47fc-a926-d795ca03a2d3"
   },
   "outputs": [
    {
     "data": {
      "text/plain": [
       "UF                    object\n",
       "COD. UF                int64\n",
       "COD. MUNIC             int64\n",
       "NOME DO MUNICÍPIO     object\n",
       "POPULAÇÃO ESTIMADA     int64\n",
       "dtype: object"
      ]
     },
     "execution_count": 74,
     "metadata": {
      "tags": []
     },
     "output_type": "execute_result"
    }
   ],
   "source": [
    "populacao.dtypes"
   ]
  },
  {
   "cell_type": "code",
   "execution_count": null,
   "metadata": {
    "colab": {
     "base_uri": "https://localhost:8080/"
    },
    "id": "fDRNMXBr8MZ8",
    "outputId": "226aef44-fa1f-4ae8-83b5-e9f9eae62ea9"
   },
   "outputs": [
    {
     "data": {
      "text/plain": [
       "dtype('int64')"
      ]
     },
     "execution_count": 75,
     "metadata": {
      "tags": []
     },
     "output_type": "execute_result"
    }
   ],
   "source": [
    "populacao['COD. MUNIC'].dtype"
   ]
  },
  {
   "cell_type": "markdown",
   "metadata": {
    "id": "Sha0tg_SFfvG"
   },
   "source": [
    "O tamanho desta coluna pode ser reduzido!"
   ]
  },
  {
   "cell_type": "code",
   "execution_count": null,
   "metadata": {
    "colab": {
     "base_uri": "https://localhost:8080/"
    },
    "id": "dy5AOn5Q9N4j",
    "outputId": "32645d7c-7a2e-4f0e-c4fa-c41ad29a2dc7"
   },
   "outputs": [
    {
     "data": {
      "text/plain": [
       "UF                     object\n",
       "COD. UF                  int8\n",
       "COD. MUNIC              int16\n",
       "NOME DO MUNICÍPIO      object\n",
       "POPULAÇÃO ESTIMADA    float64\n",
       "dtype: object"
      ]
     },
     "execution_count": 76,
     "metadata": {
      "tags": []
     },
     "output_type": "execute_result"
    }
   ],
   "source": [
    "populacao=populacao.astype({'COD. MUNIC': 'int16','COD. UF': 'int8','POPULAÇÃO ESTIMADA': 'float64'})\n",
    "populacao.dtypes"
   ]
  },
  {
   "cell_type": "code",
   "execution_count": null,
   "metadata": {
    "colab": {
     "base_uri": "https://localhost:8080/",
     "height": 424
    },
    "id": "ERvkYKkn-O20",
    "outputId": "64d91136-e440-47f2-aa20-624e9b275b68"
   },
   "outputs": [
    {
     "data": {
      "text/html": [
       "<div>\n",
       "<style scoped>\n",
       "    .dataframe tbody tr th:only-of-type {\n",
       "        vertical-align: middle;\n",
       "    }\n",
       "\n",
       "    .dataframe tbody tr th {\n",
       "        vertical-align: top;\n",
       "    }\n",
       "\n",
       "    .dataframe thead th {\n",
       "        text-align: right;\n",
       "    }\n",
       "</style>\n",
       "<table border=\"1\" class=\"dataframe\">\n",
       "  <thead>\n",
       "    <tr style=\"text-align: right;\">\n",
       "      <th></th>\n",
       "      <th>UF</th>\n",
       "      <th>COD. UF</th>\n",
       "      <th>COD. MUNIC</th>\n",
       "      <th>NOME DO MUNICÍPIO</th>\n",
       "      <th>POPULAÇÃO ESTIMADA</th>\n",
       "    </tr>\n",
       "  </thead>\n",
       "  <tbody>\n",
       "    <tr>\n",
       "      <th>0</th>\n",
       "      <td>RO</td>\n",
       "      <td>11</td>\n",
       "      <td>15</td>\n",
       "      <td>Alta Floresta D'Oeste</td>\n",
       "      <td>22945.0</td>\n",
       "    </tr>\n",
       "    <tr>\n",
       "      <th>1</th>\n",
       "      <td>RO</td>\n",
       "      <td>11</td>\n",
       "      <td>23</td>\n",
       "      <td>Ariquemes</td>\n",
       "      <td>107863.0</td>\n",
       "    </tr>\n",
       "    <tr>\n",
       "      <th>2</th>\n",
       "      <td>RO</td>\n",
       "      <td>11</td>\n",
       "      <td>31</td>\n",
       "      <td>Cabixi</td>\n",
       "      <td>5312.0</td>\n",
       "    </tr>\n",
       "    <tr>\n",
       "      <th>3</th>\n",
       "      <td>RO</td>\n",
       "      <td>11</td>\n",
       "      <td>49</td>\n",
       "      <td>Cacoal</td>\n",
       "      <td>85359.0</td>\n",
       "    </tr>\n",
       "    <tr>\n",
       "      <th>4</th>\n",
       "      <td>RO</td>\n",
       "      <td>11</td>\n",
       "      <td>56</td>\n",
       "      <td>Cerejeiras</td>\n",
       "      <td>16323.0</td>\n",
       "    </tr>\n",
       "    <tr>\n",
       "      <th>...</th>\n",
       "      <td>...</td>\n",
       "      <td>...</td>\n",
       "      <td>...</td>\n",
       "      <td>...</td>\n",
       "      <td>...</td>\n",
       "    </tr>\n",
       "    <tr>\n",
       "      <th>5565</th>\n",
       "      <td>GO</td>\n",
       "      <td>52</td>\n",
       "      <td>22005</td>\n",
       "      <td>Vianópolis</td>\n",
       "      <td>13863.0</td>\n",
       "    </tr>\n",
       "    <tr>\n",
       "      <th>5566</th>\n",
       "      <td>GO</td>\n",
       "      <td>52</td>\n",
       "      <td>22054</td>\n",
       "      <td>Vicentinópolis</td>\n",
       "      <td>8743.0</td>\n",
       "    </tr>\n",
       "    <tr>\n",
       "      <th>5567</th>\n",
       "      <td>GO</td>\n",
       "      <td>52</td>\n",
       "      <td>22203</td>\n",
       "      <td>Vila Boa</td>\n",
       "      <td>6171.0</td>\n",
       "    </tr>\n",
       "    <tr>\n",
       "      <th>5568</th>\n",
       "      <td>GO</td>\n",
       "      <td>52</td>\n",
       "      <td>22302</td>\n",
       "      <td>Vila Propício</td>\n",
       "      <td>5821.0</td>\n",
       "    </tr>\n",
       "    <tr>\n",
       "      <th>5569</th>\n",
       "      <td>DF</td>\n",
       "      <td>53</td>\n",
       "      <td>108</td>\n",
       "      <td>Brasília</td>\n",
       "      <td>3015268.0</td>\n",
       "    </tr>\n",
       "  </tbody>\n",
       "</table>\n",
       "<p>5570 rows × 5 columns</p>\n",
       "</div>"
      ],
      "text/plain": [
       "      UF  COD. UF  COD. MUNIC      NOME DO MUNICÍPIO  POPULAÇÃO ESTIMADA\n",
       "0     RO       11          15  Alta Floresta D'Oeste             22945.0\n",
       "1     RO       11          23              Ariquemes            107863.0\n",
       "2     RO       11          31                 Cabixi              5312.0\n",
       "3     RO       11          49                 Cacoal             85359.0\n",
       "4     RO       11          56             Cerejeiras             16323.0\n",
       "...   ..      ...         ...                    ...                 ...\n",
       "5565  GO       52       22005             Vianópolis             13863.0\n",
       "5566  GO       52       22054         Vicentinópolis              8743.0\n",
       "5567  GO       52       22203               Vila Boa              6171.0\n",
       "5568  GO       52       22302          Vila Propício              5821.0\n",
       "5569  DF       53         108               Brasília           3015268.0\n",
       "\n",
       "[5570 rows x 5 columns]"
      ]
     },
     "execution_count": 77,
     "metadata": {
      "tags": []
     },
     "output_type": "execute_result"
    }
   ],
   "source": [
    "populacao"
   ]
  },
  {
   "cell_type": "markdown",
   "metadata": {
    "id": "rhk9XC4WG2ZQ"
   },
   "source": [
    "### Falta de valores"
   ]
  },
  {
   "cell_type": "markdown",
   "metadata": {
    "id": "M0e9mGGNGErU"
   },
   "source": [
    "Suponha que nossos dados não possua alguns valores "
   ]
  },
  {
   "cell_type": "code",
   "execution_count": null,
   "metadata": {
    "colab": {
     "base_uri": "https://localhost:8080/",
     "height": 424
    },
    "id": "N0dxYYmu375B",
    "outputId": "50d65d52-bc17-4eef-f125-83b6c8175c9a"
   },
   "outputs": [
    {
     "data": {
      "text/html": [
       "<div>\n",
       "<style scoped>\n",
       "    .dataframe tbody tr th:only-of-type {\n",
       "        vertical-align: middle;\n",
       "    }\n",
       "\n",
       "    .dataframe tbody tr th {\n",
       "        vertical-align: top;\n",
       "    }\n",
       "\n",
       "    .dataframe thead th {\n",
       "        text-align: right;\n",
       "    }\n",
       "</style>\n",
       "<table border=\"1\" class=\"dataframe\">\n",
       "  <thead>\n",
       "    <tr style=\"text-align: right;\">\n",
       "      <th></th>\n",
       "      <th>UF</th>\n",
       "      <th>COD. UF</th>\n",
       "      <th>COD. MUNIC</th>\n",
       "      <th>NOME DO MUNICÍPIO</th>\n",
       "      <th>POPULAÇÃO ESTIMADA</th>\n",
       "    </tr>\n",
       "  </thead>\n",
       "  <tbody>\n",
       "    <tr>\n",
       "      <th>0</th>\n",
       "      <td>RO</td>\n",
       "      <td>11</td>\n",
       "      <td>15</td>\n",
       "      <td>Alta Floresta D'Oeste</td>\n",
       "      <td>22945.0</td>\n",
       "    </tr>\n",
       "    <tr>\n",
       "      <th>1</th>\n",
       "      <td>RO</td>\n",
       "      <td>11</td>\n",
       "      <td>23</td>\n",
       "      <td>Ariquemes</td>\n",
       "      <td>107863.0</td>\n",
       "    </tr>\n",
       "    <tr>\n",
       "      <th>2</th>\n",
       "      <td>RO</td>\n",
       "      <td>11</td>\n",
       "      <td>31</td>\n",
       "      <td>Cabixi</td>\n",
       "      <td>5312.0</td>\n",
       "    </tr>\n",
       "    <tr>\n",
       "      <th>3</th>\n",
       "      <td>RO</td>\n",
       "      <td>11</td>\n",
       "      <td>49</td>\n",
       "      <td>Cacoal</td>\n",
       "      <td>85359.0</td>\n",
       "    </tr>\n",
       "    <tr>\n",
       "      <th>4</th>\n",
       "      <td>RO</td>\n",
       "      <td>11</td>\n",
       "      <td>56</td>\n",
       "      <td>Cerejeiras</td>\n",
       "      <td>16323.0</td>\n",
       "    </tr>\n",
       "    <tr>\n",
       "      <th>...</th>\n",
       "      <td>...</td>\n",
       "      <td>...</td>\n",
       "      <td>...</td>\n",
       "      <td>...</td>\n",
       "      <td>...</td>\n",
       "    </tr>\n",
       "    <tr>\n",
       "      <th>5565</th>\n",
       "      <td>GO</td>\n",
       "      <td>52</td>\n",
       "      <td>22005</td>\n",
       "      <td>Vianópolis</td>\n",
       "      <td>13863.0</td>\n",
       "    </tr>\n",
       "    <tr>\n",
       "      <th>5566</th>\n",
       "      <td>GO</td>\n",
       "      <td>52</td>\n",
       "      <td>22054</td>\n",
       "      <td>Vicentinópolis</td>\n",
       "      <td>8743.0</td>\n",
       "    </tr>\n",
       "    <tr>\n",
       "      <th>5567</th>\n",
       "      <td>GO</td>\n",
       "      <td>52</td>\n",
       "      <td>22203</td>\n",
       "      <td>Vila Boa</td>\n",
       "      <td>NaN</td>\n",
       "    </tr>\n",
       "    <tr>\n",
       "      <th>5568</th>\n",
       "      <td>GO</td>\n",
       "      <td>52</td>\n",
       "      <td>22302</td>\n",
       "      <td>Vila Propício</td>\n",
       "      <td>NaN</td>\n",
       "    </tr>\n",
       "    <tr>\n",
       "      <th>5569</th>\n",
       "      <td>DF</td>\n",
       "      <td>53</td>\n",
       "      <td>108</td>\n",
       "      <td>Brasília</td>\n",
       "      <td>3015268.0</td>\n",
       "    </tr>\n",
       "  </tbody>\n",
       "</table>\n",
       "<p>5570 rows × 5 columns</p>\n",
       "</div>"
      ],
      "text/plain": [
       "      UF  COD. UF  COD. MUNIC      NOME DO MUNICÍPIO  POPULAÇÃO ESTIMADA\n",
       "0     RO       11          15  Alta Floresta D'Oeste             22945.0\n",
       "1     RO       11          23              Ariquemes            107863.0\n",
       "2     RO       11          31                 Cabixi              5312.0\n",
       "3     RO       11          49                 Cacoal             85359.0\n",
       "4     RO       11          56             Cerejeiras             16323.0\n",
       "...   ..      ...         ...                    ...                 ...\n",
       "5565  GO       52       22005             Vianópolis             13863.0\n",
       "5566  GO       52       22054         Vicentinópolis              8743.0\n",
       "5567  GO       52       22203               Vila Boa                 NaN\n",
       "5568  GO       52       22302          Vila Propício                 NaN\n",
       "5569  DF       53         108               Brasília           3015268.0\n",
       "\n",
       "[5570 rows x 5 columns]"
      ]
     },
     "execution_count": 78,
     "metadata": {
      "tags": []
     },
     "output_type": "execute_result"
    }
   ],
   "source": [
    "populacao.loc[(populacao['NOME DO MUNICÍPIO'].str.contains(\"Vila\"),'POPULAÇÃO ESTIMADA')]=float(\"NaN\")\n",
    "populacao"
   ]
  },
  {
   "cell_type": "markdown",
   "metadata": {
    "id": "JvMMo_KqGKbI"
   },
   "source": [
    "Isso pode ser verificado usando o método a seguir:"
   ]
  },
  {
   "cell_type": "code",
   "execution_count": null,
   "metadata": {
    "colab": {
     "base_uri": "https://localhost:8080/",
     "height": 424
    },
    "id": "AwFBwsMv4px6",
    "outputId": "394a86b2-67cc-41dd-f1c6-461cd252d348"
   },
   "outputs": [
    {
     "data": {
      "text/html": [
       "<div>\n",
       "<style scoped>\n",
       "    .dataframe tbody tr th:only-of-type {\n",
       "        vertical-align: middle;\n",
       "    }\n",
       "\n",
       "    .dataframe tbody tr th {\n",
       "        vertical-align: top;\n",
       "    }\n",
       "\n",
       "    .dataframe thead th {\n",
       "        text-align: right;\n",
       "    }\n",
       "</style>\n",
       "<table border=\"1\" class=\"dataframe\">\n",
       "  <thead>\n",
       "    <tr style=\"text-align: right;\">\n",
       "      <th></th>\n",
       "      <th>UF</th>\n",
       "      <th>COD. UF</th>\n",
       "      <th>COD. MUNIC</th>\n",
       "      <th>NOME DO MUNICÍPIO</th>\n",
       "      <th>POPULAÇÃO ESTIMADA</th>\n",
       "    </tr>\n",
       "  </thead>\n",
       "  <tbody>\n",
       "    <tr>\n",
       "      <th>663</th>\n",
       "      <td>MA</td>\n",
       "      <td>21</td>\n",
       "      <td>12852</td>\n",
       "      <td>Vila Nova dos Martírios</td>\n",
       "      <td>NaN</td>\n",
       "    </tr>\n",
       "    <tr>\n",
       "      <th>889</th>\n",
       "      <td>PI</td>\n",
       "      <td>22</td>\n",
       "      <td>11605</td>\n",
       "      <td>Vila Nova do Piauí</td>\n",
       "      <td>NaN</td>\n",
       "    </tr>\n",
       "    <tr>\n",
       "      <th>1241</th>\n",
       "      <td>RN</td>\n",
       "      <td>24</td>\n",
       "      <td>15008</td>\n",
       "      <td>Vila Flor</td>\n",
       "      <td>NaN</td>\n",
       "    </tr>\n",
       "    <tr>\n",
       "      <th>3171</th>\n",
       "      <td>ES</td>\n",
       "      <td>32</td>\n",
       "      <td>5150</td>\n",
       "      <td>Vila Pavão</td>\n",
       "      <td>NaN</td>\n",
       "    </tr>\n",
       "    <tr>\n",
       "      <th>3172</th>\n",
       "      <td>ES</td>\n",
       "      <td>32</td>\n",
       "      <td>5176</td>\n",
       "      <td>Vila Valério</td>\n",
       "      <td>NaN</td>\n",
       "    </tr>\n",
       "    <tr>\n",
       "      <th>...</th>\n",
       "      <td>...</td>\n",
       "      <td>...</td>\n",
       "      <td>...</td>\n",
       "      <td>...</td>\n",
       "      <td>...</td>\n",
       "    </tr>\n",
       "    <tr>\n",
       "      <th>5096</th>\n",
       "      <td>RS</td>\n",
       "      <td>43</td>\n",
       "      <td>23457</td>\n",
       "      <td>Vila Nova do Sul</td>\n",
       "      <td>NaN</td>\n",
       "    </tr>\n",
       "    <tr>\n",
       "      <th>5246</th>\n",
       "      <td>MT</td>\n",
       "      <td>51</td>\n",
       "      <td>5507</td>\n",
       "      <td>Vila Bela da Santíssima Trindade</td>\n",
       "      <td>NaN</td>\n",
       "    </tr>\n",
       "    <tr>\n",
       "      <th>5318</th>\n",
       "      <td>MT</td>\n",
       "      <td>51</td>\n",
       "      <td>8600</td>\n",
       "      <td>Vila Rica</td>\n",
       "      <td>NaN</td>\n",
       "    </tr>\n",
       "    <tr>\n",
       "      <th>5567</th>\n",
       "      <td>GO</td>\n",
       "      <td>52</td>\n",
       "      <td>22203</td>\n",
       "      <td>Vila Boa</td>\n",
       "      <td>NaN</td>\n",
       "    </tr>\n",
       "    <tr>\n",
       "      <th>5568</th>\n",
       "      <td>GO</td>\n",
       "      <td>52</td>\n",
       "      <td>22302</td>\n",
       "      <td>Vila Propício</td>\n",
       "      <td>NaN</td>\n",
       "    </tr>\n",
       "  </tbody>\n",
       "</table>\n",
       "<p>15 rows × 5 columns</p>\n",
       "</div>"
      ],
      "text/plain": [
       "      UF  COD. UF  ...                 NOME DO MUNICÍPIO POPULAÇÃO ESTIMADA\n",
       "663   MA       21  ...           Vila Nova dos Martírios                NaN\n",
       "889   PI       22  ...                Vila Nova do Piauí                NaN\n",
       "1241  RN       24  ...                         Vila Flor                NaN\n",
       "3171  ES       32  ...                        Vila Pavão                NaN\n",
       "3172  ES       32  ...                      Vila Valério                NaN\n",
       "...   ..      ...  ...                               ...                ...\n",
       "5096  RS       43  ...                  Vila Nova do Sul                NaN\n",
       "5246  MT       51  ...  Vila Bela da Santíssima Trindade                NaN\n",
       "5318  MT       51  ...                         Vila Rica                NaN\n",
       "5567  GO       52  ...                          Vila Boa                NaN\n",
       "5568  GO       52  ...                     Vila Propício                NaN\n",
       "\n",
       "[15 rows x 5 columns]"
      ]
     },
     "execution_count": 79,
     "metadata": {
      "tags": []
     },
     "output_type": "execute_result"
    }
   ],
   "source": [
    "populacao.loc[populacao['POPULAÇÃO ESTIMADA'].isnull()]"
   ]
  },
  {
   "cell_type": "markdown",
   "metadata": {
    "id": "o-xlETiXGO2I"
   },
   "source": [
    "É possível preencher esses valores com algum valor:"
   ]
  },
  {
   "cell_type": "code",
   "execution_count": null,
   "metadata": {
    "colab": {
     "base_uri": "https://localhost:8080/",
     "height": 424
    },
    "id": "EhHIzwPBAsXS",
    "outputId": "33574f67-beef-4638-9ab5-c81c6ba6f21f"
   },
   "outputs": [
    {
     "data": {
      "text/html": [
       "<div>\n",
       "<style scoped>\n",
       "    .dataframe tbody tr th:only-of-type {\n",
       "        vertical-align: middle;\n",
       "    }\n",
       "\n",
       "    .dataframe tbody tr th {\n",
       "        vertical-align: top;\n",
       "    }\n",
       "\n",
       "    .dataframe thead th {\n",
       "        text-align: right;\n",
       "    }\n",
       "</style>\n",
       "<table border=\"1\" class=\"dataframe\">\n",
       "  <thead>\n",
       "    <tr style=\"text-align: right;\">\n",
       "      <th></th>\n",
       "      <th>UF</th>\n",
       "      <th>COD. UF</th>\n",
       "      <th>COD. MUNIC</th>\n",
       "      <th>NOME DO MUNICÍPIO</th>\n",
       "      <th>POPULAÇÃO ESTIMADA</th>\n",
       "    </tr>\n",
       "  </thead>\n",
       "  <tbody>\n",
       "    <tr>\n",
       "      <th>0</th>\n",
       "      <td>RO</td>\n",
       "      <td>11</td>\n",
       "      <td>15</td>\n",
       "      <td>Alta Floresta D'Oeste</td>\n",
       "      <td>22945</td>\n",
       "    </tr>\n",
       "    <tr>\n",
       "      <th>1</th>\n",
       "      <td>RO</td>\n",
       "      <td>11</td>\n",
       "      <td>23</td>\n",
       "      <td>Ariquemes</td>\n",
       "      <td>107863</td>\n",
       "    </tr>\n",
       "    <tr>\n",
       "      <th>2</th>\n",
       "      <td>RO</td>\n",
       "      <td>11</td>\n",
       "      <td>31</td>\n",
       "      <td>Cabixi</td>\n",
       "      <td>5312</td>\n",
       "    </tr>\n",
       "    <tr>\n",
       "      <th>3</th>\n",
       "      <td>RO</td>\n",
       "      <td>11</td>\n",
       "      <td>49</td>\n",
       "      <td>Cacoal</td>\n",
       "      <td>85359</td>\n",
       "    </tr>\n",
       "    <tr>\n",
       "      <th>4</th>\n",
       "      <td>RO</td>\n",
       "      <td>11</td>\n",
       "      <td>56</td>\n",
       "      <td>Cerejeiras</td>\n",
       "      <td>16323</td>\n",
       "    </tr>\n",
       "    <tr>\n",
       "      <th>...</th>\n",
       "      <td>...</td>\n",
       "      <td>...</td>\n",
       "      <td>...</td>\n",
       "      <td>...</td>\n",
       "      <td>...</td>\n",
       "    </tr>\n",
       "    <tr>\n",
       "      <th>5565</th>\n",
       "      <td>GO</td>\n",
       "      <td>52</td>\n",
       "      <td>22005</td>\n",
       "      <td>Vianópolis</td>\n",
       "      <td>13863</td>\n",
       "    </tr>\n",
       "    <tr>\n",
       "      <th>5566</th>\n",
       "      <td>GO</td>\n",
       "      <td>52</td>\n",
       "      <td>22054</td>\n",
       "      <td>Vicentinópolis</td>\n",
       "      <td>8743</td>\n",
       "    </tr>\n",
       "    <tr>\n",
       "      <th>5567</th>\n",
       "      <td>GO</td>\n",
       "      <td>52</td>\n",
       "      <td>22203</td>\n",
       "      <td>Vila Boa</td>\n",
       "      <td>Não Informado</td>\n",
       "    </tr>\n",
       "    <tr>\n",
       "      <th>5568</th>\n",
       "      <td>GO</td>\n",
       "      <td>52</td>\n",
       "      <td>22302</td>\n",
       "      <td>Vila Propício</td>\n",
       "      <td>Não Informado</td>\n",
       "    </tr>\n",
       "    <tr>\n",
       "      <th>5569</th>\n",
       "      <td>DF</td>\n",
       "      <td>53</td>\n",
       "      <td>108</td>\n",
       "      <td>Brasília</td>\n",
       "      <td>3.01527e+06</td>\n",
       "    </tr>\n",
       "  </tbody>\n",
       "</table>\n",
       "<p>5570 rows × 5 columns</p>\n",
       "</div>"
      ],
      "text/plain": [
       "      UF  COD. UF  COD. MUNIC      NOME DO MUNICÍPIO POPULAÇÃO ESTIMADA\n",
       "0     RO       11          15  Alta Floresta D'Oeste              22945\n",
       "1     RO       11          23              Ariquemes             107863\n",
       "2     RO       11          31                 Cabixi               5312\n",
       "3     RO       11          49                 Cacoal              85359\n",
       "4     RO       11          56             Cerejeiras              16323\n",
       "...   ..      ...         ...                    ...                ...\n",
       "5565  GO       52       22005             Vianópolis              13863\n",
       "5566  GO       52       22054         Vicentinópolis               8743\n",
       "5567  GO       52       22203               Vila Boa      Não Informado\n",
       "5568  GO       52       22302          Vila Propício      Não Informado\n",
       "5569  DF       53         108               Brasília        3.01527e+06\n",
       "\n",
       "[5570 rows x 5 columns]"
      ]
     },
     "execution_count": 80,
     "metadata": {
      "tags": []
     },
     "output_type": "execute_result"
    }
   ],
   "source": [
    "populacao['POPULAÇÃO ESTIMADA']=populacao['POPULAÇÃO ESTIMADA'].fillna(\"Não Informado\")\n",
    "populacao"
   ]
  },
  {
   "cell_type": "markdown",
   "metadata": {
    "id": "7O6uSwl3GZ4R"
   },
   "source": [
    "E este método pode substituir um valor especificada por outro valor:"
   ]
  },
  {
   "cell_type": "code",
   "execution_count": null,
   "metadata": {
    "colab": {
     "base_uri": "https://localhost:8080/",
     "height": 424
    },
    "id": "4OLrmTMpB68-",
    "outputId": "75b85f1b-ae7b-46b4-8e9e-bb4e390f0e9e"
   },
   "outputs": [
    {
     "data": {
      "text/html": [
       "<div>\n",
       "<style scoped>\n",
       "    .dataframe tbody tr th:only-of-type {\n",
       "        vertical-align: middle;\n",
       "    }\n",
       "\n",
       "    .dataframe tbody tr th {\n",
       "        vertical-align: top;\n",
       "    }\n",
       "\n",
       "    .dataframe thead th {\n",
       "        text-align: right;\n",
       "    }\n",
       "</style>\n",
       "<table border=\"1\" class=\"dataframe\">\n",
       "  <thead>\n",
       "    <tr style=\"text-align: right;\">\n",
       "      <th></th>\n",
       "      <th>UF</th>\n",
       "      <th>COD. UF</th>\n",
       "      <th>COD. MUNIC</th>\n",
       "      <th>NOME DO MUNICÍPIO</th>\n",
       "      <th>POPULAÇÃO ESTIMADA</th>\n",
       "    </tr>\n",
       "  </thead>\n",
       "  <tbody>\n",
       "    <tr>\n",
       "      <th>0</th>\n",
       "      <td>RO</td>\n",
       "      <td>11</td>\n",
       "      <td>15</td>\n",
       "      <td>Alta Floresta D'Oeste</td>\n",
       "      <td>22945</td>\n",
       "    </tr>\n",
       "    <tr>\n",
       "      <th>1</th>\n",
       "      <td>RO</td>\n",
       "      <td>11</td>\n",
       "      <td>23</td>\n",
       "      <td>Ariquemes</td>\n",
       "      <td>107863</td>\n",
       "    </tr>\n",
       "    <tr>\n",
       "      <th>2</th>\n",
       "      <td>RO</td>\n",
       "      <td>11</td>\n",
       "      <td>31</td>\n",
       "      <td>Cabixi</td>\n",
       "      <td>5312</td>\n",
       "    </tr>\n",
       "    <tr>\n",
       "      <th>3</th>\n",
       "      <td>RO</td>\n",
       "      <td>11</td>\n",
       "      <td>49</td>\n",
       "      <td>Cacoal</td>\n",
       "      <td>85359</td>\n",
       "    </tr>\n",
       "    <tr>\n",
       "      <th>4</th>\n",
       "      <td>RO</td>\n",
       "      <td>11</td>\n",
       "      <td>56</td>\n",
       "      <td>Cerejeiras</td>\n",
       "      <td>16323</td>\n",
       "    </tr>\n",
       "    <tr>\n",
       "      <th>...</th>\n",
       "      <td>...</td>\n",
       "      <td>...</td>\n",
       "      <td>...</td>\n",
       "      <td>...</td>\n",
       "      <td>...</td>\n",
       "    </tr>\n",
       "    <tr>\n",
       "      <th>5565</th>\n",
       "      <td>GO</td>\n",
       "      <td>52</td>\n",
       "      <td>22005</td>\n",
       "      <td>Vianópolis</td>\n",
       "      <td>13863</td>\n",
       "    </tr>\n",
       "    <tr>\n",
       "      <th>5566</th>\n",
       "      <td>GO</td>\n",
       "      <td>52</td>\n",
       "      <td>22054</td>\n",
       "      <td>Vicentinópolis</td>\n",
       "      <td>8743</td>\n",
       "    </tr>\n",
       "    <tr>\n",
       "      <th>5567</th>\n",
       "      <td>GO</td>\n",
       "      <td>52</td>\n",
       "      <td>22203</td>\n",
       "      <td>Vila Boa</td>\n",
       "      <td>Não Especificado</td>\n",
       "    </tr>\n",
       "    <tr>\n",
       "      <th>5568</th>\n",
       "      <td>GO</td>\n",
       "      <td>52</td>\n",
       "      <td>22302</td>\n",
       "      <td>Vila Propício</td>\n",
       "      <td>Não Especificado</td>\n",
       "    </tr>\n",
       "    <tr>\n",
       "      <th>5569</th>\n",
       "      <td>DF</td>\n",
       "      <td>53</td>\n",
       "      <td>108</td>\n",
       "      <td>Brasília</td>\n",
       "      <td>3.01527e+06</td>\n",
       "    </tr>\n",
       "  </tbody>\n",
       "</table>\n",
       "<p>5570 rows × 5 columns</p>\n",
       "</div>"
      ],
      "text/plain": [
       "      UF  COD. UF  COD. MUNIC      NOME DO MUNICÍPIO POPULAÇÃO ESTIMADA\n",
       "0     RO       11          15  Alta Floresta D'Oeste              22945\n",
       "1     RO       11          23              Ariquemes             107863\n",
       "2     RO       11          31                 Cabixi               5312\n",
       "3     RO       11          49                 Cacoal              85359\n",
       "4     RO       11          56             Cerejeiras              16323\n",
       "...   ..      ...         ...                    ...                ...\n",
       "5565  GO       52       22005             Vianópolis              13863\n",
       "5566  GO       52       22054         Vicentinópolis               8743\n",
       "5567  GO       52       22203               Vila Boa   Não Especificado\n",
       "5568  GO       52       22302          Vila Propício   Não Especificado\n",
       "5569  DF       53         108               Brasília        3.01527e+06\n",
       "\n",
       "[5570 rows x 5 columns]"
      ]
     },
     "execution_count": 81,
     "metadata": {
      "tags": []
     },
     "output_type": "execute_result"
    }
   ],
   "source": [
    "populacao['POPULAÇÃO ESTIMADA']=populacao['POPULAÇÃO ESTIMADA'].replace(\"Não Informado\", \"Não Especificado\")\n",
    "populacao"
   ]
  },
  {
   "cell_type": "markdown",
   "metadata": {
    "id": "XjVGZDgRG9R2"
   },
   "source": [
    "# **Renomeando e Combinando** #"
   ]
  },
  {
   "cell_type": "markdown",
   "metadata": {
    "id": "N_m-l_GZHIXk"
   },
   "source": [
    "### Renomeando"
   ]
  },
  {
   "cell_type": "markdown",
   "metadata": {
    "id": "LPXw78XwQVgc"
   },
   "source": [
    "Vamos importar novamente o dataset:"
   ]
  },
  {
   "cell_type": "code",
   "execution_count": null,
   "metadata": {
    "colab": {
     "base_uri": "https://localhost:8080/",
     "height": 424
    },
    "id": "UsKAVPLMLsZV",
    "outputId": "f1f7ae41-4e18-452e-f719-fdb4455ba3a8"
   },
   "outputs": [
    {
     "data": {
      "text/html": [
       "<div>\n",
       "<style scoped>\n",
       "    .dataframe tbody tr th:only-of-type {\n",
       "        vertical-align: middle;\n",
       "    }\n",
       "\n",
       "    .dataframe tbody tr th {\n",
       "        vertical-align: top;\n",
       "    }\n",
       "\n",
       "    .dataframe thead th {\n",
       "        text-align: right;\n",
       "    }\n",
       "</style>\n",
       "<table border=\"1\" class=\"dataframe\">\n",
       "  <thead>\n",
       "    <tr style=\"text-align: right;\">\n",
       "      <th></th>\n",
       "      <th>UF</th>\n",
       "      <th>COD. UF</th>\n",
       "      <th>COD. MUNIC</th>\n",
       "      <th>NOME DO MUNICÍPIO</th>\n",
       "      <th>POPULAÇÃO ESTIMADA</th>\n",
       "    </tr>\n",
       "  </thead>\n",
       "  <tbody>\n",
       "    <tr>\n",
       "      <th>0</th>\n",
       "      <td>RO</td>\n",
       "      <td>11</td>\n",
       "      <td>15</td>\n",
       "      <td>Alta Floresta D'Oeste</td>\n",
       "      <td>22945</td>\n",
       "    </tr>\n",
       "    <tr>\n",
       "      <th>1</th>\n",
       "      <td>RO</td>\n",
       "      <td>11</td>\n",
       "      <td>23</td>\n",
       "      <td>Ariquemes</td>\n",
       "      <td>107863</td>\n",
       "    </tr>\n",
       "    <tr>\n",
       "      <th>2</th>\n",
       "      <td>RO</td>\n",
       "      <td>11</td>\n",
       "      <td>31</td>\n",
       "      <td>Cabixi</td>\n",
       "      <td>5312</td>\n",
       "    </tr>\n",
       "    <tr>\n",
       "      <th>3</th>\n",
       "      <td>RO</td>\n",
       "      <td>11</td>\n",
       "      <td>49</td>\n",
       "      <td>Cacoal</td>\n",
       "      <td>85359</td>\n",
       "    </tr>\n",
       "    <tr>\n",
       "      <th>4</th>\n",
       "      <td>RO</td>\n",
       "      <td>11</td>\n",
       "      <td>56</td>\n",
       "      <td>Cerejeiras</td>\n",
       "      <td>16323</td>\n",
       "    </tr>\n",
       "    <tr>\n",
       "      <th>...</th>\n",
       "      <td>...</td>\n",
       "      <td>...</td>\n",
       "      <td>...</td>\n",
       "      <td>...</td>\n",
       "      <td>...</td>\n",
       "    </tr>\n",
       "    <tr>\n",
       "      <th>5565</th>\n",
       "      <td>GO</td>\n",
       "      <td>52</td>\n",
       "      <td>22005</td>\n",
       "      <td>Vianópolis</td>\n",
       "      <td>13863</td>\n",
       "    </tr>\n",
       "    <tr>\n",
       "      <th>5566</th>\n",
       "      <td>GO</td>\n",
       "      <td>52</td>\n",
       "      <td>22054</td>\n",
       "      <td>Vicentinópolis</td>\n",
       "      <td>8743</td>\n",
       "    </tr>\n",
       "    <tr>\n",
       "      <th>5567</th>\n",
       "      <td>GO</td>\n",
       "      <td>52</td>\n",
       "      <td>22203</td>\n",
       "      <td>Vila Boa</td>\n",
       "      <td>6171</td>\n",
       "    </tr>\n",
       "    <tr>\n",
       "      <th>5568</th>\n",
       "      <td>GO</td>\n",
       "      <td>52</td>\n",
       "      <td>22302</td>\n",
       "      <td>Vila Propício</td>\n",
       "      <td>5821</td>\n",
       "    </tr>\n",
       "    <tr>\n",
       "      <th>5569</th>\n",
       "      <td>DF</td>\n",
       "      <td>53</td>\n",
       "      <td>108</td>\n",
       "      <td>Brasília</td>\n",
       "      <td>3015268</td>\n",
       "    </tr>\n",
       "  </tbody>\n",
       "</table>\n",
       "<p>5570 rows × 5 columns</p>\n",
       "</div>"
      ],
      "text/plain": [
       "      UF  COD. UF  COD. MUNIC      NOME DO MUNICÍPIO  POPULAÇÃO ESTIMADA\n",
       "0     RO       11          15  Alta Floresta D'Oeste               22945\n",
       "1     RO       11          23              Ariquemes              107863\n",
       "2     RO       11          31                 Cabixi                5312\n",
       "3     RO       11          49                 Cacoal               85359\n",
       "4     RO       11          56             Cerejeiras               16323\n",
       "...   ..      ...         ...                    ...                 ...\n",
       "5565  GO       52       22005             Vianópolis               13863\n",
       "5566  GO       52       22054         Vicentinópolis                8743\n",
       "5567  GO       52       22203               Vila Boa                6171\n",
       "5568  GO       52       22302          Vila Propício                5821\n",
       "5569  DF       53         108               Brasília             3015268\n",
       "\n",
       "[5570 rows x 5 columns]"
      ]
     },
     "execution_count": 82,
     "metadata": {
      "tags": []
     },
     "output_type": "execute_result"
    }
   ],
   "source": [
    "import pandas as pd\n",
    "populacao = pd.read_csv(\"/content/sample_data/populacao.csv\")\n",
    "pd.set_option('min_rows', 300)\n",
    "populacao"
   ]
  },
  {
   "cell_type": "markdown",
   "metadata": {
    "id": "dmwWXx5SQaL1"
   },
   "source": [
    "Renomear os nomes das colunas e linhas pode ser feito usando o método **.rename()**:"
   ]
  },
  {
   "cell_type": "code",
   "execution_count": null,
   "metadata": {
    "colab": {
     "base_uri": "https://localhost:8080/",
     "height": 424
    },
    "id": "gZJ7SdPeHTuk",
    "outputId": "0b807a4e-5ee6-4d8e-aafb-d3a364eff13f"
   },
   "outputs": [
    {
     "data": {
      "text/html": [
       "<div>\n",
       "<style scoped>\n",
       "    .dataframe tbody tr th:only-of-type {\n",
       "        vertical-align: middle;\n",
       "    }\n",
       "\n",
       "    .dataframe tbody tr th {\n",
       "        vertical-align: top;\n",
       "    }\n",
       "\n",
       "    .dataframe thead th {\n",
       "        text-align: right;\n",
       "    }\n",
       "</style>\n",
       "<table border=\"1\" class=\"dataframe\">\n",
       "  <thead>\n",
       "    <tr style=\"text-align: right;\">\n",
       "      <th></th>\n",
       "      <th>uf</th>\n",
       "      <th>coduf</th>\n",
       "      <th>codmunic</th>\n",
       "      <th>nome</th>\n",
       "      <th>pessoas</th>\n",
       "    </tr>\n",
       "  </thead>\n",
       "  <tbody>\n",
       "    <tr>\n",
       "      <th>0</th>\n",
       "      <td>RO</td>\n",
       "      <td>11</td>\n",
       "      <td>15</td>\n",
       "      <td>Alta Floresta D'Oeste</td>\n",
       "      <td>22945</td>\n",
       "    </tr>\n",
       "    <tr>\n",
       "      <th>1</th>\n",
       "      <td>RO</td>\n",
       "      <td>11</td>\n",
       "      <td>23</td>\n",
       "      <td>Ariquemes</td>\n",
       "      <td>107863</td>\n",
       "    </tr>\n",
       "    <tr>\n",
       "      <th>2</th>\n",
       "      <td>RO</td>\n",
       "      <td>11</td>\n",
       "      <td>31</td>\n",
       "      <td>Cabixi</td>\n",
       "      <td>5312</td>\n",
       "    </tr>\n",
       "    <tr>\n",
       "      <th>3</th>\n",
       "      <td>RO</td>\n",
       "      <td>11</td>\n",
       "      <td>49</td>\n",
       "      <td>Cacoal</td>\n",
       "      <td>85359</td>\n",
       "    </tr>\n",
       "    <tr>\n",
       "      <th>4</th>\n",
       "      <td>RO</td>\n",
       "      <td>11</td>\n",
       "      <td>56</td>\n",
       "      <td>Cerejeiras</td>\n",
       "      <td>16323</td>\n",
       "    </tr>\n",
       "    <tr>\n",
       "      <th>...</th>\n",
       "      <td>...</td>\n",
       "      <td>...</td>\n",
       "      <td>...</td>\n",
       "      <td>...</td>\n",
       "      <td>...</td>\n",
       "    </tr>\n",
       "    <tr>\n",
       "      <th>5565</th>\n",
       "      <td>GO</td>\n",
       "      <td>52</td>\n",
       "      <td>22005</td>\n",
       "      <td>Vianópolis</td>\n",
       "      <td>13863</td>\n",
       "    </tr>\n",
       "    <tr>\n",
       "      <th>5566</th>\n",
       "      <td>GO</td>\n",
       "      <td>52</td>\n",
       "      <td>22054</td>\n",
       "      <td>Vicentinópolis</td>\n",
       "      <td>8743</td>\n",
       "    </tr>\n",
       "    <tr>\n",
       "      <th>5567</th>\n",
       "      <td>GO</td>\n",
       "      <td>52</td>\n",
       "      <td>22203</td>\n",
       "      <td>Vila Boa</td>\n",
       "      <td>6171</td>\n",
       "    </tr>\n",
       "    <tr>\n",
       "      <th>5568</th>\n",
       "      <td>GO</td>\n",
       "      <td>52</td>\n",
       "      <td>22302</td>\n",
       "      <td>Vila Propício</td>\n",
       "      <td>5821</td>\n",
       "    </tr>\n",
       "    <tr>\n",
       "      <th>5569</th>\n",
       "      <td>DF</td>\n",
       "      <td>53</td>\n",
       "      <td>108</td>\n",
       "      <td>Brasília</td>\n",
       "      <td>3015268</td>\n",
       "    </tr>\n",
       "  </tbody>\n",
       "</table>\n",
       "<p>5570 rows × 5 columns</p>\n",
       "</div>"
      ],
      "text/plain": [
       "      uf  coduf  codmunic                   nome  pessoas\n",
       "0     RO     11        15  Alta Floresta D'Oeste    22945\n",
       "1     RO     11        23              Ariquemes   107863\n",
       "2     RO     11        31                 Cabixi     5312\n",
       "3     RO     11        49                 Cacoal    85359\n",
       "4     RO     11        56             Cerejeiras    16323\n",
       "...   ..    ...       ...                    ...      ...\n",
       "5565  GO     52     22005             Vianópolis    13863\n",
       "5566  GO     52     22054         Vicentinópolis     8743\n",
       "5567  GO     52     22203               Vila Boa     6171\n",
       "5568  GO     52     22302          Vila Propício     5821\n",
       "5569  DF     53       108               Brasília  3015268\n",
       "\n",
       "[5570 rows x 5 columns]"
      ]
     },
     "execution_count": 83,
     "metadata": {
      "tags": []
     },
     "output_type": "execute_result"
    }
   ],
   "source": [
    "populacao=populacao.rename(columns={'UF': 'uf','COD. UF':'coduf','COD. MUNIC':'codmunic','NOME DO MUNICÍPIO':'nome','POPULAÇÃO ESTIMADA':'pessoas'})\n",
    "populacao"
   ]
  },
  {
   "cell_type": "markdown",
   "metadata": {
    "id": "uHeht7z6QsRq"
   },
   "source": [
    "Agora o ```populacao['NOME DO MUNICÍPIO']``` pode ser acessado através da seguinte sintaxe:"
   ]
  },
  {
   "cell_type": "code",
   "execution_count": null,
   "metadata": {
    "colab": {
     "base_uri": "https://localhost:8080/"
    },
    "id": "Gh-Tg4zkHTji",
    "outputId": "8300d877-47d0-48c4-bc40-2c396af98aef"
   },
   "outputs": [
    {
     "data": {
      "text/plain": [
       "0       Alta Floresta D'Oeste\n",
       "1                   Ariquemes\n",
       "2                      Cabixi\n",
       "3                      Cacoal\n",
       "4                  Cerejeiras\n",
       "                ...          \n",
       "5565               Vianópolis\n",
       "5566           Vicentinópolis\n",
       "5567                 Vila Boa\n",
       "5568            Vila Propício\n",
       "5569                 Brasília\n",
       "Name: nome, Length: 5570, dtype: object"
      ]
     },
     "execution_count": 84,
     "metadata": {
      "tags": []
     },
     "output_type": "execute_result"
    }
   ],
   "source": [
    "populacao.nome"
   ]
  },
  {
   "cell_type": "markdown",
   "metadata": {
    "id": "gVENEiroRWIh"
   },
   "source": [
    "Também é possível renomeiar os índices:"
   ]
  },
  {
   "cell_type": "code",
   "execution_count": null,
   "metadata": {
    "colab": {
     "base_uri": "https://localhost:8080/",
     "height": 424
    },
    "id": "TwFekf2_HTWL",
    "outputId": "0de9a99c-504b-4970-ffd0-f14e962d61a5"
   },
   "outputs": [
    {
     "data": {
      "text/html": [
       "<div>\n",
       "<style scoped>\n",
       "    .dataframe tbody tr th:only-of-type {\n",
       "        vertical-align: middle;\n",
       "    }\n",
       "\n",
       "    .dataframe tbody tr th {\n",
       "        vertical-align: top;\n",
       "    }\n",
       "\n",
       "    .dataframe thead th {\n",
       "        text-align: right;\n",
       "    }\n",
       "</style>\n",
       "<table border=\"1\" class=\"dataframe\">\n",
       "  <thead>\n",
       "    <tr style=\"text-align: right;\">\n",
       "      <th></th>\n",
       "      <th>uf</th>\n",
       "      <th>coduf</th>\n",
       "      <th>codmunic</th>\n",
       "      <th>nome</th>\n",
       "      <th>pessoas</th>\n",
       "    </tr>\n",
       "  </thead>\n",
       "  <tbody>\n",
       "    <tr>\n",
       "      <th>Primeira cidade</th>\n",
       "      <td>RO</td>\n",
       "      <td>11</td>\n",
       "      <td>15</td>\n",
       "      <td>Alta Floresta D'Oeste</td>\n",
       "      <td>22945</td>\n",
       "    </tr>\n",
       "    <tr>\n",
       "      <th>Segunda cidade</th>\n",
       "      <td>RO</td>\n",
       "      <td>11</td>\n",
       "      <td>23</td>\n",
       "      <td>Ariquemes</td>\n",
       "      <td>107863</td>\n",
       "    </tr>\n",
       "    <tr>\n",
       "      <th>2</th>\n",
       "      <td>RO</td>\n",
       "      <td>11</td>\n",
       "      <td>31</td>\n",
       "      <td>Cabixi</td>\n",
       "      <td>5312</td>\n",
       "    </tr>\n",
       "    <tr>\n",
       "      <th>3</th>\n",
       "      <td>RO</td>\n",
       "      <td>11</td>\n",
       "      <td>49</td>\n",
       "      <td>Cacoal</td>\n",
       "      <td>85359</td>\n",
       "    </tr>\n",
       "    <tr>\n",
       "      <th>4</th>\n",
       "      <td>RO</td>\n",
       "      <td>11</td>\n",
       "      <td>56</td>\n",
       "      <td>Cerejeiras</td>\n",
       "      <td>16323</td>\n",
       "    </tr>\n",
       "    <tr>\n",
       "      <th>...</th>\n",
       "      <td>...</td>\n",
       "      <td>...</td>\n",
       "      <td>...</td>\n",
       "      <td>...</td>\n",
       "      <td>...</td>\n",
       "    </tr>\n",
       "    <tr>\n",
       "      <th>5565</th>\n",
       "      <td>GO</td>\n",
       "      <td>52</td>\n",
       "      <td>22005</td>\n",
       "      <td>Vianópolis</td>\n",
       "      <td>13863</td>\n",
       "    </tr>\n",
       "    <tr>\n",
       "      <th>5566</th>\n",
       "      <td>GO</td>\n",
       "      <td>52</td>\n",
       "      <td>22054</td>\n",
       "      <td>Vicentinópolis</td>\n",
       "      <td>8743</td>\n",
       "    </tr>\n",
       "    <tr>\n",
       "      <th>5567</th>\n",
       "      <td>GO</td>\n",
       "      <td>52</td>\n",
       "      <td>22203</td>\n",
       "      <td>Vila Boa</td>\n",
       "      <td>6171</td>\n",
       "    </tr>\n",
       "    <tr>\n",
       "      <th>5568</th>\n",
       "      <td>GO</td>\n",
       "      <td>52</td>\n",
       "      <td>22302</td>\n",
       "      <td>Vila Propício</td>\n",
       "      <td>5821</td>\n",
       "    </tr>\n",
       "    <tr>\n",
       "      <th>5569</th>\n",
       "      <td>DF</td>\n",
       "      <td>53</td>\n",
       "      <td>108</td>\n",
       "      <td>Brasília</td>\n",
       "      <td>3015268</td>\n",
       "    </tr>\n",
       "  </tbody>\n",
       "</table>\n",
       "<p>5570 rows × 5 columns</p>\n",
       "</div>"
      ],
      "text/plain": [
       "                 uf  coduf  codmunic                   nome  pessoas\n",
       "Primeira cidade  RO     11        15  Alta Floresta D'Oeste    22945\n",
       "Segunda cidade   RO     11        23              Ariquemes   107863\n",
       "2                RO     11        31                 Cabixi     5312\n",
       "3                RO     11        49                 Cacoal    85359\n",
       "4                RO     11        56             Cerejeiras    16323\n",
       "...              ..    ...       ...                    ...      ...\n",
       "5565             GO     52     22005             Vianópolis    13863\n",
       "5566             GO     52     22054         Vicentinópolis     8743\n",
       "5567             GO     52     22203               Vila Boa     6171\n",
       "5568             GO     52     22302          Vila Propício     5821\n",
       "5569             DF     53       108               Brasília  3015268\n",
       "\n",
       "[5570 rows x 5 columns]"
      ]
     },
     "execution_count": 85,
     "metadata": {
      "tags": []
     },
     "output_type": "execute_result"
    }
   ],
   "source": [
    "populacao.rename(index={0:'Primeira cidade',1:'Segunda cidade'})"
   ]
  },
  {
   "cell_type": "markdown",
   "metadata": {
    "id": "iEG7J0eaRjr_"
   },
   "source": [
    "Renomear as colunas pode ser muito útil e provavelmente isso é bastante utilizado, mas para renomear índices. Como as colunas e os índices possuem o atributo ```name```, é mais conveniente mudar este nome através do método **.rename_axis()**:"
   ]
  },
  {
   "cell_type": "code",
   "execution_count": null,
   "metadata": {
    "colab": {
     "base_uri": "https://localhost:8080/",
     "height": 455
    },
    "id": "nwchYRxCMiqB",
    "outputId": "f66124e5-d60b-45e5-919f-39133b71f71c"
   },
   "outputs": [
    {
     "data": {
      "text/html": [
       "<div>\n",
       "<style scoped>\n",
       "    .dataframe tbody tr th:only-of-type {\n",
       "        vertical-align: middle;\n",
       "    }\n",
       "\n",
       "    .dataframe tbody tr th {\n",
       "        vertical-align: top;\n",
       "    }\n",
       "\n",
       "    .dataframe thead th {\n",
       "        text-align: right;\n",
       "    }\n",
       "</style>\n",
       "<table border=\"1\" class=\"dataframe\">\n",
       "  <thead>\n",
       "    <tr style=\"text-align: right;\">\n",
       "      <th>info</th>\n",
       "      <th>uf</th>\n",
       "      <th>coduf</th>\n",
       "      <th>codmunic</th>\n",
       "      <th>nome</th>\n",
       "      <th>pessoas</th>\n",
       "    </tr>\n",
       "    <tr>\n",
       "      <th>cidade</th>\n",
       "      <th></th>\n",
       "      <th></th>\n",
       "      <th></th>\n",
       "      <th></th>\n",
       "      <th></th>\n",
       "    </tr>\n",
       "  </thead>\n",
       "  <tbody>\n",
       "    <tr>\n",
       "      <th>0</th>\n",
       "      <td>RO</td>\n",
       "      <td>11</td>\n",
       "      <td>15</td>\n",
       "      <td>Alta Floresta D'Oeste</td>\n",
       "      <td>22945</td>\n",
       "    </tr>\n",
       "    <tr>\n",
       "      <th>1</th>\n",
       "      <td>RO</td>\n",
       "      <td>11</td>\n",
       "      <td>23</td>\n",
       "      <td>Ariquemes</td>\n",
       "      <td>107863</td>\n",
       "    </tr>\n",
       "    <tr>\n",
       "      <th>2</th>\n",
       "      <td>RO</td>\n",
       "      <td>11</td>\n",
       "      <td>31</td>\n",
       "      <td>Cabixi</td>\n",
       "      <td>5312</td>\n",
       "    </tr>\n",
       "    <tr>\n",
       "      <th>3</th>\n",
       "      <td>RO</td>\n",
       "      <td>11</td>\n",
       "      <td>49</td>\n",
       "      <td>Cacoal</td>\n",
       "      <td>85359</td>\n",
       "    </tr>\n",
       "    <tr>\n",
       "      <th>4</th>\n",
       "      <td>RO</td>\n",
       "      <td>11</td>\n",
       "      <td>56</td>\n",
       "      <td>Cerejeiras</td>\n",
       "      <td>16323</td>\n",
       "    </tr>\n",
       "    <tr>\n",
       "      <th>...</th>\n",
       "      <td>...</td>\n",
       "      <td>...</td>\n",
       "      <td>...</td>\n",
       "      <td>...</td>\n",
       "      <td>...</td>\n",
       "    </tr>\n",
       "    <tr>\n",
       "      <th>5565</th>\n",
       "      <td>GO</td>\n",
       "      <td>52</td>\n",
       "      <td>22005</td>\n",
       "      <td>Vianópolis</td>\n",
       "      <td>13863</td>\n",
       "    </tr>\n",
       "    <tr>\n",
       "      <th>5566</th>\n",
       "      <td>GO</td>\n",
       "      <td>52</td>\n",
       "      <td>22054</td>\n",
       "      <td>Vicentinópolis</td>\n",
       "      <td>8743</td>\n",
       "    </tr>\n",
       "    <tr>\n",
       "      <th>5567</th>\n",
       "      <td>GO</td>\n",
       "      <td>52</td>\n",
       "      <td>22203</td>\n",
       "      <td>Vila Boa</td>\n",
       "      <td>6171</td>\n",
       "    </tr>\n",
       "    <tr>\n",
       "      <th>5568</th>\n",
       "      <td>GO</td>\n",
       "      <td>52</td>\n",
       "      <td>22302</td>\n",
       "      <td>Vila Propício</td>\n",
       "      <td>5821</td>\n",
       "    </tr>\n",
       "    <tr>\n",
       "      <th>5569</th>\n",
       "      <td>DF</td>\n",
       "      <td>53</td>\n",
       "      <td>108</td>\n",
       "      <td>Brasília</td>\n",
       "      <td>3015268</td>\n",
       "    </tr>\n",
       "  </tbody>\n",
       "</table>\n",
       "<p>5570 rows × 5 columns</p>\n",
       "</div>"
      ],
      "text/plain": [
       "info    uf  coduf  codmunic                   nome  pessoas\n",
       "cidade                                                     \n",
       "0       RO     11        15  Alta Floresta D'Oeste    22945\n",
       "1       RO     11        23              Ariquemes   107863\n",
       "2       RO     11        31                 Cabixi     5312\n",
       "3       RO     11        49                 Cacoal    85359\n",
       "4       RO     11        56             Cerejeiras    16323\n",
       "...     ..    ...       ...                    ...      ...\n",
       "5565    GO     52     22005             Vianópolis    13863\n",
       "5566    GO     52     22054         Vicentinópolis     8743\n",
       "5567    GO     52     22203               Vila Boa     6171\n",
       "5568    GO     52     22302          Vila Propício     5821\n",
       "5569    DF     53       108               Brasília  3015268\n",
       "\n",
       "[5570 rows x 5 columns]"
      ]
     },
     "execution_count": 86,
     "metadata": {
      "tags": []
     },
     "output_type": "execute_result"
    }
   ],
   "source": [
    "populacao.rename_axis(\"cidade\", axis='rows').rename_axis(\"info\", axis='columns')"
   ]
  },
  {
   "cell_type": "markdown",
   "metadata": {
    "id": "qBfdntDpHRKR"
   },
   "source": [
    "### Combinando"
   ]
  },
  {
   "cell_type": "markdown",
   "metadata": {
    "id": "LN_Oks5QTbYr"
   },
   "source": [
    "Suponha que metade das nossa **CIDADES** estejm em um **DataFrame** e a outra metade em outro **DataFrame**, podemos combinar estas informações usando **.concat()**"
   ]
  },
  {
   "cell_type": "code",
   "execution_count": null,
   "metadata": {
    "colab": {
     "base_uri": "https://localhost:8080/",
     "height": 424
    },
    "id": "-Qd9hTzZHSNA",
    "outputId": "1bc1ce7b-16cc-4898-8f22-d6c2a36f25dd"
   },
   "outputs": [
    {
     "data": {
      "text/html": [
       "<div>\n",
       "<style scoped>\n",
       "    .dataframe tbody tr th:only-of-type {\n",
       "        vertical-align: middle;\n",
       "    }\n",
       "\n",
       "    .dataframe tbody tr th {\n",
       "        vertical-align: top;\n",
       "    }\n",
       "\n",
       "    .dataframe thead th {\n",
       "        text-align: right;\n",
       "    }\n",
       "</style>\n",
       "<table border=\"1\" class=\"dataframe\">\n",
       "  <thead>\n",
       "    <tr style=\"text-align: right;\">\n",
       "      <th></th>\n",
       "      <th>uf</th>\n",
       "      <th>coduf</th>\n",
       "      <th>codmunic</th>\n",
       "      <th>nome</th>\n",
       "      <th>pessoas</th>\n",
       "    </tr>\n",
       "  </thead>\n",
       "  <tbody>\n",
       "    <tr>\n",
       "      <th>0</th>\n",
       "      <td>RO</td>\n",
       "      <td>11</td>\n",
       "      <td>15</td>\n",
       "      <td>Alta Floresta D'Oeste</td>\n",
       "      <td>22945</td>\n",
       "    </tr>\n",
       "    <tr>\n",
       "      <th>1</th>\n",
       "      <td>RO</td>\n",
       "      <td>11</td>\n",
       "      <td>23</td>\n",
       "      <td>Ariquemes</td>\n",
       "      <td>107863</td>\n",
       "    </tr>\n",
       "    <tr>\n",
       "      <th>2</th>\n",
       "      <td>RO</td>\n",
       "      <td>11</td>\n",
       "      <td>31</td>\n",
       "      <td>Cabixi</td>\n",
       "      <td>5312</td>\n",
       "    </tr>\n",
       "    <tr>\n",
       "      <th>3</th>\n",
       "      <td>RO</td>\n",
       "      <td>11</td>\n",
       "      <td>49</td>\n",
       "      <td>Cacoal</td>\n",
       "      <td>85359</td>\n",
       "    </tr>\n",
       "    <tr>\n",
       "      <th>4</th>\n",
       "      <td>RO</td>\n",
       "      <td>11</td>\n",
       "      <td>56</td>\n",
       "      <td>Cerejeiras</td>\n",
       "      <td>16323</td>\n",
       "    </tr>\n",
       "    <tr>\n",
       "      <th>...</th>\n",
       "      <td>...</td>\n",
       "      <td>...</td>\n",
       "      <td>...</td>\n",
       "      <td>...</td>\n",
       "      <td>...</td>\n",
       "    </tr>\n",
       "    <tr>\n",
       "      <th>5565</th>\n",
       "      <td>GO</td>\n",
       "      <td>52</td>\n",
       "      <td>22005</td>\n",
       "      <td>Vianópolis</td>\n",
       "      <td>13863</td>\n",
       "    </tr>\n",
       "    <tr>\n",
       "      <th>5566</th>\n",
       "      <td>GO</td>\n",
       "      <td>52</td>\n",
       "      <td>22054</td>\n",
       "      <td>Vicentinópolis</td>\n",
       "      <td>8743</td>\n",
       "    </tr>\n",
       "    <tr>\n",
       "      <th>5567</th>\n",
       "      <td>GO</td>\n",
       "      <td>52</td>\n",
       "      <td>22203</td>\n",
       "      <td>Vila Boa</td>\n",
       "      <td>6171</td>\n",
       "    </tr>\n",
       "    <tr>\n",
       "      <th>5568</th>\n",
       "      <td>GO</td>\n",
       "      <td>52</td>\n",
       "      <td>22302</td>\n",
       "      <td>Vila Propício</td>\n",
       "      <td>5821</td>\n",
       "    </tr>\n",
       "    <tr>\n",
       "      <th>5569</th>\n",
       "      <td>DF</td>\n",
       "      <td>53</td>\n",
       "      <td>108</td>\n",
       "      <td>Brasília</td>\n",
       "      <td>3015268</td>\n",
       "    </tr>\n",
       "  </tbody>\n",
       "</table>\n",
       "<p>5570 rows × 5 columns</p>\n",
       "</div>"
      ],
      "text/plain": [
       "      uf  coduf  codmunic                   nome  pessoas\n",
       "0     RO     11        15  Alta Floresta D'Oeste    22945\n",
       "1     RO     11        23              Ariquemes   107863\n",
       "2     RO     11        31                 Cabixi     5312\n",
       "3     RO     11        49                 Cacoal    85359\n",
       "4     RO     11        56             Cerejeiras    16323\n",
       "...   ..    ...       ...                    ...      ...\n",
       "5565  GO     52     22005             Vianópolis    13863\n",
       "5566  GO     52     22054         Vicentinópolis     8743\n",
       "5567  GO     52     22203               Vila Boa     6171\n",
       "5568  GO     52     22302          Vila Propício     5821\n",
       "5569  DF     53       108               Brasília  3015268\n",
       "\n",
       "[5570 rows x 5 columns]"
      ]
     },
     "execution_count": 87,
     "metadata": {
      "tags": []
     },
     "output_type": "execute_result"
    }
   ],
   "source": [
    "popA = populacao.loc[0:2784,:]\n",
    "popB = populacao.loc[2785:5570,:]\n",
    "pd.concat([popA, popB])"
   ]
  },
  {
   "cell_type": "markdown",
   "metadata": {
    "id": "UwOsMiBuT96H"
   },
   "source": [
    "E para o caso de termos 2 **DataFrames** com todas as cidades, mas cada DataFrame tem metade das informações, podemos combinar utilizando o mesmo método:\n",
    "\n",
    "(Note que no exemplo abaixo, foi combinado os mesmos **DataFrame**'s, aqueles parâmetros adicionais podem criar um sufixo caso os **DataFrame**'s combinados os mesmos nomes de coluna:"
   ]
  },
  {
   "cell_type": "code",
   "execution_count": null,
   "metadata": {
    "colab": {
     "base_uri": "https://localhost:8080/",
     "height": 424
    },
    "id": "wPWuGYFzOU5t",
    "outputId": "e486b80c-2a02-4bf6-fd44-56848da0720a"
   },
   "outputs": [
    {
     "data": {
      "text/html": [
       "<div>\n",
       "<style scoped>\n",
       "    .dataframe tbody tr th:only-of-type {\n",
       "        vertical-align: middle;\n",
       "    }\n",
       "\n",
       "    .dataframe tbody tr th {\n",
       "        vertical-align: top;\n",
       "    }\n",
       "\n",
       "    .dataframe thead th {\n",
       "        text-align: right;\n",
       "    }\n",
       "</style>\n",
       "<table border=\"1\" class=\"dataframe\">\n",
       "  <thead>\n",
       "    <tr style=\"text-align: right;\">\n",
       "      <th></th>\n",
       "      <th>uf_A</th>\n",
       "      <th>coduf_A</th>\n",
       "      <th>codmunic_A</th>\n",
       "      <th>uf_B</th>\n",
       "      <th>coduf_B</th>\n",
       "      <th>codmunic_B</th>\n",
       "    </tr>\n",
       "  </thead>\n",
       "  <tbody>\n",
       "    <tr>\n",
       "      <th>0</th>\n",
       "      <td>RO</td>\n",
       "      <td>11</td>\n",
       "      <td>15</td>\n",
       "      <td>RO</td>\n",
       "      <td>11</td>\n",
       "      <td>15</td>\n",
       "    </tr>\n",
       "    <tr>\n",
       "      <th>1</th>\n",
       "      <td>RO</td>\n",
       "      <td>11</td>\n",
       "      <td>23</td>\n",
       "      <td>RO</td>\n",
       "      <td>11</td>\n",
       "      <td>23</td>\n",
       "    </tr>\n",
       "    <tr>\n",
       "      <th>2</th>\n",
       "      <td>RO</td>\n",
       "      <td>11</td>\n",
       "      <td>31</td>\n",
       "      <td>RO</td>\n",
       "      <td>11</td>\n",
       "      <td>31</td>\n",
       "    </tr>\n",
       "    <tr>\n",
       "      <th>3</th>\n",
       "      <td>RO</td>\n",
       "      <td>11</td>\n",
       "      <td>49</td>\n",
       "      <td>RO</td>\n",
       "      <td>11</td>\n",
       "      <td>49</td>\n",
       "    </tr>\n",
       "    <tr>\n",
       "      <th>4</th>\n",
       "      <td>RO</td>\n",
       "      <td>11</td>\n",
       "      <td>56</td>\n",
       "      <td>RO</td>\n",
       "      <td>11</td>\n",
       "      <td>56</td>\n",
       "    </tr>\n",
       "    <tr>\n",
       "      <th>...</th>\n",
       "      <td>...</td>\n",
       "      <td>...</td>\n",
       "      <td>...</td>\n",
       "      <td>...</td>\n",
       "      <td>...</td>\n",
       "      <td>...</td>\n",
       "    </tr>\n",
       "    <tr>\n",
       "      <th>5565</th>\n",
       "      <td>GO</td>\n",
       "      <td>52</td>\n",
       "      <td>22005</td>\n",
       "      <td>GO</td>\n",
       "      <td>52</td>\n",
       "      <td>22005</td>\n",
       "    </tr>\n",
       "    <tr>\n",
       "      <th>5566</th>\n",
       "      <td>GO</td>\n",
       "      <td>52</td>\n",
       "      <td>22054</td>\n",
       "      <td>GO</td>\n",
       "      <td>52</td>\n",
       "      <td>22054</td>\n",
       "    </tr>\n",
       "    <tr>\n",
       "      <th>5567</th>\n",
       "      <td>GO</td>\n",
       "      <td>52</td>\n",
       "      <td>22203</td>\n",
       "      <td>GO</td>\n",
       "      <td>52</td>\n",
       "      <td>22203</td>\n",
       "    </tr>\n",
       "    <tr>\n",
       "      <th>5568</th>\n",
       "      <td>GO</td>\n",
       "      <td>52</td>\n",
       "      <td>22302</td>\n",
       "      <td>GO</td>\n",
       "      <td>52</td>\n",
       "      <td>22302</td>\n",
       "    </tr>\n",
       "    <tr>\n",
       "      <th>5569</th>\n",
       "      <td>DF</td>\n",
       "      <td>53</td>\n",
       "      <td>108</td>\n",
       "      <td>DF</td>\n",
       "      <td>53</td>\n",
       "      <td>108</td>\n",
       "    </tr>\n",
       "  </tbody>\n",
       "</table>\n",
       "<p>5570 rows × 6 columns</p>\n",
       "</div>"
      ],
      "text/plain": [
       "     uf_A  coduf_A  codmunic_A uf_B  coduf_B  codmunic_B\n",
       "0      RO       11          15   RO       11          15\n",
       "1      RO       11          23   RO       11          23\n",
       "2      RO       11          31   RO       11          31\n",
       "3      RO       11          49   RO       11          49\n",
       "4      RO       11          56   RO       11          56\n",
       "...   ...      ...         ...  ...      ...         ...\n",
       "5565   GO       52       22005   GO       52       22005\n",
       "5566   GO       52       22054   GO       52       22054\n",
       "5567   GO       52       22203   GO       52       22203\n",
       "5568   GO       52       22302   GO       52       22302\n",
       "5569   DF       53         108   DF       53         108\n",
       "\n",
       "[5570 rows x 6 columns]"
      ]
     },
     "execution_count": 88,
     "metadata": {
      "tags": []
     },
     "output_type": "execute_result"
    }
   ],
   "source": [
    "popA = populacao.iloc[:,0:3]\n",
    "popB = populacao.iloc[:,3:5]\n",
    "\n",
    "popA.join(popA, lsuffix='_A', rsuffix='_B')"
   ]
  },
  {
   "cell_type": "markdown",
   "metadata": {
    "id": "_xiVs5XEUsvo"
   },
   "source": [
    "Note que mesmo passado estes parâmetros, os sufixos não foram criados, porque todas as colunas são diferentes: "
   ]
  },
  {
   "cell_type": "code",
   "execution_count": null,
   "metadata": {
    "colab": {
     "base_uri": "https://localhost:8080/",
     "height": 424
    },
    "id": "RtwWwg80O5Ni",
    "outputId": "4533a9fe-0992-447d-8dcb-4aa036898872"
   },
   "outputs": [
    {
     "data": {
      "text/html": [
       "<div>\n",
       "<style scoped>\n",
       "    .dataframe tbody tr th:only-of-type {\n",
       "        vertical-align: middle;\n",
       "    }\n",
       "\n",
       "    .dataframe tbody tr th {\n",
       "        vertical-align: top;\n",
       "    }\n",
       "\n",
       "    .dataframe thead th {\n",
       "        text-align: right;\n",
       "    }\n",
       "</style>\n",
       "<table border=\"1\" class=\"dataframe\">\n",
       "  <thead>\n",
       "    <tr style=\"text-align: right;\">\n",
       "      <th></th>\n",
       "      <th>uf</th>\n",
       "      <th>coduf</th>\n",
       "      <th>codmunic</th>\n",
       "      <th>nome</th>\n",
       "      <th>pessoas</th>\n",
       "    </tr>\n",
       "  </thead>\n",
       "  <tbody>\n",
       "    <tr>\n",
       "      <th>0</th>\n",
       "      <td>RO</td>\n",
       "      <td>11</td>\n",
       "      <td>15</td>\n",
       "      <td>Alta Floresta D'Oeste</td>\n",
       "      <td>22945</td>\n",
       "    </tr>\n",
       "    <tr>\n",
       "      <th>1</th>\n",
       "      <td>RO</td>\n",
       "      <td>11</td>\n",
       "      <td>23</td>\n",
       "      <td>Ariquemes</td>\n",
       "      <td>107863</td>\n",
       "    </tr>\n",
       "    <tr>\n",
       "      <th>2</th>\n",
       "      <td>RO</td>\n",
       "      <td>11</td>\n",
       "      <td>31</td>\n",
       "      <td>Cabixi</td>\n",
       "      <td>5312</td>\n",
       "    </tr>\n",
       "    <tr>\n",
       "      <th>3</th>\n",
       "      <td>RO</td>\n",
       "      <td>11</td>\n",
       "      <td>49</td>\n",
       "      <td>Cacoal</td>\n",
       "      <td>85359</td>\n",
       "    </tr>\n",
       "    <tr>\n",
       "      <th>4</th>\n",
       "      <td>RO</td>\n",
       "      <td>11</td>\n",
       "      <td>56</td>\n",
       "      <td>Cerejeiras</td>\n",
       "      <td>16323</td>\n",
       "    </tr>\n",
       "    <tr>\n",
       "      <th>...</th>\n",
       "      <td>...</td>\n",
       "      <td>...</td>\n",
       "      <td>...</td>\n",
       "      <td>...</td>\n",
       "      <td>...</td>\n",
       "    </tr>\n",
       "    <tr>\n",
       "      <th>5565</th>\n",
       "      <td>GO</td>\n",
       "      <td>52</td>\n",
       "      <td>22005</td>\n",
       "      <td>Vianópolis</td>\n",
       "      <td>13863</td>\n",
       "    </tr>\n",
       "    <tr>\n",
       "      <th>5566</th>\n",
       "      <td>GO</td>\n",
       "      <td>52</td>\n",
       "      <td>22054</td>\n",
       "      <td>Vicentinópolis</td>\n",
       "      <td>8743</td>\n",
       "    </tr>\n",
       "    <tr>\n",
       "      <th>5567</th>\n",
       "      <td>GO</td>\n",
       "      <td>52</td>\n",
       "      <td>22203</td>\n",
       "      <td>Vila Boa</td>\n",
       "      <td>6171</td>\n",
       "    </tr>\n",
       "    <tr>\n",
       "      <th>5568</th>\n",
       "      <td>GO</td>\n",
       "      <td>52</td>\n",
       "      <td>22302</td>\n",
       "      <td>Vila Propício</td>\n",
       "      <td>5821</td>\n",
       "    </tr>\n",
       "    <tr>\n",
       "      <th>5569</th>\n",
       "      <td>DF</td>\n",
       "      <td>53</td>\n",
       "      <td>108</td>\n",
       "      <td>Brasília</td>\n",
       "      <td>3015268</td>\n",
       "    </tr>\n",
       "  </tbody>\n",
       "</table>\n",
       "<p>5570 rows × 5 columns</p>\n",
       "</div>"
      ],
      "text/plain": [
       "      uf  coduf  codmunic                   nome  pessoas\n",
       "0     RO     11        15  Alta Floresta D'Oeste    22945\n",
       "1     RO     11        23              Ariquemes   107863\n",
       "2     RO     11        31                 Cabixi     5312\n",
       "3     RO     11        49                 Cacoal    85359\n",
       "4     RO     11        56             Cerejeiras    16323\n",
       "...   ..    ...       ...                    ...      ...\n",
       "5565  GO     52     22005             Vianópolis    13863\n",
       "5566  GO     52     22054         Vicentinópolis     8743\n",
       "5567  GO     52     22203               Vila Boa     6171\n",
       "5568  GO     52     22302          Vila Propício     5821\n",
       "5569  DF     53       108               Brasília  3015268\n",
       "\n",
       "[5570 rows x 5 columns]"
      ]
     },
     "execution_count": 90,
     "metadata": {
      "tags": []
     },
     "output_type": "execute_result"
    }
   ],
   "source": [
    "popA.join(popB) # popA.join(popB)"
   ]
  },
  {
   "cell_type": "markdown",
   "metadata": {
    "id": "WxgPRPgkVBI1"
   },
   "source": [
    "Isso é tudo pessoal!"
   ]
  }
 ],
 "metadata": {
  "colab": {
   "collapsed_sections": [
    "zSjB5W4GFgt-"
   ],
   "name": "Pandas Relampago.ipynb",
   "provenance": [],
   "toc_visible": true
  },
  "kernelspec": {
   "display_name": "Python 3 (ipykernel)",
   "language": "python",
   "name": "python3"
  },
  "language_info": {
   "codemirror_mode": {
    "name": "ipython",
    "version": 3
   },
   "file_extension": ".py",
   "mimetype": "text/x-python",
   "name": "python",
   "nbconvert_exporter": "python",
   "pygments_lexer": "ipython3",
   "version": "3.9.5"
  }
 },
 "nbformat": 4,
 "nbformat_minor": 4
}
